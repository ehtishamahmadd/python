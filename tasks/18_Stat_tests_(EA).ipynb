{
 "cells": [
  {
   "cell_type": "markdown",
   "metadata": {},
   "source": [
    "# 1. Shapiro Wilk test"
   ]
  },
  {
   "cell_type": "markdown",
   "metadata": {},
   "source": [
    "Test whether a data sample has a Gaussian distribution.\n",
    "### Assumption\n",
    "1. Observations in each sample are independent and identically distributed(iid).\n",
    "2. H0: the sample has a Gaussian Normal distribution.\n",
    "3. H1: the sample does not have a Gaussian/Normal distribution."
   ]
  },
  {
   "cell_type": "code",
   "execution_count": 1,
   "metadata": {},
   "outputs": [
    {
     "name": "stdout",
     "output_type": "stream",
     "text": [
      "stat = 0.8613372445106506\n",
      "p = 0.19380125403404236\n",
      "The data is normal\n"
     ]
    }
   ],
   "source": [
    "#Example of Shapiro Wilk test\n",
    "from scipy.stats import shapiro\n",
    "data=[0.855,0.215,1.1255,-9.2455,-7.2354,-3.2155]\n",
    "stat, p = shapiro(data)\n",
    "print('stat =', stat)\n",
    "print('p =', p)\n",
    "if p > 0.05:\n",
    "    print('The data is normal')\n",
    "else:\n",
    "    print('The data is not normal')"
   ]
  },
  {
   "cell_type": "code",
   "execution_count": 11,
   "metadata": {},
   "outputs": [
    {
     "name": "stderr",
     "output_type": "stream",
     "text": [
      "C:\\Users\\Lenovo\\AppData\\Local\\Programs\\Python\\Python310\\lib\\site-packages\\seaborn\\_decorators.py:36: FutureWarning: Pass the following variable as a keyword arg: x. From version 0.12, the only valid positional argument will be `data`, and passing other arguments without an explicit keyword will result in an error or misinterpretation.\n",
      "  warnings.warn(\n"
     ]
    },
    {
     "data": {
      "text/plain": [
       "<AxesSubplot:xlabel='age'>"
      ]
     },
     "execution_count": 11,
     "metadata": {},
     "output_type": "execute_result"
    },
    {
     "data": {
      "image/png": "[encoded data removed]",
      "text/plain": [
       "<Figure size 432x288 with 1 Axes>"
      ]
     },
     "metadata": {},
     "output_type": "display_data"
    }
   ],
   "source": [
    "import pandas as pd\n",
    "import numpy as np\n",
    "import seaborn as sns\n",
    "import matplotlib.pyplot as plt\n",
    "sns.set_style(\"ticks\")\n",
    "ks=sns.load_dataset('titanic')\n",
    "# ks['age'].hist()\n",
    "sns.boxplot(ks['age'])"
   ]
  },
  {
   "cell_type": "code",
   "execution_count": 12,
   "metadata": {},
   "outputs": [
    {
     "name": "stderr",
     "output_type": "stream",
     "text": [
      "C:\\Users\\Lenovo\\AppData\\Local\\Programs\\Python\\Python310\\lib\\site-packages\\seaborn\\_decorators.py:36: FutureWarning: Pass the following variable as a keyword arg: x. From version 0.12, the only valid positional argument will be `data`, and passing other arguments without an explicit keyword will result in an error or misinterpretation.\n",
      "  warnings.warn(\n"
     ]
    },
    {
     "name": "stdout",
     "output_type": "stream",
     "text": [
      "stat = nan\n",
      "p = 1.0\n",
      "The data is normal\n"
     ]
    },
    {
     "data": {
      "text/plain": [
       "<AxesSubplot:xlabel='age'>"
      ]
     },
     "execution_count": 12,
     "metadata": {},
     "output_type": "execute_result"
    },
    {
     "data": {
      "image/png": "[encoded data removed]",
      "text/plain": [
       "<Figure size 432x288 with 1 Axes>"
      ]
     },
     "metadata": {},
     "output_type": "display_data"
    }
   ],
   "source": [
    "from scipy.stats import shapiro\n",
    "stat, p = shapiro(ks['age'])\n",
    "print('stat =', stat)\n",
    "print('p =', p)\n",
    "if p > 0.05:\n",
    "    print('The data is normal')\n",
    "else:\n",
    "    print('The data is not normal')\n",
    "sns.boxplot(ks['age'])"
   ]
  },
  {
   "cell_type": "code",
   "execution_count": 13,
   "metadata": {},
   "outputs": [
    {
     "name": "stdout",
     "output_type": "stream",
     "text": [
      "stat= 0.9906661510467529\n",
      "p= 0.28414419293403625\n",
      "The data is normal\n"
     ]
    }
   ],
   "source": [
    "from scipy.stats import shapiro\n",
    "sns.set_style('ticks')\n",
    "ks= ks.dropna()\n",
    "stat, p = shapiro(ks['age'])\n",
    "print('stat=',stat)\n",
    "print('p=',p)\n",
    "if p > 0.05:\n",
    "    print('The data is normal')\n",
    "else:\n",
    "    print('The data is not normal')"
   ]
  },
  {
   "cell_type": "code",
   "execution_count": 14,
   "metadata": {},
   "outputs": [
    {
     "name": "stderr",
     "output_type": "stream",
     "text": [
      "C:\\Users\\Lenovo\\AppData\\Local\\Programs\\Python\\Python310\\lib\\site-packages\\seaborn\\_decorators.py:36: FutureWarning: Pass the following variable as a keyword arg: x. From version 0.12, the only valid positional argument will be `data`, and passing other arguments without an explicit keyword will result in an error or misinterpretation.\n",
      "  warnings.warn(\n"
     ]
    },
    {
     "data": {
      "text/plain": [
       "<AxesSubplot:xlabel='age'>"
      ]
     },
     "execution_count": 14,
     "metadata": {},
     "output_type": "execute_result"
    },
    {
     "data": {
      "image/png": "[encoded data removed]",
      "text/plain": [
       "<Figure size 432x288 with 1 Axes>"
      ]
     },
     "metadata": {},
     "output_type": "display_data"
    }
   ],
   "source": [
    "sns.boxplot(ks['age'])"
   ]
  },
  {
   "cell_type": "code",
   "execution_count": 15,
   "metadata": {},
   "outputs": [
    {
     "name": "stderr",
     "output_type": "stream",
     "text": [
      "C:\\Users\\Lenovo\\AppData\\Local\\Programs\\Python\\Python310\\lib\\site-packages\\seaborn\\_decorators.py:36: FutureWarning: Pass the following variable as a keyword arg: x. From version 0.12, the only valid positional argument will be `data`, and passing other arguments without an explicit keyword will result in an error or misinterpretation.\n",
      "  warnings.warn(\n"
     ]
    },
    {
     "data": {
      "text/plain": [
       "<AxesSubplot:xlabel='fare'>"
      ]
     },
     "execution_count": 15,
     "metadata": {},
     "output_type": "execute_result"
    },
    {
     "data": {
      "image/png": "[encoded data removed]",
      "text/plain": [
       "<Figure size 432x288 with 1 Axes>"
      ]
     },
     "metadata": {},
     "output_type": "display_data"
    }
   ],
   "source": [
    "import pandas as pd\n",
    "import numpy as np\n",
    "import seaborn as sns\n",
    "import matplotlib.pyplot as plt\n",
    "sns.set_style(\"ticks\")\n",
    "ks=sns.load_dataset('titanic')\n",
    "sns.boxplot(ks['fare'])"
   ]
  },
  {
   "cell_type": "code",
   "execution_count": 16,
   "metadata": {},
   "outputs": [
    {
     "name": "stderr",
     "output_type": "stream",
     "text": [
      "C:\\Users\\Lenovo\\AppData\\Local\\Programs\\Python\\Python310\\lib\\site-packages\\seaborn\\_decorators.py:36: FutureWarning: Pass the following variable as a keyword arg: x. From version 0.12, the only valid positional argument will be `data`, and passing other arguments without an explicit keyword will result in an error or misinterpretation.\n",
      "  warnings.warn(\n"
     ]
    },
    {
     "name": "stdout",
     "output_type": "stream",
     "text": [
      "stat= 0.5218914747238159\n",
      "p= 1.0789998175301091e-43\n",
      "The data is not normal\n"
     ]
    },
    {
     "data": {
      "image/png": "[encoded data removed]",
      "text/plain": [
       "<Figure size 432x288 with 1 Axes>"
      ]
     },
     "metadata": {},
     "output_type": "display_data"
    }
   ],
   "source": [
    "from scipy.stats import shapiro\n",
    "sns.set_style('ticks')\n",
    "stat, p = shapiro(ks['fare'])\n",
    "sns.boxplot(ks['fare'])\n",
    "print('stat=',stat)\n",
    "print('p=',p)\n",
    "if p > 0.05:\n",
    "    print('The data is normal')\n",
    "else:\n",
    "    print('The data is not normal')"
   ]
  },
  {
   "cell_type": "code",
   "execution_count": 17,
   "metadata": {},
   "outputs": [
    {
     "data": {
      "text/plain": [
       "<AxesSubplot:>"
      ]
     },
     "execution_count": 17,
     "metadata": {},
     "output_type": "execute_result"
    },
    {
     "data": {
      "image/png": "[encoded data removed]",
      "text/plain": [
       "<Figure size 432x288 with 1 Axes>"
      ]
     },
     "metadata": {},
     "output_type": "display_data"
    }
   ],
   "source": [
    "ks['fare'].hist()"
   ]
  },
  {
   "cell_type": "code",
   "execution_count": 18,
   "metadata": {},
   "outputs": [
    {
     "name": "stdout",
     "output_type": "stream",
     "text": [
      "stat= 0.7430529594421387\n",
      "p= 1.6486953687823121e-16\n",
      "The data is not normal\n"
     ]
    },
    {
     "name": "stderr",
     "output_type": "stream",
     "text": [
      "C:\\Users\\Lenovo\\AppData\\Local\\Programs\\Python\\Python310\\lib\\site-packages\\seaborn\\_decorators.py:36: FutureWarning: Pass the following variable as a keyword arg: x. From version 0.12, the only valid positional argument will be `data`, and passing other arguments without an explicit keyword will result in an error or misinterpretation.\n",
      "  warnings.warn(\n"
     ]
    },
    {
     "data": {
      "image/png": "[encoded data removed]",
      "text/plain": [
       "<Figure size 432x288 with 1 Axes>"
      ]
     },
     "metadata": {},
     "output_type": "display_data"
    }
   ],
   "source": [
    "from scipy.stats import shapiro\n",
    "ks=ks.dropna()\n",
    "stat, p = shapiro(ks['fare'])\n",
    "sns.boxplot(ks['fare'])\n",
    "print('stat=',stat)\n",
    "print('p=',p)\n",
    "if p > 0.05:\n",
    "    print('The data is normal')\n",
    "else:\n",
    "    print('The data is not normal')"
   ]
  },
  {
   "cell_type": "markdown",
   "metadata": {},
   "source": [
    "----------------\n",
    "\n",
    "# 2. Correlation test\n",
    "#### 1- Pearson's Correlation Coefficient\n",
    "Test whether two samples have a linear relationship.\n",
    "### Assumption\n",
    "1. Observations in each sample are independent and identically distributed(iid).\n",
    "2. Observation in each sample are normally distributed.\n",
    "3. Observations in the each sample have same variance.\n",
    "4. Interpretation\n",
    "\n",
    "- H0: the two samples are independent.\n",
    "- H1: there is a dependecy between the samples."
   ]
  },
  {
   "cell_type": "code",
   "execution_count": 19,
   "metadata": {},
   "outputs": [
    {
     "name": "stdout",
     "output_type": "stream",
     "text": [
      "stat = -0.09073036394094937\n",
      "p = 0.223185916258614\n",
      "Probably independent (No correlation)\n"
     ]
    }
   ],
   "source": [
    "#Example of Pearson's Correlation test\n",
    "from scipy.stats import pearsonr\n",
    "# data1 = [0.873, 2.817, 0.121, -0.945, -0.055, -1.436, 0.360, -1.478, -1.637, -1.869]\n",
    "# data2 = [1.142, -0.432, -0.938, -0.729, -0.846, -0.157, 0.500, 1.183, -1.075, -0.169]\n",
    "stat, p = pearsonr(ks['age'],ks['fare'])\n",
    "print('stat =', stat)\n",
    "print('p =', p)\n",
    "if p > 0.05:\n",
    "    print('Probably independent (No correlation)')\n",
    "else:\n",
    "    print('Probably dependent (correlation exists)')"
   ]
  },
  {
   "cell_type": "markdown",
   "metadata": {},
   "source": [
    "# 2- Spearman's Rank Correlation\n",
    "Tests whether two samples have a monotonic relatioship.\n",
    "### Assumption\n",
    "1. Observations in each sample are independent and identically distributed(iid).\n",
    "2. Observation in each sample can be ranked.\n",
    "3. Interpretation\n",
    "4. Can be done on abnormal distribution(non parametric)\n",
    "\n",
    "- H0: the two samples are independent.\n",
    "- H1: there is a dependecy between the samples."
   ]
  },
  {
   "cell_type": "code",
   "execution_count": 20,
   "metadata": {},
   "outputs": [
    {
     "name": "stdout",
     "output_type": "stream",
     "text": [
      "stat = -0.07258447372826443\n",
      "p = 0.33017748068844077\n",
      "Probably independent (No correlation)\n"
     ]
    }
   ],
   "source": [
    "#Example of Spearman's Correlation test\n",
    "from scipy.stats import spearmanr\n",
    "# data1 = [0.873, 2.817, 0.121, -0.945, -0.055, -1.436, 0.360, -1.478, -1.637, -1.869]\n",
    "# data2 = [1.142, -0.432, -0.938, -0.729, -0.846, -0.157, 0.500, 1.183, -1.075, -0.169]\n",
    "stat, p = spearmanr(ks['age'],ks['fare'])\n",
    "print('stat =', stat)\n",
    "print('p =', p)\n",
    "if p > 0.05:\n",
    "    print('Probably independent (No correlation)')\n",
    "else:\n",
    "    print('Probably dependent (correlation exists)')"
   ]
  },
  {
   "cell_type": "markdown",
   "metadata": {},
   "source": [
    "# 3- Chi-Squared test\n",
    "Tests whether two categorical variables are related or independent.\n",
    "### Assumption\n",
    "Observations used in the calculation of the contingency table are independent. 25 or more examples in each examples in each cell of the contingency table.Interpretation\n",
    "\n",
    "- H0: the two samples are independent.\n",
    "- H1: there is a dependecy between the samples."
   ]
  },
  {
   "cell_type": "code",
   "execution_count": 21,
   "metadata": {},
   "outputs": [
    {
     "name": "stdout",
     "output_type": "stream",
     "text": [
      "stat = 0.27157465150403504\n",
      "p = 0.873028283380073\n",
      "Probably independent (No correlation)\n"
     ]
    }
   ],
   "source": [
    "#Example of Spearman's Correlation test\n",
    "from scipy.stats import chi2_contingency\n",
    "table=[[10,20,30],[6,9,17]] #these are ranking numbers in array not the original numerical figuers\n",
    "stat, p, dof, expected = chi2_contingency(table)\n",
    "print('stat =', stat)\n",
    "print('p =', p)\n",
    "if p > 0.05:\n",
    "    print('Probably independent (No correlation)')\n",
    "else:\n",
    "    print('Probably dependent (correlation exists)')"
   ]
  },
  {
   "cell_type": "markdown",
   "metadata": {},
   "source": [
    "-------\n",
    "\n",
    "# 3- Parametric Statistical Hypothesis Tests\n",
    "## 1- Student's t-test\n",
    "Tells whether the means of two independent samples are signically different.\n",
    "### Assumption\n",
    "1. Observations in each sample are independent and identically distributed(iid).\n",
    "2. Observation in each sample are normally distributed.\n",
    "3. Observations in each sample have the same variance.\n",
    "4. Interpretation.\n",
    "\n",
    "- H0: the means of the samples are equal.\n",
    "- H1: the means of the samples are unequal."
   ]
  },
  {
   "cell_type": "code",
   "execution_count": 22,
   "metadata": {},
   "outputs": [
    {
     "name": "stdout",
     "output_type": "stream",
     "text": [
      "stat= -7.480848976059225\n",
      "p= 5.64656168773021e-13\n",
      "Probably different data set\n"
     ]
    }
   ],
   "source": [
    "# Example of the Student's t-test\n",
    "# ompairing 2 different samples\n",
    "from scipy.stats import ttest_ind\n",
    "# data1 = [0.873, 2.817, 0.121, -0.945, -0.055, -1.436, 0.360, -1.478, -1.637, -1.869]\n",
    "# data2 = [1.142, -0.432, -0.938, -0.729, -0.846, -0.157, 0.500, 1.183, -1.075, -0.169]\n",
    "stat, p = ttest_ind(ks['age'].dropna(), ks['fare'].dropna())\n",
    "print('stat=', stat)\n",
    "print('p=', p)\n",
    "if p > 0.05:\n",
    "  print('Probably the same dataset')\n",
    "else:\n",
    "  print('Probably different data set')"
   ]
  },
  {
   "cell_type": "code",
   "execution_count": 23,
   "metadata": {},
   "outputs": [
    {
     "name": "stdout",
     "output_type": "stream",
     "text": [
      "stat= -0.3341680721407323\n",
      "p= 0.7459078283577477\n",
      "Probably the same distribution\n"
     ]
    }
   ],
   "source": [
    "# Example of the Paired Student's t-test\n",
    "# Getting 2 parameters out of the same sample\n",
    "from scipy.stats import ttest_rel\n",
    "data1 = [0.873, 2.817, 0.121, -0.945, -0.055, -1.436, 0.360, -1.478, -1.637, -1.869]\n",
    "data2 = [1.142, -0.432, -0.938, -0.729, -0.846, -0.157, 0.500, 1.183, -1.075, -0.169]\n",
    "stat, p = ttest_rel(data1,data2)\n",
    "print('stat=', stat)\n",
    "print('p=',p)\n",
    "if p > 0.05:\n",
    "  print('Probably the same distribution')\n",
    "else:\n",
    "  print('Probably different distributions')"
   ]
  },
  {
   "cell_type": "markdown",
   "metadata": {},
   "source": [
    "-------\n",
    "\n",
    "# 4- Analysis of Variance (ANOVA)\n",
    "Tells whether the means of two or more independent samples are signically different.\n",
    "\n",
    "### Assumption\n",
    "1. Observations in each sample are independent and identically distributed(iid).\n",
    "2. Observation in each sample are normally distributed.\n",
    "3. Observations in each sample have the same variance.\n",
    "4. Interpretation.\n",
    "\n",
    "- H0: the means of the samples are equal.\n",
    "- H1: the means of the samples are unequal."
   ]
  },
  {
   "cell_type": "code",
   "execution_count": 24,
   "metadata": {},
   "outputs": [
    {
     "name": "stdout",
     "output_type": "stream",
     "text": [
      "stat= 137.59008141055892\n",
      "p= 4.567357442512319e-49\n",
      "Probably different distributions(dataset)\n"
     ]
    }
   ],
   "source": [
    "# Example of Analysis of vaiance test\n",
    "from scipy.stats import f_oneway\n",
    "# data1 = [0.873, 2.817, 0.121, -0.945, -0.055, -1.436, 0.360, -1.478, -1.637, -1.869]\n",
    "# data2 = [1.142, -0.432, -0.938, -0.729, -0.846, -0.157, 0.500, 1.183, -1.075, -0.169]\n",
    "# data3 = [-0.208,0.696,0.928,-1.148,-0.213,0.229,0.137,0.269,-0.870,-1.204]\n",
    "stat, p = f_oneway(ks['survived'].dropna(), ks['age'].dropna(), ks['fare'].dropna())\n",
    "print('stat=', stat)\n",
    "print('p=', p)\n",
    "\n",
    "\n",
    "if p > 0.05:\n",
    "  print('Probably the same distribution(dataset)')\n",
    "else: \n",
    "  print('Probably different distributions(dataset)')"
   ]
  },
  {
   "cell_type": "markdown",
   "metadata": {},
   "source": [
    "If p<0.05 then we go for post hoc tests\n",
    "- tuckey test\n",
    "- Bonferoni test"
   ]
  },
  {
   "cell_type": "markdown",
   "metadata": {},
   "source": [
    "# TIP\n",
    "Replacing NaN with mean value and check 'p' value\n",
    "1. Is data significant after removing Nan values(not replacing with mean just deleting the Nan values)\n",
    "2. Any effect on mean and signifcance replacing NaN with mean values.\n",
    "3. Removing outliers before replacing NaN values with mean\n",
    "\n",
    "(Through these techniques we can make data significant)"
   ]
  }
 ],
 "metadata": {
  "interpreter": {
   "hash": "d406864f2ee78ecc67afccccd0a48c216f41ca3a0f9ca739a0b9d8b15ae422ba"
  },
  "kernelspec": {
   "display_name": "Python 3.10.1 64-bit",
   "language": "python",
   "name": "python3"
  },
  "language_info": {
   "codemirror_mode": {
    "name": "ipython",
    "version": 3
   },
   "file_extension": ".py",
   "mimetype": "text/x-python",
   "name": "python",
   "nbconvert_exporter": "python",
   "pygments_lexer": "ipython3",
   "version": "3.10.1"
  },
  "orig_nbformat": 4
 },
 "nbformat": 4,
 "nbformat_minor": 2
}
