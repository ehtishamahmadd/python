{
 "cells": [
  {
   "cell_type": "markdown",
   "metadata": {},
   "source": [
    "Name    = \"Ehtisham Ahmad\"\n",
    "\n",
    "email   = \"ehtishamahmed10@gmail.com\""
   ]
  },
  {
   "cell_type": "code",
   "execution_count": 3,
   "metadata": {},
   "outputs": [
    {
     "data": {
      "text/html": [
       "<div>\n",
       "<style scoped>\n",
       "    .dataframe tbody tr th:only-of-type {\n",
       "        vertical-align: middle;\n",
       "    }\n",
       "\n",
       "    .dataframe tbody tr th {\n",
       "        vertical-align: top;\n",
       "    }\n",
       "\n",
       "    .dataframe thead th {\n",
       "        text-align: right;\n",
       "    }\n",
       "</style>\n",
       "<table border=\"1\" class=\"dataframe\">\n",
       "  <thead>\n",
       "    <tr style=\"text-align: right;\">\n",
       "      <th></th>\n",
       "      <th>sepal_length</th>\n",
       "      <th>sepal_width</th>\n",
       "      <th>petal_length</th>\n",
       "      <th>petal_width</th>\n",
       "      <th>species</th>\n",
       "    </tr>\n",
       "  </thead>\n",
       "  <tbody>\n",
       "    <tr>\n",
       "      <th>0</th>\n",
       "      <td>5.1</td>\n",
       "      <td>3.5</td>\n",
       "      <td>1.4</td>\n",
       "      <td>0.2</td>\n",
       "      <td>setosa</td>\n",
       "    </tr>\n",
       "    <tr>\n",
       "      <th>1</th>\n",
       "      <td>4.9</td>\n",
       "      <td>3.0</td>\n",
       "      <td>1.4</td>\n",
       "      <td>0.2</td>\n",
       "      <td>setosa</td>\n",
       "    </tr>\n",
       "    <tr>\n",
       "      <th>2</th>\n",
       "      <td>4.7</td>\n",
       "      <td>3.2</td>\n",
       "      <td>1.3</td>\n",
       "      <td>0.2</td>\n",
       "      <td>setosa</td>\n",
       "    </tr>\n",
       "    <tr>\n",
       "      <th>3</th>\n",
       "      <td>4.6</td>\n",
       "      <td>3.1</td>\n",
       "      <td>1.5</td>\n",
       "      <td>0.2</td>\n",
       "      <td>setosa</td>\n",
       "    </tr>\n",
       "    <tr>\n",
       "      <th>4</th>\n",
       "      <td>5.0</td>\n",
       "      <td>3.6</td>\n",
       "      <td>1.4</td>\n",
       "      <td>0.2</td>\n",
       "      <td>setosa</td>\n",
       "    </tr>\n",
       "  </tbody>\n",
       "</table>\n",
       "</div>"
      ],
      "text/plain": [
       "   sepal_length  sepal_width  petal_length  petal_width species\n",
       "0           5.1          3.5           1.4          0.2  setosa\n",
       "1           4.9          3.0           1.4          0.2  setosa\n",
       "2           4.7          3.2           1.3          0.2  setosa\n",
       "3           4.6          3.1           1.5          0.2  setosa\n",
       "4           5.0          3.6           1.4          0.2  setosa"
      ]
     },
     "execution_count": 3,
     "metadata": {},
     "output_type": "execute_result"
    }
   ],
   "source": [
    "# import sample data\n",
    "import pandas as pd\n",
    "import numpy as np\n",
    "import seaborn as sns\n",
    "df = sns.load_dataset('iris')\n",
    "df.head()"
   ]
  },
  {
   "cell_type": "code",
   "execution_count": 4,
   "metadata": {},
   "outputs": [],
   "source": [
    "import matplotlib.pyplot as plt\n",
    "from sklearn.tree import DecisionTreeClassifier\n",
    "X = df.iloc[:,:-1]\n",
    "y = df.iloc[:,-1:]"
   ]
  },
  {
   "cell_type": "code",
   "execution_count": 3,
   "metadata": {},
   "outputs": [
    {
     "data": {
      "text/html": [
       "<div>\n",
       "<style scoped>\n",
       "    .dataframe tbody tr th:only-of-type {\n",
       "        vertical-align: middle;\n",
       "    }\n",
       "\n",
       "    .dataframe tbody tr th {\n",
       "        vertical-align: top;\n",
       "    }\n",
       "\n",
       "    .dataframe thead th {\n",
       "        text-align: right;\n",
       "    }\n",
       "</style>\n",
       "<table border=\"1\" class=\"dataframe\">\n",
       "  <thead>\n",
       "    <tr style=\"text-align: right;\">\n",
       "      <th></th>\n",
       "      <th>sepal_length</th>\n",
       "      <th>sepal_width</th>\n",
       "      <th>petal_length</th>\n",
       "      <th>petal_width</th>\n",
       "    </tr>\n",
       "  </thead>\n",
       "  <tbody>\n",
       "    <tr>\n",
       "      <th>0</th>\n",
       "      <td>5.1</td>\n",
       "      <td>3.5</td>\n",
       "      <td>1.4</td>\n",
       "      <td>0.2</td>\n",
       "    </tr>\n",
       "    <tr>\n",
       "      <th>1</th>\n",
       "      <td>4.9</td>\n",
       "      <td>3.0</td>\n",
       "      <td>1.4</td>\n",
       "      <td>0.2</td>\n",
       "    </tr>\n",
       "    <tr>\n",
       "      <th>2</th>\n",
       "      <td>4.7</td>\n",
       "      <td>3.2</td>\n",
       "      <td>1.3</td>\n",
       "      <td>0.2</td>\n",
       "    </tr>\n",
       "    <tr>\n",
       "      <th>3</th>\n",
       "      <td>4.6</td>\n",
       "      <td>3.1</td>\n",
       "      <td>1.5</td>\n",
       "      <td>0.2</td>\n",
       "    </tr>\n",
       "    <tr>\n",
       "      <th>4</th>\n",
       "      <td>5.0</td>\n",
       "      <td>3.6</td>\n",
       "      <td>1.4</td>\n",
       "      <td>0.2</td>\n",
       "    </tr>\n",
       "  </tbody>\n",
       "</table>\n",
       "</div>"
      ],
      "text/plain": [
       "   sepal_length  sepal_width  petal_length  petal_width\n",
       "0           5.1          3.5           1.4          0.2\n",
       "1           4.9          3.0           1.4          0.2\n",
       "2           4.7          3.2           1.3          0.2\n",
       "3           4.6          3.1           1.5          0.2\n",
       "4           5.0          3.6           1.4          0.2"
      ]
     },
     "execution_count": 3,
     "metadata": {},
     "output_type": "execute_result"
    }
   ],
   "source": [
    "X.head()"
   ]
  },
  {
   "cell_type": "code",
   "execution_count": 4,
   "metadata": {},
   "outputs": [
    {
     "data": {
      "text/html": [
       "<div>\n",
       "<style scoped>\n",
       "    .dataframe tbody tr th:only-of-type {\n",
       "        vertical-align: middle;\n",
       "    }\n",
       "\n",
       "    .dataframe tbody tr th {\n",
       "        vertical-align: top;\n",
       "    }\n",
       "\n",
       "    .dataframe thead th {\n",
       "        text-align: right;\n",
       "    }\n",
       "</style>\n",
       "<table border=\"1\" class=\"dataframe\">\n",
       "  <thead>\n",
       "    <tr style=\"text-align: right;\">\n",
       "      <th></th>\n",
       "      <th>species</th>\n",
       "    </tr>\n",
       "  </thead>\n",
       "  <tbody>\n",
       "    <tr>\n",
       "      <th>0</th>\n",
       "      <td>setosa</td>\n",
       "    </tr>\n",
       "    <tr>\n",
       "      <th>1</th>\n",
       "      <td>setosa</td>\n",
       "    </tr>\n",
       "    <tr>\n",
       "      <th>2</th>\n",
       "      <td>setosa</td>\n",
       "    </tr>\n",
       "    <tr>\n",
       "      <th>3</th>\n",
       "      <td>setosa</td>\n",
       "    </tr>\n",
       "    <tr>\n",
       "      <th>4</th>\n",
       "      <td>setosa</td>\n",
       "    </tr>\n",
       "  </tbody>\n",
       "</table>\n",
       "</div>"
      ],
      "text/plain": [
       "  species\n",
       "0  setosa\n",
       "1  setosa\n",
       "2  setosa\n",
       "3  setosa\n",
       "4  setosa"
      ]
     },
     "execution_count": 4,
     "metadata": {},
     "output_type": "execute_result"
    }
   ],
   "source": [
    "y.head()"
   ]
  },
  {
   "cell_type": "code",
   "execution_count": 15,
   "metadata": {},
   "outputs": [
    {
     "data": {
      "image/png": "[encoded data removed]",
      "image/svg+xml": "<?xml version=\"1.0\" encoding=\"utf-8\" standalone=\"no\"?>\n<!DOCTYPE svg PUBLIC \"-//W3C//DTD SVG 1.1//EN\"\n  \"http://www.w3.org/Graphics/SVG/1.1/DTD/svg11.dtd\">\n<svg xmlns:xlink=\"http://www.w3.org/1999/xlink\" width=\"349.2pt\" height=\"246.429375pt\" viewBox=\"0 0 349.2 246.429375\" xmlns=\"http://www.w3.org/2000/svg\" version=\"1.1\">\n <metadata>\n  <rdf:RDF xmlns:dc=\"http://purl.org/dc/elements/1.1/\" xmlns:cc=\"http://creativecommons.org/ns#\" xmlns:rdf=\"http://www.w3.org/1999/02/22-rdf-syntax-ns#\">\n   <cc:Work>\n    <dc:type rdf:resource=\"http://purl.org/dc/dcmitype/StillImage\"/>\n    <dc:date>2022-01-26T12:06:43.712618</dc:date>\n    <dc:format>image/svg+xml</dc:format>\n    <dc:creator>\n     <cc:Agent>\n      <dc:title>Matplotlib v3.5.1, https://matplotlib.org/</dc:title>\n     </cc:Agent>\n    </dc:creator>\n   </cc:Work>\n  </rdf:RDF>\n </metadata>\n <defs>\n  <style type=\"text/css\">*{stroke-linejoin: round; stroke-linecap: butt}</style>\n </defs>\n <g id=\"figure_1\">\n  <g id=\"patch_1\">\n   <path d=\"M 0 246.429375 \nL 349.2 246.429375 \nL 349.2 0 \nL 0 0 \nz\n\" style=\"fill: #ffffff\"/>\n  </g>\n  <g id=\"axes_1\">\n   <g id=\"text_1\">\n    <!-- Decision tree trained model of Iris data -->\n    <g style=\"fill: #262626\" transform=\"translate(71.889375 15.789375)scale(0.12 -0.12)\">\n     <defs>\n      <path id=\"ArialMT-44\" d=\"M 494 0 \nL 494 4581 \nL 2072 4581 \nQ 2606 4581 2888 4516 \nQ 3281 4425 3559 4188 \nQ 3922 3881 4101 3404 \nQ 4281 2928 4281 2316 \nQ 4281 1794 4159 1391 \nQ 4038 988 3847 723 \nQ 3656 459 3429 307 \nQ 3203 156 2883 78 \nQ 2563 0 2147 0 \nL 494 0 \nz\nM 1100 541 \nL 2078 541 \nQ 2531 541 2789 625 \nQ 3047 709 3200 863 \nQ 3416 1078 3536 1442 \nQ 3656 1806 3656 2325 \nQ 3656 3044 3420 3430 \nQ 3184 3816 2847 3947 \nQ 2603 4041 2063 4041 \nL 1100 4041 \nL 1100 541 \nz\n\" transform=\"scale(0.015625)\"/>\n      <path id=\"ArialMT-65\" d=\"M 2694 1069 \nL 3275 997 \nQ 3138 488 2766 206 \nQ 2394 -75 1816 -75 \nQ 1088 -75 661 373 \nQ 234 822 234 1631 \nQ 234 2469 665 2931 \nQ 1097 3394 1784 3394 \nQ 2450 3394 2872 2941 \nQ 3294 2488 3294 1666 \nQ 3294 1616 3291 1516 \nL 816 1516 \nQ 847 969 1125 678 \nQ 1403 388 1819 388 \nQ 2128 388 2347 550 \nQ 2566 713 2694 1069 \nz\nM 847 1978 \nL 2700 1978 \nQ 2663 2397 2488 2606 \nQ 2219 2931 1791 2931 \nQ 1403 2931 1139 2672 \nQ 875 2413 847 1978 \nz\n\" transform=\"scale(0.015625)\"/>\n      <path id=\"ArialMT-63\" d=\"M 2588 1216 \nL 3141 1144 \nQ 3050 572 2676 248 \nQ 2303 -75 1759 -75 \nQ 1078 -75 664 370 \nQ 250 816 250 1647 \nQ 250 2184 428 2587 \nQ 606 2991 970 3192 \nQ 1334 3394 1763 3394 \nQ 2303 3394 2647 3120 \nQ 2991 2847 3088 2344 \nL 2541 2259 \nQ 2463 2594 2264 2762 \nQ 2066 2931 1784 2931 \nQ 1359 2931 1093 2626 \nQ 828 2322 828 1663 \nQ 828 994 1084 691 \nQ 1341 388 1753 388 \nQ 2084 388 2306 591 \nQ 2528 794 2588 1216 \nz\n\" transform=\"scale(0.015625)\"/>\n      <path id=\"ArialMT-69\" d=\"M 425 3934 \nL 425 4581 \nL 988 4581 \nL 988 3934 \nL 425 3934 \nz\nM 425 0 \nL 425 3319 \nL 988 3319 \nL 988 0 \nL 425 0 \nz\n\" transform=\"scale(0.015625)\"/>\n      <path id=\"ArialMT-73\" d=\"M 197 991 \nL 753 1078 \nQ 800 744 1014 566 \nQ 1228 388 1613 388 \nQ 2000 388 2187 545 \nQ 2375 703 2375 916 \nQ 2375 1106 2209 1216 \nQ 2094 1291 1634 1406 \nQ 1016 1563 777 1677 \nQ 538 1791 414 1992 \nQ 291 2194 291 2438 \nQ 291 2659 392 2848 \nQ 494 3038 669 3163 \nQ 800 3259 1026 3326 \nQ 1253 3394 1513 3394 \nQ 1903 3394 2198 3281 \nQ 2494 3169 2634 2976 \nQ 2775 2784 2828 2463 \nL 2278 2388 \nQ 2241 2644 2061 2787 \nQ 1881 2931 1553 2931 \nQ 1166 2931 1000 2803 \nQ 834 2675 834 2503 \nQ 834 2394 903 2306 \nQ 972 2216 1119 2156 \nQ 1203 2125 1616 2013 \nQ 2213 1853 2448 1751 \nQ 2684 1650 2818 1456 \nQ 2953 1263 2953 975 \nQ 2953 694 2789 445 \nQ 2625 197 2315 61 \nQ 2006 -75 1616 -75 \nQ 969 -75 630 194 \nQ 291 463 197 991 \nz\n\" transform=\"scale(0.015625)\"/>\n      <path id=\"ArialMT-6f\" d=\"M 213 1659 \nQ 213 2581 725 3025 \nQ 1153 3394 1769 3394 \nQ 2453 3394 2887 2945 \nQ 3322 2497 3322 1706 \nQ 3322 1066 3130 698 \nQ 2938 331 2570 128 \nQ 2203 -75 1769 -75 \nQ 1072 -75 642 372 \nQ 213 819 213 1659 \nz\nM 791 1659 \nQ 791 1022 1069 705 \nQ 1347 388 1769 388 \nQ 2188 388 2466 706 \nQ 2744 1025 2744 1678 \nQ 2744 2294 2464 2611 \nQ 2184 2928 1769 2928 \nQ 1347 2928 1069 2612 \nQ 791 2297 791 1659 \nz\n\" transform=\"scale(0.015625)\"/>\n      <path id=\"ArialMT-6e\" d=\"M 422 0 \nL 422 3319 \nL 928 3319 \nL 928 2847 \nQ 1294 3394 1984 3394 \nQ 2284 3394 2536 3286 \nQ 2788 3178 2913 3003 \nQ 3038 2828 3088 2588 \nQ 3119 2431 3119 2041 \nL 3119 0 \nL 2556 0 \nL 2556 2019 \nQ 2556 2363 2490 2533 \nQ 2425 2703 2258 2804 \nQ 2091 2906 1866 2906 \nQ 1506 2906 1245 2678 \nQ 984 2450 984 1813 \nL 984 0 \nL 422 0 \nz\n\" transform=\"scale(0.015625)\"/>\n      <path id=\"ArialMT-20\" transform=\"scale(0.015625)\"/>\n      <path id=\"ArialMT-74\" d=\"M 1650 503 \nL 1731 6 \nQ 1494 -44 1306 -44 \nQ 1000 -44 831 53 \nQ 663 150 594 308 \nQ 525 466 525 972 \nL 525 2881 \nL 113 2881 \nL 113 3319 \nL 525 3319 \nL 525 4141 \nL 1084 4478 \nL 1084 3319 \nL 1650 3319 \nL 1650 2881 \nL 1084 2881 \nL 1084 941 \nQ 1084 700 1114 631 \nQ 1144 563 1211 522 \nQ 1278 481 1403 481 \nQ 1497 481 1650 503 \nz\n\" transform=\"scale(0.015625)\"/>\n      <path id=\"ArialMT-72\" d=\"M 416 0 \nL 416 3319 \nL 922 3319 \nL 922 2816 \nQ 1116 3169 1280 3281 \nQ 1444 3394 1641 3394 \nQ 1925 3394 2219 3213 \nL 2025 2691 \nQ 1819 2813 1613 2813 \nQ 1428 2813 1281 2702 \nQ 1134 2591 1072 2394 \nQ 978 2094 978 1738 \nL 978 0 \nL 416 0 \nz\n\" transform=\"scale(0.015625)\"/>\n      <path id=\"ArialMT-61\" d=\"M 2588 409 \nQ 2275 144 1986 34 \nQ 1697 -75 1366 -75 \nQ 819 -75 525 192 \nQ 231 459 231 875 \nQ 231 1119 342 1320 \nQ 453 1522 633 1644 \nQ 813 1766 1038 1828 \nQ 1203 1872 1538 1913 \nQ 2219 1994 2541 2106 \nQ 2544 2222 2544 2253 \nQ 2544 2597 2384 2738 \nQ 2169 2928 1744 2928 \nQ 1347 2928 1158 2789 \nQ 969 2650 878 2297 \nL 328 2372 \nQ 403 2725 575 2942 \nQ 747 3159 1072 3276 \nQ 1397 3394 1825 3394 \nQ 2250 3394 2515 3294 \nQ 2781 3194 2906 3042 \nQ 3031 2891 3081 2659 \nQ 3109 2516 3109 2141 \nL 3109 1391 \nQ 3109 606 3145 398 \nQ 3181 191 3288 0 \nL 2700 0 \nQ 2613 175 2588 409 \nz\nM 2541 1666 \nQ 2234 1541 1622 1453 \nQ 1275 1403 1131 1340 \nQ 988 1278 909 1158 \nQ 831 1038 831 891 \nQ 831 666 1001 516 \nQ 1172 366 1500 366 \nQ 1825 366 2078 508 \nQ 2331 650 2450 897 \nQ 2541 1088 2541 1459 \nL 2541 1666 \nz\n\" transform=\"scale(0.015625)\"/>\n      <path id=\"ArialMT-64\" d=\"M 2575 0 \nL 2575 419 \nQ 2259 -75 1647 -75 \nQ 1250 -75 917 144 \nQ 584 363 401 755 \nQ 219 1147 219 1656 \nQ 219 2153 384 2558 \nQ 550 2963 881 3178 \nQ 1213 3394 1622 3394 \nQ 1922 3394 2156 3267 \nQ 2391 3141 2538 2938 \nL 2538 4581 \nL 3097 4581 \nL 3097 0 \nL 2575 0 \nz\nM 797 1656 \nQ 797 1019 1065 703 \nQ 1334 388 1700 388 \nQ 2069 388 2326 689 \nQ 2584 991 2584 1609 \nQ 2584 2291 2321 2609 \nQ 2059 2928 1675 2928 \nQ 1300 2928 1048 2622 \nQ 797 2316 797 1656 \nz\n\" transform=\"scale(0.015625)\"/>\n      <path id=\"ArialMT-6d\" d=\"M 422 0 \nL 422 3319 \nL 925 3319 \nL 925 2853 \nQ 1081 3097 1340 3245 \nQ 1600 3394 1931 3394 \nQ 2300 3394 2536 3241 \nQ 2772 3088 2869 2813 \nQ 3263 3394 3894 3394 \nQ 4388 3394 4653 3120 \nQ 4919 2847 4919 2278 \nL 4919 0 \nL 4359 0 \nL 4359 2091 \nQ 4359 2428 4304 2576 \nQ 4250 2725 4106 2815 \nQ 3963 2906 3769 2906 \nQ 3419 2906 3187 2673 \nQ 2956 2441 2956 1928 \nL 2956 0 \nL 2394 0 \nL 2394 2156 \nQ 2394 2531 2256 2718 \nQ 2119 2906 1806 2906 \nQ 1569 2906 1367 2781 \nQ 1166 2656 1075 2415 \nQ 984 2175 984 1722 \nL 984 0 \nL 422 0 \nz\n\" transform=\"scale(0.015625)\"/>\n      <path id=\"ArialMT-6c\" d=\"M 409 0 \nL 409 4581 \nL 972 4581 \nL 972 0 \nL 409 0 \nz\n\" transform=\"scale(0.015625)\"/>\n      <path id=\"ArialMT-66\" d=\"M 556 0 \nL 556 2881 \nL 59 2881 \nL 59 3319 \nL 556 3319 \nL 556 3672 \nQ 556 4006 616 4169 \nQ 697 4388 901 4523 \nQ 1106 4659 1475 4659 \nQ 1713 4659 2000 4603 \nL 1916 4113 \nQ 1741 4144 1584 4144 \nQ 1328 4144 1222 4034 \nQ 1116 3925 1116 3625 \nL 1116 3319 \nL 1763 3319 \nL 1763 2881 \nL 1116 2881 \nL 1116 0 \nL 556 0 \nz\n\" transform=\"scale(0.015625)\"/>\n      <path id=\"ArialMT-49\" d=\"M 597 0 \nL 597 4581 \nL 1203 4581 \nL 1203 0 \nL 597 0 \nz\n\" transform=\"scale(0.015625)\"/>\n     </defs>\n     <use xlink:href=\"#ArialMT-44\"/>\n     <use xlink:href=\"#ArialMT-65\" x=\"72.216797\"/>\n     <use xlink:href=\"#ArialMT-63\" x=\"127.832031\"/>\n     <use xlink:href=\"#ArialMT-69\" x=\"177.832031\"/>\n     <use xlink:href=\"#ArialMT-73\" x=\"200.048828\"/>\n     <use xlink:href=\"#ArialMT-69\" x=\"250.048828\"/>\n     <use xlink:href=\"#ArialMT-6f\" x=\"272.265625\"/>\n     <use xlink:href=\"#ArialMT-6e\" x=\"327.880859\"/>\n     <use xlink:href=\"#ArialMT-20\" x=\"383.496094\"/>\n     <use xlink:href=\"#ArialMT-74\" x=\"411.279297\"/>\n     <use xlink:href=\"#ArialMT-72\" x=\"439.0625\"/>\n     <use xlink:href=\"#ArialMT-65\" x=\"472.363281\"/>\n     <use xlink:href=\"#ArialMT-65\" x=\"527.978516\"/>\n     <use xlink:href=\"#ArialMT-20\" x=\"583.59375\"/>\n     <use xlink:href=\"#ArialMT-74\" x=\"611.376953\"/>\n     <use xlink:href=\"#ArialMT-72\" x=\"639.160156\"/>\n     <use xlink:href=\"#ArialMT-61\" x=\"672.460938\"/>\n     <use xlink:href=\"#ArialMT-69\" x=\"728.076172\"/>\n     <use xlink:href=\"#ArialMT-6e\" x=\"750.292969\"/>\n     <use xlink:href=\"#ArialMT-65\" x=\"805.908203\"/>\n     <use xlink:href=\"#ArialMT-64\" x=\"861.523438\"/>\n     <use xlink:href=\"#ArialMT-20\" x=\"917.138672\"/>\n     <use xlink:href=\"#ArialMT-6d\" x=\"944.921875\"/>\n     <use xlink:href=\"#ArialMT-6f\" x=\"1028.222656\"/>\n     <use xlink:href=\"#ArialMT-64\" x=\"1083.837891\"/>\n     <use xlink:href=\"#ArialMT-65\" x=\"1139.453125\"/>\n     <use xlink:href=\"#ArialMT-6c\" x=\"1195.068359\"/>\n     <use xlink:href=\"#ArialMT-20\" x=\"1217.285156\"/>\n     <use xlink:href=\"#ArialMT-6f\" x=\"1245.068359\"/>\n     <use xlink:href=\"#ArialMT-66\" x=\"1300.683594\"/>\n     <use xlink:href=\"#ArialMT-20\" x=\"1328.466797\"/>\n     <use xlink:href=\"#ArialMT-49\" x=\"1356.25\"/>\n     <use xlink:href=\"#ArialMT-72\" x=\"1384.033203\"/>\n     <use xlink:href=\"#ArialMT-69\" x=\"1417.333984\"/>\n     <use xlink:href=\"#ArialMT-73\" x=\"1439.550781\"/>\n     <use xlink:href=\"#ArialMT-20\" x=\"1489.550781\"/>\n     <use xlink:href=\"#ArialMT-64\" x=\"1517.333984\"/>\n     <use xlink:href=\"#ArialMT-61\" x=\"1572.949219\"/>\n     <use xlink:href=\"#ArialMT-74\" x=\"1628.564453\"/>\n     <use xlink:href=\"#ArialMT-61\" x=\"1656.347656\"/>\n    </g>\n   </g>\n   <g id=\"patch_2\">\n    <path d=\"M 171.523699 207.318249 \nQ 178.597929 197.363615 186.319807 186.497633 \n\" style=\"fill: none; stroke: #262626; stroke-linecap: round\"/>\n    <path d=\"M 173.71287 206.152503 \nL 171.523699 207.318249 \nL 171.904604 204.867464 \n\" style=\"fill: none; stroke: #262626; stroke-linecap: round\"/>\n   </g>\n   <g id=\"text_2\">\n    <g id=\"patch_3\">\n     <path d=\"M 140.467488 231.790029 \nL 182.978665 231.790029 \nL 182.978665 210.36373 \nL 140.467488 210.36373 \nz\n\" style=\"fill: #39e581; stroke: #ffffff; stroke-linejoin: miter\"/>\n    </g>\n    <!-- gini = 0.0 -->\n    <g style=\"fill: #262626\" transform=\"translate(150.392078 216.633214)scale(0.055459 -0.055459)\">\n     <defs>\n      <path id=\"ArialMT-67\" d=\"M 319 -275 \nL 866 -356 \nQ 900 -609 1056 -725 \nQ 1266 -881 1628 -881 \nQ 2019 -881 2231 -725 \nQ 2444 -569 2519 -288 \nQ 2563 -116 2559 434 \nQ 2191 0 1641 0 \nQ 956 0 581 494 \nQ 206 988 206 1678 \nQ 206 2153 378 2554 \nQ 550 2956 876 3175 \nQ 1203 3394 1644 3394 \nQ 2231 3394 2613 2919 \nL 2613 3319 \nL 3131 3319 \nL 3131 450 \nQ 3131 -325 2973 -648 \nQ 2816 -972 2473 -1159 \nQ 2131 -1347 1631 -1347 \nQ 1038 -1347 672 -1080 \nQ 306 -813 319 -275 \nz\nM 784 1719 \nQ 784 1066 1043 766 \nQ 1303 466 1694 466 \nQ 2081 466 2343 764 \nQ 2606 1063 2606 1700 \nQ 2606 2309 2336 2618 \nQ 2066 2928 1684 2928 \nQ 1309 2928 1046 2623 \nQ 784 2319 784 1719 \nz\n\" transform=\"scale(0.015625)\"/>\n      <path id=\"ArialMT-3d\" d=\"M 3381 2694 \nL 356 2694 \nL 356 3219 \nL 3381 3219 \nL 3381 2694 \nz\nM 3381 1303 \nL 356 1303 \nL 356 1828 \nL 3381 1828 \nL 3381 1303 \nz\n\" transform=\"scale(0.015625)\"/>\n      <path id=\"ArialMT-30\" d=\"M 266 2259 \nQ 266 3072 433 3567 \nQ 600 4063 929 4331 \nQ 1259 4600 1759 4600 \nQ 2128 4600 2406 4451 \nQ 2684 4303 2865 4023 \nQ 3047 3744 3150 3342 \nQ 3253 2941 3253 2259 \nQ 3253 1453 3087 958 \nQ 2922 463 2592 192 \nQ 2263 -78 1759 -78 \nQ 1097 -78 719 397 \nQ 266 969 266 2259 \nz\nM 844 2259 \nQ 844 1131 1108 757 \nQ 1372 384 1759 384 \nQ 2147 384 2411 759 \nQ 2675 1134 2675 2259 \nQ 2675 3391 2411 3762 \nQ 2147 4134 1753 4134 \nQ 1366 4134 1134 3806 \nQ 844 3388 844 2259 \nz\n\" transform=\"scale(0.015625)\"/>\n      <path id=\"ArialMT-2e\" d=\"M 581 0 \nL 581 641 \nL 1222 641 \nL 1222 0 \nL 581 0 \nz\n\" transform=\"scale(0.015625)\"/>\n     </defs>\n     <use xlink:href=\"#ArialMT-67\"/>\n     <use xlink:href=\"#ArialMT-69\" x=\"55.615234\"/>\n     <use xlink:href=\"#ArialMT-6e\" x=\"77.832031\"/>\n     <use xlink:href=\"#ArialMT-69\" x=\"133.447266\"/>\n     <use xlink:href=\"#ArialMT-20\" x=\"155.664062\"/>\n     <use xlink:href=\"#ArialMT-3d\" x=\"183.447266\"/>\n     <use xlink:href=\"#ArialMT-20\" x=\"241.845703\"/>\n     <use xlink:href=\"#ArialMT-30\" x=\"269.628906\"/>\n     <use xlink:href=\"#ArialMT-2e\" x=\"325.244141\"/>\n     <use xlink:href=\"#ArialMT-30\" x=\"353.027344\"/>\n    </g>\n    <!-- samples = 2 -->\n    <g style=\"fill: #262626\" transform=\"translate(146.695812 222.583809)scale(0.055459 -0.055459)\">\n     <defs>\n      <path id=\"ArialMT-70\" d=\"M 422 -1272 \nL 422 3319 \nL 934 3319 \nL 934 2888 \nQ 1116 3141 1344 3267 \nQ 1572 3394 1897 3394 \nQ 2322 3394 2647 3175 \nQ 2972 2956 3137 2557 \nQ 3303 2159 3303 1684 \nQ 3303 1175 3120 767 \nQ 2938 359 2589 142 \nQ 2241 -75 1856 -75 \nQ 1575 -75 1351 44 \nQ 1128 163 984 344 \nL 984 -1272 \nL 422 -1272 \nz\nM 931 1641 \nQ 931 1000 1190 694 \nQ 1450 388 1819 388 \nQ 2194 388 2461 705 \nQ 2728 1022 2728 1688 \nQ 2728 2322 2467 2637 \nQ 2206 2953 1844 2953 \nQ 1484 2953 1207 2617 \nQ 931 2281 931 1641 \nz\n\" transform=\"scale(0.015625)\"/>\n      <path id=\"ArialMT-32\" d=\"M 3222 541 \nL 3222 0 \nL 194 0 \nQ 188 203 259 391 \nQ 375 700 629 1000 \nQ 884 1300 1366 1694 \nQ 2113 2306 2375 2664 \nQ 2638 3022 2638 3341 \nQ 2638 3675 2398 3904 \nQ 2159 4134 1775 4134 \nQ 1369 4134 1125 3890 \nQ 881 3647 878 3216 \nL 300 3275 \nQ 359 3922 746 4261 \nQ 1134 4600 1788 4600 \nQ 2447 4600 2831 4234 \nQ 3216 3869 3216 3328 \nQ 3216 3053 3103 2787 \nQ 2991 2522 2730 2228 \nQ 2469 1934 1863 1422 \nQ 1356 997 1212 845 \nQ 1069 694 975 541 \nL 3222 541 \nz\n\" transform=\"scale(0.015625)\"/>\n     </defs>\n     <use xlink:href=\"#ArialMT-73\"/>\n     <use xlink:href=\"#ArialMT-61\" x=\"50\"/>\n     <use xlink:href=\"#ArialMT-6d\" x=\"105.615234\"/>\n     <use xlink:href=\"#ArialMT-70\" x=\"188.916016\"/>\n     <use xlink:href=\"#ArialMT-6c\" x=\"244.53125\"/>\n     <use xlink:href=\"#ArialMT-65\" x=\"266.748047\"/>\n     <use xlink:href=\"#ArialMT-73\" x=\"322.363281\"/>\n     <use xlink:href=\"#ArialMT-20\" x=\"372.363281\"/>\n     <use xlink:href=\"#ArialMT-3d\" x=\"400.146484\"/>\n     <use xlink:href=\"#ArialMT-20\" x=\"458.544922\"/>\n     <use xlink:href=\"#ArialMT-32\" x=\"486.328125\"/>\n    </g>\n    <!-- value = [0, 2, 0] -->\n    <g style=\"fill: #262626\" transform=\"translate(142.685855 228.469412)scale(0.055459 -0.055459)\">\n     <defs>\n      <path id=\"ArialMT-76\" d=\"M 1344 0 \nL 81 3319 \nL 675 3319 \nL 1388 1331 \nQ 1503 1009 1600 663 \nQ 1675 925 1809 1294 \nL 2547 3319 \nL 3125 3319 \nL 1869 0 \nL 1344 0 \nz\n\" transform=\"scale(0.015625)\"/>\n      <path id=\"ArialMT-75\" d=\"M 2597 0 \nL 2597 488 \nQ 2209 -75 1544 -75 \nQ 1250 -75 995 37 \nQ 741 150 617 320 \nQ 494 491 444 738 \nQ 409 903 409 1263 \nL 409 3319 \nL 972 3319 \nL 972 1478 \nQ 972 1038 1006 884 \nQ 1059 663 1231 536 \nQ 1403 409 1656 409 \nQ 1909 409 2131 539 \nQ 2353 669 2445 892 \nQ 2538 1116 2538 1541 \nL 2538 3319 \nL 3100 3319 \nL 3100 0 \nL 2597 0 \nz\n\" transform=\"scale(0.015625)\"/>\n      <path id=\"ArialMT-5b\" d=\"M 434 -1272 \nL 434 4581 \nL 1675 4581 \nL 1675 4116 \nL 997 4116 \nL 997 -806 \nL 1675 -806 \nL 1675 -1272 \nL 434 -1272 \nz\n\" transform=\"scale(0.015625)\"/>\n      <path id=\"ArialMT-2c\" d=\"M 569 0 \nL 569 641 \nL 1209 641 \nL 1209 0 \nQ 1209 -353 1084 -570 \nQ 959 -788 688 -906 \nL 531 -666 \nQ 709 -588 793 -436 \nQ 878 -284 888 0 \nL 569 0 \nz\n\" transform=\"scale(0.015625)\"/>\n      <path id=\"ArialMT-5d\" d=\"M 1363 -1272 \nL 122 -1272 \nL 122 -806 \nL 800 -806 \nL 800 4116 \nL 122 4116 \nL 122 4581 \nL 1363 4581 \nL 1363 -1272 \nz\n\" transform=\"scale(0.015625)\"/>\n     </defs>\n     <use xlink:href=\"#ArialMT-76\"/>\n     <use xlink:href=\"#ArialMT-61\" x=\"50\"/>\n     <use xlink:href=\"#ArialMT-6c\" x=\"105.615234\"/>\n     <use xlink:href=\"#ArialMT-75\" x=\"127.832031\"/>\n     <use xlink:href=\"#ArialMT-65\" x=\"183.447266\"/>\n     <use xlink:href=\"#ArialMT-20\" x=\"239.0625\"/>\n     <use xlink:href=\"#ArialMT-3d\" x=\"266.845703\"/>\n     <use xlink:href=\"#ArialMT-20\" x=\"325.244141\"/>\n     <use xlink:href=\"#ArialMT-5b\" x=\"353.027344\"/>\n     <use xlink:href=\"#ArialMT-30\" x=\"380.810547\"/>\n     <use xlink:href=\"#ArialMT-2c\" x=\"436.425781\"/>\n     <use xlink:href=\"#ArialMT-20\" x=\"464.208984\"/>\n     <use xlink:href=\"#ArialMT-32\" x=\"491.992188\"/>\n     <use xlink:href=\"#ArialMT-2c\" x=\"547.607422\"/>\n     <use xlink:href=\"#ArialMT-20\" x=\"575.390625\"/>\n     <use xlink:href=\"#ArialMT-30\" x=\"603.173828\"/>\n     <use xlink:href=\"#ArialMT-5d\" x=\"658.789062\"/>\n    </g>\n   </g>\n   <g id=\"patch_4\">\n    <path d=\"M 203.430148 207.318249 \nQ 196.355917 197.363615 188.634039 186.497633 \n\" style=\"fill: none; stroke: #262626; stroke-linecap: round\"/>\n    <path d=\"M 203.049242 204.867464 \nL 203.430148 207.318249 \nL 201.240976 206.152503 \n\" style=\"fill: none; stroke: #262626; stroke-linecap: round\"/>\n   </g>\n   <g id=\"text_3\">\n    <g id=\"patch_5\">\n     <path d=\"M 191.975181 231.790029 \nL 234.486358 231.790029 \nL 234.486358 210.36373 \nL 191.975181 210.36373 \nz\n\" style=\"fill: #8139e5; stroke: #ffffff; stroke-linejoin: miter\"/>\n    </g>\n    <!-- gini = 0.0 -->\n    <g style=\"fill: #262626\" transform=\"translate(201.89977 216.633214)scale(0.055459 -0.055459)\">\n     <use xlink:href=\"#ArialMT-67\"/>\n     <use xlink:href=\"#ArialMT-69\" x=\"55.615234\"/>\n     <use xlink:href=\"#ArialMT-6e\" x=\"77.832031\"/>\n     <use xlink:href=\"#ArialMT-69\" x=\"133.447266\"/>\n     <use xlink:href=\"#ArialMT-20\" x=\"155.664062\"/>\n     <use xlink:href=\"#ArialMT-3d\" x=\"183.447266\"/>\n     <use xlink:href=\"#ArialMT-20\" x=\"241.845703\"/>\n     <use xlink:href=\"#ArialMT-30\" x=\"269.628906\"/>\n     <use xlink:href=\"#ArialMT-2e\" x=\"325.244141\"/>\n     <use xlink:href=\"#ArialMT-30\" x=\"353.027344\"/>\n    </g>\n    <!-- samples = 1 -->\n    <g style=\"fill: #262626\" transform=\"translate(198.203504 222.583809)scale(0.055459 -0.055459)\">\n     <defs>\n      <path id=\"ArialMT-31\" d=\"M 2384 0 \nL 1822 0 \nL 1822 3584 \nQ 1619 3391 1289 3197 \nQ 959 3003 697 2906 \nL 697 3450 \nQ 1169 3672 1522 3987 \nQ 1875 4303 2022 4600 \nL 2384 4600 \nL 2384 0 \nz\n\" transform=\"scale(0.015625)\"/>\n     </defs>\n     <use xlink:href=\"#ArialMT-73\"/>\n     <use xlink:href=\"#ArialMT-61\" x=\"50\"/>\n     <use xlink:href=\"#ArialMT-6d\" x=\"105.615234\"/>\n     <use xlink:href=\"#ArialMT-70\" x=\"188.916016\"/>\n     <use xlink:href=\"#ArialMT-6c\" x=\"244.53125\"/>\n     <use xlink:href=\"#ArialMT-65\" x=\"266.748047\"/>\n     <use xlink:href=\"#ArialMT-73\" x=\"322.363281\"/>\n     <use xlink:href=\"#ArialMT-20\" x=\"372.363281\"/>\n     <use xlink:href=\"#ArialMT-3d\" x=\"400.146484\"/>\n     <use xlink:href=\"#ArialMT-20\" x=\"458.544922\"/>\n     <use xlink:href=\"#ArialMT-31\" x=\"486.328125\"/>\n    </g>\n    <!-- value = [0, 0, 1] -->\n    <g style=\"fill: #262626\" transform=\"translate(194.193547 228.469412)scale(0.055459 -0.055459)\">\n     <use xlink:href=\"#ArialMT-76\"/>\n     <use xlink:href=\"#ArialMT-61\" x=\"50\"/>\n     <use xlink:href=\"#ArialMT-6c\" x=\"105.615234\"/>\n     <use xlink:href=\"#ArialMT-75\" x=\"127.832031\"/>\n     <use xlink:href=\"#ArialMT-65\" x=\"183.447266\"/>\n     <use xlink:href=\"#ArialMT-20\" x=\"239.0625\"/>\n     <use xlink:href=\"#ArialMT-3d\" x=\"266.845703\"/>\n     <use xlink:href=\"#ArialMT-20\" x=\"325.244141\"/>\n     <use xlink:href=\"#ArialMT-5b\" x=\"353.027344\"/>\n     <use xlink:href=\"#ArialMT-30\" x=\"380.810547\"/>\n     <use xlink:href=\"#ArialMT-2c\" x=\"436.425781\"/>\n     <use xlink:href=\"#ArialMT-20\" x=\"464.208984\"/>\n     <use xlink:href=\"#ArialMT-30\" x=\"491.992188\"/>\n     <use xlink:href=\"#ArialMT-2c\" x=\"547.607422\"/>\n     <use xlink:href=\"#ArialMT-20\" x=\"575.390625\"/>\n     <use xlink:href=\"#ArialMT-31\" x=\"603.173828\"/>\n     <use xlink:href=\"#ArialMT-5d\" x=\"658.789062\"/>\n    </g>\n   </g>\n   <g id=\"patch_6\">\n    <path d=\"M 42.745652 171.090654 \nQ 49.823984 161.130249 57.549961 150.258497 \n\" style=\"fill: none; stroke: #262626; stroke-linecap: round\"/>\n    <path d=\"M 44.934824 169.924908 \nL 42.745652 171.090654 \nL 43.126558 168.639869 \n\" style=\"fill: none; stroke: #262626; stroke-linecap: round\"/>\n   </g>\n   <g id=\"text_4\">\n    <g id=\"patch_7\">\n     <path d=\"M 10.156233 195.54015 \nL 55.751459 195.54015 \nL 55.751459 174.133609 \nL 10.156233 174.133609 \nz\n\" style=\"fill: #39e581; stroke: #ffffff; stroke-linejoin: miter\"/>\n    </g>\n    <!-- gini = 0.0 -->\n    <g style=\"fill: #262626\" transform=\"translate(21.622847 180.403093)scale(0.055459 -0.055459)\">\n     <use xlink:href=\"#ArialMT-67\"/>\n     <use xlink:href=\"#ArialMT-69\" x=\"55.615234\"/>\n     <use xlink:href=\"#ArialMT-6e\" x=\"77.832031\"/>\n     <use xlink:href=\"#ArialMT-69\" x=\"133.447266\"/>\n     <use xlink:href=\"#ArialMT-20\" x=\"155.664062\"/>\n     <use xlink:href=\"#ArialMT-3d\" x=\"183.447266\"/>\n     <use xlink:href=\"#ArialMT-20\" x=\"241.845703\"/>\n     <use xlink:href=\"#ArialMT-30\" x=\"269.628906\"/>\n     <use xlink:href=\"#ArialMT-2e\" x=\"325.244141\"/>\n     <use xlink:href=\"#ArialMT-30\" x=\"353.027344\"/>\n    </g>\n    <!-- samples = 47 -->\n    <g style=\"fill: #262626\" transform=\"translate(16.384556 186.33393)scale(0.055459 -0.055459)\">\n     <defs>\n      <path id=\"ArialMT-34\" d=\"M 2069 0 \nL 2069 1097 \nL 81 1097 \nL 81 1613 \nL 2172 4581 \nL 2631 4581 \nL 2631 1613 \nL 3250 1613 \nL 3250 1097 \nL 2631 1097 \nL 2631 0 \nL 2069 0 \nz\nM 2069 1613 \nL 2069 3678 \nL 634 1613 \nL 2069 1613 \nz\n\" transform=\"scale(0.015625)\"/>\n      <path id=\"ArialMT-37\" d=\"M 303 3981 \nL 303 4522 \nL 3269 4522 \nL 3269 4084 \nQ 2831 3619 2401 2847 \nQ 1972 2075 1738 1259 \nQ 1569 684 1522 0 \nL 944 0 \nQ 953 541 1156 1306 \nQ 1359 2072 1739 2783 \nQ 2119 3494 2547 3981 \nL 303 3981 \nz\n\" transform=\"scale(0.015625)\"/>\n     </defs>\n     <use xlink:href=\"#ArialMT-73\"/>\n     <use xlink:href=\"#ArialMT-61\" x=\"50\"/>\n     <use xlink:href=\"#ArialMT-6d\" x=\"105.615234\"/>\n     <use xlink:href=\"#ArialMT-70\" x=\"188.916016\"/>\n     <use xlink:href=\"#ArialMT-6c\" x=\"244.53125\"/>\n     <use xlink:href=\"#ArialMT-65\" x=\"266.748047\"/>\n     <use xlink:href=\"#ArialMT-73\" x=\"322.363281\"/>\n     <use xlink:href=\"#ArialMT-20\" x=\"372.363281\"/>\n     <use xlink:href=\"#ArialMT-3d\" x=\"400.146484\"/>\n     <use xlink:href=\"#ArialMT-20\" x=\"458.544922\"/>\n     <use xlink:href=\"#ArialMT-34\" x=\"486.328125\"/>\n     <use xlink:href=\"#ArialMT-37\" x=\"541.943359\"/>\n    </g>\n    <!-- value = [0, 47, 0] -->\n    <g style=\"fill: #262626\" transform=\"translate(12.374599 192.219533)scale(0.055459 -0.055459)\">\n     <use xlink:href=\"#ArialMT-76\"/>\n     <use xlink:href=\"#ArialMT-61\" x=\"50\"/>\n     <use xlink:href=\"#ArialMT-6c\" x=\"105.615234\"/>\n     <use xlink:href=\"#ArialMT-75\" x=\"127.832031\"/>\n     <use xlink:href=\"#ArialMT-65\" x=\"183.447266\"/>\n     <use xlink:href=\"#ArialMT-20\" x=\"239.0625\"/>\n     <use xlink:href=\"#ArialMT-3d\" x=\"266.845703\"/>\n     <use xlink:href=\"#ArialMT-20\" x=\"325.244141\"/>\n     <use xlink:href=\"#ArialMT-5b\" x=\"353.027344\"/>\n     <use xlink:href=\"#ArialMT-30\" x=\"380.810547\"/>\n     <use xlink:href=\"#ArialMT-2c\" x=\"436.425781\"/>\n     <use xlink:href=\"#ArialMT-20\" x=\"464.208984\"/>\n     <use xlink:href=\"#ArialMT-34\" x=\"491.992188\"/>\n     <use xlink:href=\"#ArialMT-37\" x=\"547.607422\"/>\n     <use xlink:href=\"#ArialMT-2c\" x=\"603.222656\"/>\n     <use xlink:href=\"#ArialMT-20\" x=\"631.005859\"/>\n     <use xlink:href=\"#ArialMT-30\" x=\"658.789062\"/>\n     <use xlink:href=\"#ArialMT-5d\" x=\"714.404297\"/>\n    </g>\n   </g>\n   <g id=\"patch_8\">\n    <path d=\"M 74.660917 171.078249 \nQ 67.586686 161.123615 59.864809 150.257633 \n\" style=\"fill: none; stroke: #262626; stroke-linecap: round\"/>\n    <path d=\"M 74.280011 168.627464 \nL 74.660917 171.078249 \nL 72.471745 169.912503 \n\" style=\"fill: none; stroke: #262626; stroke-linecap: round\"/>\n   </g>\n   <g id=\"text_5\">\n    <g id=\"patch_9\">\n     <path d=\"M 63.20595 195.550029 \nL 105.717127 195.550029 \nL 105.717127 174.12373 \nL 63.20595 174.12373 \nz\n\" style=\"fill: #8139e5; stroke: #ffffff; stroke-linejoin: miter\"/>\n    </g>\n    <!-- gini = 0.0 -->\n    <g style=\"fill: #262626\" transform=\"translate(73.130539 180.393214)scale(0.055459 -0.055459)\">\n     <use xlink:href=\"#ArialMT-67\"/>\n     <use xlink:href=\"#ArialMT-69\" x=\"55.615234\"/>\n     <use xlink:href=\"#ArialMT-6e\" x=\"77.832031\"/>\n     <use xlink:href=\"#ArialMT-69\" x=\"133.447266\"/>\n     <use xlink:href=\"#ArialMT-20\" x=\"155.664062\"/>\n     <use xlink:href=\"#ArialMT-3d\" x=\"183.447266\"/>\n     <use xlink:href=\"#ArialMT-20\" x=\"241.845703\"/>\n     <use xlink:href=\"#ArialMT-30\" x=\"269.628906\"/>\n     <use xlink:href=\"#ArialMT-2e\" x=\"325.244141\"/>\n     <use xlink:href=\"#ArialMT-30\" x=\"353.027344\"/>\n    </g>\n    <!-- samples = 1 -->\n    <g style=\"fill: #262626\" transform=\"translate(69.434273 186.343809)scale(0.055459 -0.055459)\">\n     <use xlink:href=\"#ArialMT-73\"/>\n     <use xlink:href=\"#ArialMT-61\" x=\"50\"/>\n     <use xlink:href=\"#ArialMT-6d\" x=\"105.615234\"/>\n     <use xlink:href=\"#ArialMT-70\" x=\"188.916016\"/>\n     <use xlink:href=\"#ArialMT-6c\" x=\"244.53125\"/>\n     <use xlink:href=\"#ArialMT-65\" x=\"266.748047\"/>\n     <use xlink:href=\"#ArialMT-73\" x=\"322.363281\"/>\n     <use xlink:href=\"#ArialMT-20\" x=\"372.363281\"/>\n     <use xlink:href=\"#ArialMT-3d\" x=\"400.146484\"/>\n     <use xlink:href=\"#ArialMT-20\" x=\"458.544922\"/>\n     <use xlink:href=\"#ArialMT-31\" x=\"486.328125\"/>\n    </g>\n    <!-- value = [0, 0, 1] -->\n    <g style=\"fill: #262626\" transform=\"translate(65.424316 192.229412)scale(0.055459 -0.055459)\">\n     <use xlink:href=\"#ArialMT-76\"/>\n     <use xlink:href=\"#ArialMT-61\" x=\"50\"/>\n     <use xlink:href=\"#ArialMT-6c\" x=\"105.615234\"/>\n     <use xlink:href=\"#ArialMT-75\" x=\"127.832031\"/>\n     <use xlink:href=\"#ArialMT-65\" x=\"183.447266\"/>\n     <use xlink:href=\"#ArialMT-20\" x=\"239.0625\"/>\n     <use xlink:href=\"#ArialMT-3d\" x=\"266.845703\"/>\n     <use xlink:href=\"#ArialMT-20\" x=\"325.244141\"/>\n     <use xlink:href=\"#ArialMT-5b\" x=\"353.027344\"/>\n     <use xlink:href=\"#ArialMT-30\" x=\"380.810547\"/>\n     <use xlink:href=\"#ArialMT-2c\" x=\"436.425781\"/>\n     <use xlink:href=\"#ArialMT-20\" x=\"464.208984\"/>\n     <use xlink:href=\"#ArialMT-30\" x=\"491.992188\"/>\n     <use xlink:href=\"#ArialMT-2c\" x=\"547.607422\"/>\n     <use xlink:href=\"#ArialMT-20\" x=\"575.390625\"/>\n     <use xlink:href=\"#ArialMT-31\" x=\"603.173828\"/>\n     <use xlink:href=\"#ArialMT-5d\" x=\"658.789062\"/>\n    </g>\n   </g>\n   <g id=\"patch_10\">\n    <path d=\"M 145.769852 171.078249 \nQ 152.844083 161.123615 160.565961 150.257633 \n\" style=\"fill: none; stroke: #262626; stroke-linecap: round\"/>\n    <path d=\"M 147.959024 169.912503 \nL 145.769852 171.078249 \nL 146.150758 168.627464 \n\" style=\"fill: none; stroke: #262626; stroke-linecap: round\"/>\n   </g>\n   <g id=\"text_6\">\n    <g id=\"patch_11\">\n     <path d=\"M 114.713642 195.550029 \nL 157.224819 195.550029 \nL 157.224819 174.12373 \nL 114.713642 174.12373 \nz\n\" style=\"fill: #8139e5; stroke: #ffffff; stroke-linejoin: miter\"/>\n    </g>\n    <!-- gini = 0.0 -->\n    <g style=\"fill: #262626\" transform=\"translate(124.638232 180.393214)scale(0.055459 -0.055459)\">\n     <use xlink:href=\"#ArialMT-67\"/>\n     <use xlink:href=\"#ArialMT-69\" x=\"55.615234\"/>\n     <use xlink:href=\"#ArialMT-6e\" x=\"77.832031\"/>\n     <use xlink:href=\"#ArialMT-69\" x=\"133.447266\"/>\n     <use xlink:href=\"#ArialMT-20\" x=\"155.664062\"/>\n     <use xlink:href=\"#ArialMT-3d\" x=\"183.447266\"/>\n     <use xlink:href=\"#ArialMT-20\" x=\"241.845703\"/>\n     <use xlink:href=\"#ArialMT-30\" x=\"269.628906\"/>\n     <use xlink:href=\"#ArialMT-2e\" x=\"325.244141\"/>\n     <use xlink:href=\"#ArialMT-30\" x=\"353.027344\"/>\n    </g>\n    <!-- samples = 3 -->\n    <g style=\"fill: #262626\" transform=\"translate(120.941966 186.343809)scale(0.055459 -0.055459)\">\n     <defs>\n      <path id=\"ArialMT-33\" d=\"M 269 1209 \nL 831 1284 \nQ 928 806 1161 595 \nQ 1394 384 1728 384 \nQ 2125 384 2398 659 \nQ 2672 934 2672 1341 \nQ 2672 1728 2419 1979 \nQ 2166 2231 1775 2231 \nQ 1616 2231 1378 2169 \nL 1441 2663 \nQ 1497 2656 1531 2656 \nQ 1891 2656 2178 2843 \nQ 2466 3031 2466 3422 \nQ 2466 3731 2256 3934 \nQ 2047 4138 1716 4138 \nQ 1388 4138 1169 3931 \nQ 950 3725 888 3313 \nL 325 3413 \nQ 428 3978 793 4289 \nQ 1159 4600 1703 4600 \nQ 2078 4600 2393 4439 \nQ 2709 4278 2876 4000 \nQ 3044 3722 3044 3409 \nQ 3044 3113 2884 2869 \nQ 2725 2625 2413 2481 \nQ 2819 2388 3044 2092 \nQ 3269 1797 3269 1353 \nQ 3269 753 2831 336 \nQ 2394 -81 1725 -81 \nQ 1122 -81 723 278 \nQ 325 638 269 1209 \nz\n\" transform=\"scale(0.015625)\"/>\n     </defs>\n     <use xlink:href=\"#ArialMT-73\"/>\n     <use xlink:href=\"#ArialMT-61\" x=\"50\"/>\n     <use xlink:href=\"#ArialMT-6d\" x=\"105.615234\"/>\n     <use xlink:href=\"#ArialMT-70\" x=\"188.916016\"/>\n     <use xlink:href=\"#ArialMT-6c\" x=\"244.53125\"/>\n     <use xlink:href=\"#ArialMT-65\" x=\"266.748047\"/>\n     <use xlink:href=\"#ArialMT-73\" x=\"322.363281\"/>\n     <use xlink:href=\"#ArialMT-20\" x=\"372.363281\"/>\n     <use xlink:href=\"#ArialMT-3d\" x=\"400.146484\"/>\n     <use xlink:href=\"#ArialMT-20\" x=\"458.544922\"/>\n     <use xlink:href=\"#ArialMT-33\" x=\"486.328125\"/>\n    </g>\n    <!-- value = [0, 0, 3] -->\n    <g style=\"fill: #262626\" transform=\"translate(116.932008 192.229412)scale(0.055459 -0.055459)\">\n     <use xlink:href=\"#ArialMT-76\"/>\n     <use xlink:href=\"#ArialMT-61\" x=\"50\"/>\n     <use xlink:href=\"#ArialMT-6c\" x=\"105.615234\"/>\n     <use xlink:href=\"#ArialMT-75\" x=\"127.832031\"/>\n     <use xlink:href=\"#ArialMT-65\" x=\"183.447266\"/>\n     <use xlink:href=\"#ArialMT-20\" x=\"239.0625\"/>\n     <use xlink:href=\"#ArialMT-3d\" x=\"266.845703\"/>\n     <use xlink:href=\"#ArialMT-20\" x=\"325.244141\"/>\n     <use xlink:href=\"#ArialMT-5b\" x=\"353.027344\"/>\n     <use xlink:href=\"#ArialMT-30\" x=\"380.810547\"/>\n     <use xlink:href=\"#ArialMT-2c\" x=\"436.425781\"/>\n     <use xlink:href=\"#ArialMT-20\" x=\"464.208984\"/>\n     <use xlink:href=\"#ArialMT-30\" x=\"491.992188\"/>\n     <use xlink:href=\"#ArialMT-2c\" x=\"547.607422\"/>\n     <use xlink:href=\"#ArialMT-20\" x=\"575.390625\"/>\n     <use xlink:href=\"#ArialMT-33\" x=\"603.173828\"/>\n     <use xlink:href=\"#ArialMT-5d\" x=\"658.789062\"/>\n    </g>\n   </g>\n   <g id=\"patch_12\">\n    <path d=\"M 175.635832 168.206965 \nQ 169.581819 159.687949 162.88016 150.257585 \n\" style=\"fill: none; stroke: #262626; stroke-linecap: round\"/>\n    <path d=\"M 175.254926 165.75618 \nL 175.635832 168.206965 \nL 173.44666 167.041218 \n\" style=\"fill: none; stroke: #262626; stroke-linecap: round\"/>\n   </g>\n   <g id=\"text_7\">\n    <g id=\"patch_13\">\n     <path d=\"M 166.221335 198.49283 \nL 208.732512 198.49283 \nL 208.732512 171.24592 \nL 166.221335 171.24592 \nz\n\" style=\"fill: #9cf2c0; stroke: #ffffff; stroke-linejoin: miter\"/>\n    </g>\n    <!-- X[2] &lt;= 5.45 -->\n    <g style=\"fill: #262626\" transform=\"translate(172.368202 177.450413)scale(0.055459 -0.055459)\">\n     <defs>\n      <path id=\"ArialMT-58\" d=\"M 28 0 \nL 1800 2388 \nL 238 4581 \nL 959 4581 \nL 1791 3406 \nQ 2050 3041 2159 2844 \nQ 2313 3094 2522 3366 \nL 3444 4581 \nL 4103 4581 \nL 2494 2422 \nL 4228 0 \nL 3478 0 \nL 2325 1634 \nQ 2228 1775 2125 1941 \nQ 1972 1691 1906 1597 \nL 756 0 \nL 28 0 \nz\n\" transform=\"scale(0.015625)\"/>\n      <path id=\"ArialMT-3c\" d=\"M 350 2003 \nL 350 2528 \nL 3384 3809 \nL 3384 3250 \nL 978 2263 \nL 3384 1266 \nL 3384 706 \nL 350 2003 \nz\n\" transform=\"scale(0.015625)\"/>\n      <path id=\"ArialMT-35\" d=\"M 266 1200 \nL 856 1250 \nQ 922 819 1161 601 \nQ 1400 384 1738 384 \nQ 2144 384 2425 690 \nQ 2706 997 2706 1503 \nQ 2706 1984 2436 2262 \nQ 2166 2541 1728 2541 \nQ 1456 2541 1237 2417 \nQ 1019 2294 894 2097 \nL 366 2166 \nL 809 4519 \nL 3088 4519 \nL 3088 3981 \nL 1259 3981 \nL 1013 2750 \nQ 1425 3038 1878 3038 \nQ 2478 3038 2890 2622 \nQ 3303 2206 3303 1553 \nQ 3303 931 2941 478 \nQ 2500 -78 1738 -78 \nQ 1113 -78 717 272 \nQ 322 622 266 1200 \nz\n\" transform=\"scale(0.015625)\"/>\n     </defs>\n     <use xlink:href=\"#ArialMT-58\"/>\n     <use xlink:href=\"#ArialMT-5b\" x=\"66.699219\"/>\n     <use xlink:href=\"#ArialMT-32\" x=\"94.482422\"/>\n     <use xlink:href=\"#ArialMT-5d\" x=\"150.097656\"/>\n     <use xlink:href=\"#ArialMT-20\" x=\"177.880859\"/>\n     <use xlink:href=\"#ArialMT-3c\" x=\"205.664062\"/>\n     <use xlink:href=\"#ArialMT-3d\" x=\"264.0625\"/>\n     <use xlink:href=\"#ArialMT-20\" x=\"322.460938\"/>\n     <use xlink:href=\"#ArialMT-35\" x=\"350.244141\"/>\n     <use xlink:href=\"#ArialMT-2e\" x=\"405.859375\"/>\n     <use xlink:href=\"#ArialMT-34\" x=\"433.642578\"/>\n     <use xlink:href=\"#ArialMT-35\" x=\"489.257812\"/>\n    </g>\n    <!-- gini = 0.444 -->\n    <g style=\"fill: #262626\" transform=\"translate(173.061875 183.336016)scale(0.055459 -0.055459)\">\n     <use xlink:href=\"#ArialMT-67\"/>\n     <use xlink:href=\"#ArialMT-69\" x=\"55.615234\"/>\n     <use xlink:href=\"#ArialMT-6e\" x=\"77.832031\"/>\n     <use xlink:href=\"#ArialMT-69\" x=\"133.447266\"/>\n     <use xlink:href=\"#ArialMT-20\" x=\"155.664062\"/>\n     <use xlink:href=\"#ArialMT-3d\" x=\"183.447266\"/>\n     <use xlink:href=\"#ArialMT-20\" x=\"241.845703\"/>\n     <use xlink:href=\"#ArialMT-30\" x=\"269.628906\"/>\n     <use xlink:href=\"#ArialMT-2e\" x=\"325.244141\"/>\n     <use xlink:href=\"#ArialMT-34\" x=\"353.027344\"/>\n     <use xlink:href=\"#ArialMT-34\" x=\"408.642578\"/>\n     <use xlink:href=\"#ArialMT-34\" x=\"464.257812\"/>\n    </g>\n    <!-- samples = 3 -->\n    <g style=\"fill: #262626\" transform=\"translate(172.449658 189.28661)scale(0.055459 -0.055459)\">\n     <use xlink:href=\"#ArialMT-73\"/>\n     <use xlink:href=\"#ArialMT-61\" x=\"50\"/>\n     <use xlink:href=\"#ArialMT-6d\" x=\"105.615234\"/>\n     <use xlink:href=\"#ArialMT-70\" x=\"188.916016\"/>\n     <use xlink:href=\"#ArialMT-6c\" x=\"244.53125\"/>\n     <use xlink:href=\"#ArialMT-65\" x=\"266.748047\"/>\n     <use xlink:href=\"#ArialMT-73\" x=\"322.363281\"/>\n     <use xlink:href=\"#ArialMT-20\" x=\"372.363281\"/>\n     <use xlink:href=\"#ArialMT-3d\" x=\"400.146484\"/>\n     <use xlink:href=\"#ArialMT-20\" x=\"458.544922\"/>\n     <use xlink:href=\"#ArialMT-33\" x=\"486.328125\"/>\n    </g>\n    <!-- value = [0, 2, 1] -->\n    <g style=\"fill: #262626\" transform=\"translate(168.439701 195.172213)scale(0.055459 -0.055459)\">\n     <use xlink:href=\"#ArialMT-76\"/>\n     <use xlink:href=\"#ArialMT-61\" x=\"50\"/>\n     <use xlink:href=\"#ArialMT-6c\" x=\"105.615234\"/>\n     <use xlink:href=\"#ArialMT-75\" x=\"127.832031\"/>\n     <use xlink:href=\"#ArialMT-65\" x=\"183.447266\"/>\n     <use xlink:href=\"#ArialMT-20\" x=\"239.0625\"/>\n     <use xlink:href=\"#ArialMT-3d\" x=\"266.845703\"/>\n     <use xlink:href=\"#ArialMT-20\" x=\"325.244141\"/>\n     <use xlink:href=\"#ArialMT-5b\" x=\"353.027344\"/>\n     <use xlink:href=\"#ArialMT-30\" x=\"380.810547\"/>\n     <use xlink:href=\"#ArialMT-2c\" x=\"436.425781\"/>\n     <use xlink:href=\"#ArialMT-20\" x=\"464.208984\"/>\n     <use xlink:href=\"#ArialMT-32\" x=\"491.992188\"/>\n     <use xlink:href=\"#ArialMT-2c\" x=\"547.607422\"/>\n     <use xlink:href=\"#ArialMT-20\" x=\"575.390625\"/>\n     <use xlink:href=\"#ArialMT-31\" x=\"603.173828\"/>\n     <use xlink:href=\"#ArialMT-5d\" x=\"658.789062\"/>\n    </g>\n   </g>\n   <g id=\"patch_14\">\n    <path d=\"M 248.785237 171.078249 \nQ 255.859468 161.123615 263.581345 150.257633 \n\" style=\"fill: none; stroke: #262626; stroke-linecap: round\"/>\n    <path d=\"M 250.974408 169.912503 \nL 248.785237 171.078249 \nL 249.166143 168.627464 \n\" style=\"fill: none; stroke: #262626; stroke-linecap: round\"/>\n   </g>\n   <g id=\"text_8\">\n    <g id=\"patch_15\">\n     <path d=\"M 217.729027 195.550029 \nL 260.240204 195.550029 \nL 260.240204 174.12373 \nL 217.729027 174.12373 \nz\n\" style=\"fill: #8139e5; stroke: #ffffff; stroke-linejoin: miter\"/>\n    </g>\n    <!-- gini = 0.0 -->\n    <g style=\"fill: #262626\" transform=\"translate(227.653616 180.393214)scale(0.055459 -0.055459)\">\n     <use xlink:href=\"#ArialMT-67\"/>\n     <use xlink:href=\"#ArialMT-69\" x=\"55.615234\"/>\n     <use xlink:href=\"#ArialMT-6e\" x=\"77.832031\"/>\n     <use xlink:href=\"#ArialMT-69\" x=\"133.447266\"/>\n     <use xlink:href=\"#ArialMT-20\" x=\"155.664062\"/>\n     <use xlink:href=\"#ArialMT-3d\" x=\"183.447266\"/>\n     <use xlink:href=\"#ArialMT-20\" x=\"241.845703\"/>\n     <use xlink:href=\"#ArialMT-30\" x=\"269.628906\"/>\n     <use xlink:href=\"#ArialMT-2e\" x=\"325.244141\"/>\n     <use xlink:href=\"#ArialMT-30\" x=\"353.027344\"/>\n    </g>\n    <!-- samples = 2 -->\n    <g style=\"fill: #262626\" transform=\"translate(223.95735 186.343809)scale(0.055459 -0.055459)\">\n     <use xlink:href=\"#ArialMT-73\"/>\n     <use xlink:href=\"#ArialMT-61\" x=\"50\"/>\n     <use xlink:href=\"#ArialMT-6d\" x=\"105.615234\"/>\n     <use xlink:href=\"#ArialMT-70\" x=\"188.916016\"/>\n     <use xlink:href=\"#ArialMT-6c\" x=\"244.53125\"/>\n     <use xlink:href=\"#ArialMT-65\" x=\"266.748047\"/>\n     <use xlink:href=\"#ArialMT-73\" x=\"322.363281\"/>\n     <use xlink:href=\"#ArialMT-20\" x=\"372.363281\"/>\n     <use xlink:href=\"#ArialMT-3d\" x=\"400.146484\"/>\n     <use xlink:href=\"#ArialMT-20\" x=\"458.544922\"/>\n     <use xlink:href=\"#ArialMT-32\" x=\"486.328125\"/>\n    </g>\n    <!-- value = [0, 0, 2] -->\n    <g style=\"fill: #262626\" transform=\"translate(219.947393 192.229412)scale(0.055459 -0.055459)\">\n     <use xlink:href=\"#ArialMT-76\"/>\n     <use xlink:href=\"#ArialMT-61\" x=\"50\"/>\n     <use xlink:href=\"#ArialMT-6c\" x=\"105.615234\"/>\n     <use xlink:href=\"#ArialMT-75\" x=\"127.832031\"/>\n     <use xlink:href=\"#ArialMT-65\" x=\"183.447266\"/>\n     <use xlink:href=\"#ArialMT-20\" x=\"239.0625\"/>\n     <use xlink:href=\"#ArialMT-3d\" x=\"266.845703\"/>\n     <use xlink:href=\"#ArialMT-20\" x=\"325.244141\"/>\n     <use xlink:href=\"#ArialMT-5b\" x=\"353.027344\"/>\n     <use xlink:href=\"#ArialMT-30\" x=\"380.810547\"/>\n     <use xlink:href=\"#ArialMT-2c\" x=\"436.425781\"/>\n     <use xlink:href=\"#ArialMT-20\" x=\"464.208984\"/>\n     <use xlink:href=\"#ArialMT-30\" x=\"491.992188\"/>\n     <use xlink:href=\"#ArialMT-2c\" x=\"547.607422\"/>\n     <use xlink:href=\"#ArialMT-20\" x=\"575.390625\"/>\n     <use xlink:href=\"#ArialMT-32\" x=\"603.173828\"/>\n     <use xlink:href=\"#ArialMT-5d\" x=\"658.789062\"/>\n    </g>\n   </g>\n   <g id=\"patch_16\">\n    <path d=\"M 280.691686 171.078249 \nQ 273.617455 161.123615 265.895578 150.257633 \n\" style=\"fill: none; stroke: #262626; stroke-linecap: round\"/>\n    <path d=\"M 280.31078 168.627464 \nL 280.691686 171.078249 \nL 278.502515 169.912503 \n\" style=\"fill: none; stroke: #262626; stroke-linecap: round\"/>\n   </g>\n   <g id=\"text_9\">\n    <g id=\"patch_17\">\n     <path d=\"M 269.236719 195.550029 \nL 311.747896 195.550029 \nL 311.747896 174.12373 \nL 269.236719 174.12373 \nz\n\" style=\"fill: #39e581; stroke: #ffffff; stroke-linejoin: miter\"/>\n    </g>\n    <!-- gini = 0.0 -->\n    <g style=\"fill: #262626\" transform=\"translate(279.161309 180.393214)scale(0.055459 -0.055459)\">\n     <use xlink:href=\"#ArialMT-67\"/>\n     <use xlink:href=\"#ArialMT-69\" x=\"55.615234\"/>\n     <use xlink:href=\"#ArialMT-6e\" x=\"77.832031\"/>\n     <use xlink:href=\"#ArialMT-69\" x=\"133.447266\"/>\n     <use xlink:href=\"#ArialMT-20\" x=\"155.664062\"/>\n     <use xlink:href=\"#ArialMT-3d\" x=\"183.447266\"/>\n     <use xlink:href=\"#ArialMT-20\" x=\"241.845703\"/>\n     <use xlink:href=\"#ArialMT-30\" x=\"269.628906\"/>\n     <use xlink:href=\"#ArialMT-2e\" x=\"325.244141\"/>\n     <use xlink:href=\"#ArialMT-30\" x=\"353.027344\"/>\n    </g>\n    <!-- samples = 1 -->\n    <g style=\"fill: #262626\" transform=\"translate(275.465042 186.343809)scale(0.055459 -0.055459)\">\n     <use xlink:href=\"#ArialMT-73\"/>\n     <use xlink:href=\"#ArialMT-61\" x=\"50\"/>\n     <use xlink:href=\"#ArialMT-6d\" x=\"105.615234\"/>\n     <use xlink:href=\"#ArialMT-70\" x=\"188.916016\"/>\n     <use xlink:href=\"#ArialMT-6c\" x=\"244.53125\"/>\n     <use xlink:href=\"#ArialMT-65\" x=\"266.748047\"/>\n     <use xlink:href=\"#ArialMT-73\" x=\"322.363281\"/>\n     <use xlink:href=\"#ArialMT-20\" x=\"372.363281\"/>\n     <use xlink:href=\"#ArialMT-3d\" x=\"400.146484\"/>\n     <use xlink:href=\"#ArialMT-20\" x=\"458.544922\"/>\n     <use xlink:href=\"#ArialMT-31\" x=\"486.328125\"/>\n    </g>\n    <!-- value = [0, 1, 0] -->\n    <g style=\"fill: #262626\" transform=\"translate(271.455085 192.229412)scale(0.055459 -0.055459)\">\n     <use xlink:href=\"#ArialMT-76\"/>\n     <use xlink:href=\"#ArialMT-61\" x=\"50\"/>\n     <use xlink:href=\"#ArialMT-6c\" x=\"105.615234\"/>\n     <use xlink:href=\"#ArialMT-75\" x=\"127.832031\"/>\n     <use xlink:href=\"#ArialMT-65\" x=\"183.447266\"/>\n     <use xlink:href=\"#ArialMT-20\" x=\"239.0625\"/>\n     <use xlink:href=\"#ArialMT-3d\" x=\"266.845703\"/>\n     <use xlink:href=\"#ArialMT-20\" x=\"325.244141\"/>\n     <use xlink:href=\"#ArialMT-5b\" x=\"353.027344\"/>\n     <use xlink:href=\"#ArialMT-30\" x=\"380.810547\"/>\n     <use xlink:href=\"#ArialMT-2c\" x=\"436.425781\"/>\n     <use xlink:href=\"#ArialMT-20\" x=\"464.208984\"/>\n     <use xlink:href=\"#ArialMT-31\" x=\"491.992188\"/>\n     <use xlink:href=\"#ArialMT-2c\" x=\"547.607422\"/>\n     <use xlink:href=\"#ArialMT-20\" x=\"575.390625\"/>\n     <use xlink:href=\"#ArialMT-30\" x=\"603.173828\"/>\n     <use xlink:href=\"#ArialMT-5d\" x=\"658.789062\"/>\n    </g>\n   </g>\n   <g id=\"patch_18\">\n    <path d=\"M 81.333615 132.710132 \nQ 94.500749 123.445945 108.58227 113.538409 \n\" style=\"fill: none; stroke: #262626; stroke-linecap: round\"/>\n    <path d=\"M 83.786167 132.34077 \nL 81.333615 132.710132 \nL 82.509657 130.526474 \n\" style=\"fill: none; stroke: #262626; stroke-linecap: round\"/>\n   </g>\n   <g id=\"text_10\">\n    <g id=\"patch_19\">\n     <path d=\"M 35.910079 162.25283 \nL 81.505305 162.25283 \nL 81.505305 135.00592 \nL 35.910079 135.00592 \nz\n\" style=\"fill: #3de684; stroke: #ffffff; stroke-linejoin: miter\"/>\n    </g>\n    <!-- X[3] &lt;= 1.65 -->\n    <g style=\"fill: #262626\" transform=\"translate(43.598971 141.210413)scale(0.055459 -0.055459)\">\n     <defs>\n      <path id=\"ArialMT-36\" d=\"M 3184 3459 \nL 2625 3416 \nQ 2550 3747 2413 3897 \nQ 2184 4138 1850 4138 \nQ 1581 4138 1378 3988 \nQ 1113 3794 959 3422 \nQ 806 3050 800 2363 \nQ 1003 2672 1297 2822 \nQ 1591 2972 1913 2972 \nQ 2475 2972 2870 2558 \nQ 3266 2144 3266 1488 \nQ 3266 1056 3080 686 \nQ 2894 316 2569 119 \nQ 2244 -78 1831 -78 \nQ 1128 -78 684 439 \nQ 241 956 241 2144 \nQ 241 3472 731 4075 \nQ 1159 4600 1884 4600 \nQ 2425 4600 2770 4297 \nQ 3116 3994 3184 3459 \nz\nM 888 1484 \nQ 888 1194 1011 928 \nQ 1134 663 1356 523 \nQ 1578 384 1822 384 \nQ 2178 384 2434 671 \nQ 2691 959 2691 1453 \nQ 2691 1928 2437 2201 \nQ 2184 2475 1800 2475 \nQ 1419 2475 1153 2201 \nQ 888 1928 888 1484 \nz\n\" transform=\"scale(0.015625)\"/>\n     </defs>\n     <use xlink:href=\"#ArialMT-58\"/>\n     <use xlink:href=\"#ArialMT-5b\" x=\"66.699219\"/>\n     <use xlink:href=\"#ArialMT-33\" x=\"94.482422\"/>\n     <use xlink:href=\"#ArialMT-5d\" x=\"150.097656\"/>\n     <use xlink:href=\"#ArialMT-20\" x=\"177.880859\"/>\n     <use xlink:href=\"#ArialMT-3c\" x=\"205.664062\"/>\n     <use xlink:href=\"#ArialMT-3d\" x=\"264.0625\"/>\n     <use xlink:href=\"#ArialMT-20\" x=\"322.460938\"/>\n     <use xlink:href=\"#ArialMT-31\" x=\"350.244141\"/>\n     <use xlink:href=\"#ArialMT-2e\" x=\"405.859375\"/>\n     <use xlink:href=\"#ArialMT-36\" x=\"433.642578\"/>\n     <use xlink:href=\"#ArialMT-35\" x=\"489.257812\"/>\n    </g>\n    <!-- gini = 0.041 -->\n    <g style=\"fill: #262626\" transform=\"translate(44.292644 147.096016)scale(0.055459 -0.055459)\">\n     <use xlink:href=\"#ArialMT-67\"/>\n     <use xlink:href=\"#ArialMT-69\" x=\"55.615234\"/>\n     <use xlink:href=\"#ArialMT-6e\" x=\"77.832031\"/>\n     <use xlink:href=\"#ArialMT-69\" x=\"133.447266\"/>\n     <use xlink:href=\"#ArialMT-20\" x=\"155.664062\"/>\n     <use xlink:href=\"#ArialMT-3d\" x=\"183.447266\"/>\n     <use xlink:href=\"#ArialMT-20\" x=\"241.845703\"/>\n     <use xlink:href=\"#ArialMT-30\" x=\"269.628906\"/>\n     <use xlink:href=\"#ArialMT-2e\" x=\"325.244141\"/>\n     <use xlink:href=\"#ArialMT-30\" x=\"353.027344\"/>\n     <use xlink:href=\"#ArialMT-34\" x=\"408.642578\"/>\n     <use xlink:href=\"#ArialMT-31\" x=\"464.257812\"/>\n    </g>\n    <!-- samples = 48 -->\n    <g style=\"fill: #262626\" transform=\"translate(42.138403 153.04661)scale(0.055459 -0.055459)\">\n     <defs>\n      <path id=\"ArialMT-38\" d=\"M 1131 2484 \nQ 781 2613 612 2850 \nQ 444 3088 444 3419 \nQ 444 3919 803 4259 \nQ 1163 4600 1759 4600 \nQ 2359 4600 2725 4251 \nQ 3091 3903 3091 3403 \nQ 3091 3084 2923 2848 \nQ 2756 2613 2416 2484 \nQ 2838 2347 3058 2040 \nQ 3278 1734 3278 1309 \nQ 3278 722 2862 322 \nQ 2447 -78 1769 -78 \nQ 1091 -78 675 323 \nQ 259 725 259 1325 \nQ 259 1772 486 2073 \nQ 713 2375 1131 2484 \nz\nM 1019 3438 \nQ 1019 3113 1228 2906 \nQ 1438 2700 1772 2700 \nQ 2097 2700 2305 2904 \nQ 2513 3109 2513 3406 \nQ 2513 3716 2298 3927 \nQ 2084 4138 1766 4138 \nQ 1444 4138 1231 3931 \nQ 1019 3725 1019 3438 \nz\nM 838 1322 \nQ 838 1081 952 856 \nQ 1066 631 1291 507 \nQ 1516 384 1775 384 \nQ 2178 384 2440 643 \nQ 2703 903 2703 1303 \nQ 2703 1709 2433 1975 \nQ 2163 2241 1756 2241 \nQ 1359 2241 1098 1978 \nQ 838 1716 838 1322 \nz\n\" transform=\"scale(0.015625)\"/>\n     </defs>\n     <use xlink:href=\"#ArialMT-73\"/>\n     <use xlink:href=\"#ArialMT-61\" x=\"50\"/>\n     <use xlink:href=\"#ArialMT-6d\" x=\"105.615234\"/>\n     <use xlink:href=\"#ArialMT-70\" x=\"188.916016\"/>\n     <use xlink:href=\"#ArialMT-6c\" x=\"244.53125\"/>\n     <use xlink:href=\"#ArialMT-65\" x=\"266.748047\"/>\n     <use xlink:href=\"#ArialMT-73\" x=\"322.363281\"/>\n     <use xlink:href=\"#ArialMT-20\" x=\"372.363281\"/>\n     <use xlink:href=\"#ArialMT-3d\" x=\"400.146484\"/>\n     <use xlink:href=\"#ArialMT-20\" x=\"458.544922\"/>\n     <use xlink:href=\"#ArialMT-34\" x=\"486.328125\"/>\n     <use xlink:href=\"#ArialMT-38\" x=\"541.943359\"/>\n    </g>\n    <!-- value = [0, 47, 1] -->\n    <g style=\"fill: #262626\" transform=\"translate(38.128445 158.932213)scale(0.055459 -0.055459)\">\n     <use xlink:href=\"#ArialMT-76\"/>\n     <use xlink:href=\"#ArialMT-61\" x=\"50\"/>\n     <use xlink:href=\"#ArialMT-6c\" x=\"105.615234\"/>\n     <use xlink:href=\"#ArialMT-75\" x=\"127.832031\"/>\n     <use xlink:href=\"#ArialMT-65\" x=\"183.447266\"/>\n     <use xlink:href=\"#ArialMT-20\" x=\"239.0625\"/>\n     <use xlink:href=\"#ArialMT-3d\" x=\"266.845703\"/>\n     <use xlink:href=\"#ArialMT-20\" x=\"325.244141\"/>\n     <use xlink:href=\"#ArialMT-5b\" x=\"353.027344\"/>\n     <use xlink:href=\"#ArialMT-30\" x=\"380.810547\"/>\n     <use xlink:href=\"#ArialMT-2c\" x=\"436.425781\"/>\n     <use xlink:href=\"#ArialMT-20\" x=\"464.208984\"/>\n     <use xlink:href=\"#ArialMT-34\" x=\"491.992188\"/>\n     <use xlink:href=\"#ArialMT-37\" x=\"547.607422\"/>\n     <use xlink:href=\"#ArialMT-2c\" x=\"603.222656\"/>\n     <use xlink:href=\"#ArialMT-20\" x=\"631.005859\"/>\n     <use xlink:href=\"#ArialMT-31\" x=\"658.789062\"/>\n     <use xlink:href=\"#ArialMT-5d\" x=\"714.404297\"/>\n    </g>\n   </g>\n   <g id=\"patch_20\">\n    <path d=\"M 139.097154 132.710132 \nQ 125.93002 123.445945 111.848499 113.538409 \n\" style=\"fill: none; stroke: #262626; stroke-linecap: round\"/>\n    <path d=\"M 137.921113 130.526474 \nL 139.097154 132.710132 \nL 136.644602 132.34077 \n\" style=\"fill: none; stroke: #262626; stroke-linecap: round\"/>\n   </g>\n   <g id=\"text_11\">\n    <g id=\"patch_21\">\n     <path d=\"M 140.467488 162.25283 \nL 182.978665 162.25283 \nL 182.978665 135.00592 \nL 140.467488 135.00592 \nz\n\" style=\"fill: #c09cf2; stroke: #ffffff; stroke-linejoin: miter\"/>\n    </g>\n    <!-- X[3] &lt;= 1.55 -->\n    <g style=\"fill: #262626\" transform=\"translate(146.614356 141.210413)scale(0.055459 -0.055459)\">\n     <use xlink:href=\"#ArialMT-58\"/>\n     <use xlink:href=\"#ArialMT-5b\" x=\"66.699219\"/>\n     <use xlink:href=\"#ArialMT-33\" x=\"94.482422\"/>\n     <use xlink:href=\"#ArialMT-5d\" x=\"150.097656\"/>\n     <use xlink:href=\"#ArialMT-20\" x=\"177.880859\"/>\n     <use xlink:href=\"#ArialMT-3c\" x=\"205.664062\"/>\n     <use xlink:href=\"#ArialMT-3d\" x=\"264.0625\"/>\n     <use xlink:href=\"#ArialMT-20\" x=\"322.460938\"/>\n     <use xlink:href=\"#ArialMT-31\" x=\"350.244141\"/>\n     <use xlink:href=\"#ArialMT-2e\" x=\"405.859375\"/>\n     <use xlink:href=\"#ArialMT-35\" x=\"433.642578\"/>\n     <use xlink:href=\"#ArialMT-35\" x=\"489.257812\"/>\n    </g>\n    <!-- gini = 0.444 -->\n    <g style=\"fill: #262626\" transform=\"translate(147.308029 147.096016)scale(0.055459 -0.055459)\">\n     <use xlink:href=\"#ArialMT-67\"/>\n     <use xlink:href=\"#ArialMT-69\" x=\"55.615234\"/>\n     <use xlink:href=\"#ArialMT-6e\" x=\"77.832031\"/>\n     <use xlink:href=\"#ArialMT-69\" x=\"133.447266\"/>\n     <use xlink:href=\"#ArialMT-20\" x=\"155.664062\"/>\n     <use xlink:href=\"#ArialMT-3d\" x=\"183.447266\"/>\n     <use xlink:href=\"#ArialMT-20\" x=\"241.845703\"/>\n     <use xlink:href=\"#ArialMT-30\" x=\"269.628906\"/>\n     <use xlink:href=\"#ArialMT-2e\" x=\"325.244141\"/>\n     <use xlink:href=\"#ArialMT-34\" x=\"353.027344\"/>\n     <use xlink:href=\"#ArialMT-34\" x=\"408.642578\"/>\n     <use xlink:href=\"#ArialMT-34\" x=\"464.257812\"/>\n    </g>\n    <!-- samples = 6 -->\n    <g style=\"fill: #262626\" transform=\"translate(146.695812 153.04661)scale(0.055459 -0.055459)\">\n     <use xlink:href=\"#ArialMT-73\"/>\n     <use xlink:href=\"#ArialMT-61\" x=\"50\"/>\n     <use xlink:href=\"#ArialMT-6d\" x=\"105.615234\"/>\n     <use xlink:href=\"#ArialMT-70\" x=\"188.916016\"/>\n     <use xlink:href=\"#ArialMT-6c\" x=\"244.53125\"/>\n     <use xlink:href=\"#ArialMT-65\" x=\"266.748047\"/>\n     <use xlink:href=\"#ArialMT-73\" x=\"322.363281\"/>\n     <use xlink:href=\"#ArialMT-20\" x=\"372.363281\"/>\n     <use xlink:href=\"#ArialMT-3d\" x=\"400.146484\"/>\n     <use xlink:href=\"#ArialMT-20\" x=\"458.544922\"/>\n     <use xlink:href=\"#ArialMT-36\" x=\"486.328125\"/>\n    </g>\n    <!-- value = [0, 2, 4] -->\n    <g style=\"fill: #262626\" transform=\"translate(142.685855 158.932213)scale(0.055459 -0.055459)\">\n     <use xlink:href=\"#ArialMT-76\"/>\n     <use xlink:href=\"#ArialMT-61\" x=\"50\"/>\n     <use xlink:href=\"#ArialMT-6c\" x=\"105.615234\"/>\n     <use xlink:href=\"#ArialMT-75\" x=\"127.832031\"/>\n     <use xlink:href=\"#ArialMT-65\" x=\"183.447266\"/>\n     <use xlink:href=\"#ArialMT-20\" x=\"239.0625\"/>\n     <use xlink:href=\"#ArialMT-3d\" x=\"266.845703\"/>\n     <use xlink:href=\"#ArialMT-20\" x=\"325.244141\"/>\n     <use xlink:href=\"#ArialMT-5b\" x=\"353.027344\"/>\n     <use xlink:href=\"#ArialMT-30\" x=\"380.810547\"/>\n     <use xlink:href=\"#ArialMT-2c\" x=\"436.425781\"/>\n     <use xlink:href=\"#ArialMT-20\" x=\"464.208984\"/>\n     <use xlink:href=\"#ArialMT-32\" x=\"491.992188\"/>\n     <use xlink:href=\"#ArialMT-2c\" x=\"547.607422\"/>\n     <use xlink:href=\"#ArialMT-20\" x=\"575.390625\"/>\n     <use xlink:href=\"#ArialMT-34\" x=\"603.173828\"/>\n     <use xlink:href=\"#ArialMT-5d\" x=\"658.789062\"/>\n    </g>\n   </g>\n   <g id=\"patch_22\">\n    <path d=\"M 276.579553 131.966965 \nQ 282.633566 123.447949 289.335225 114.017585 \n\" style=\"fill: none; stroke: #262626; stroke-linecap: round\"/>\n    <path d=\"M 278.768724 130.801218 \nL 276.579553 131.966965 \nL 276.960459 129.51618 \n\" style=\"fill: none; stroke: #262626; stroke-linecap: round\"/>\n   </g>\n   <g id=\"text_12\">\n    <g id=\"patch_23\">\n     <path d=\"M 243.482873 162.25283 \nL 285.99405 162.25283 \nL 285.99405 135.00592 \nL 243.482873 135.00592 \nz\n\" style=\"fill: #c09cf2; stroke: #ffffff; stroke-linejoin: miter\"/>\n    </g>\n    <!-- X[1] &lt;= 3.1 -->\n    <g style=\"fill: #262626\" transform=\"translate(251.171765 141.210413)scale(0.055459 -0.055459)\">\n     <use xlink:href=\"#ArialMT-58\"/>\n     <use xlink:href=\"#ArialMT-5b\" x=\"66.699219\"/>\n     <use xlink:href=\"#ArialMT-31\" x=\"94.482422\"/>\n     <use xlink:href=\"#ArialMT-5d\" x=\"150.097656\"/>\n     <use xlink:href=\"#ArialMT-20\" x=\"177.880859\"/>\n     <use xlink:href=\"#ArialMT-3c\" x=\"205.664062\"/>\n     <use xlink:href=\"#ArialMT-3d\" x=\"264.0625\"/>\n     <use xlink:href=\"#ArialMT-20\" x=\"322.460938\"/>\n     <use xlink:href=\"#ArialMT-33\" x=\"350.244141\"/>\n     <use xlink:href=\"#ArialMT-2e\" x=\"405.859375\"/>\n     <use xlink:href=\"#ArialMT-31\" x=\"433.642578\"/>\n    </g>\n    <!-- gini = 0.444 -->\n    <g style=\"fill: #262626\" transform=\"translate(250.323413 147.096016)scale(0.055459 -0.055459)\">\n     <use xlink:href=\"#ArialMT-67\"/>\n     <use xlink:href=\"#ArialMT-69\" x=\"55.615234\"/>\n     <use xlink:href=\"#ArialMT-6e\" x=\"77.832031\"/>\n     <use xlink:href=\"#ArialMT-69\" x=\"133.447266\"/>\n     <use xlink:href=\"#ArialMT-20\" x=\"155.664062\"/>\n     <use xlink:href=\"#ArialMT-3d\" x=\"183.447266\"/>\n     <use xlink:href=\"#ArialMT-20\" x=\"241.845703\"/>\n     <use xlink:href=\"#ArialMT-30\" x=\"269.628906\"/>\n     <use xlink:href=\"#ArialMT-2e\" x=\"325.244141\"/>\n     <use xlink:href=\"#ArialMT-34\" x=\"353.027344\"/>\n     <use xlink:href=\"#ArialMT-34\" x=\"408.642578\"/>\n     <use xlink:href=\"#ArialMT-34\" x=\"464.257812\"/>\n    </g>\n    <!-- samples = 3 -->\n    <g style=\"fill: #262626\" transform=\"translate(249.711196 153.04661)scale(0.055459 -0.055459)\">\n     <use xlink:href=\"#ArialMT-73\"/>\n     <use xlink:href=\"#ArialMT-61\" x=\"50\"/>\n     <use xlink:href=\"#ArialMT-6d\" x=\"105.615234\"/>\n     <use xlink:href=\"#ArialMT-70\" x=\"188.916016\"/>\n     <use xlink:href=\"#ArialMT-6c\" x=\"244.53125\"/>\n     <use xlink:href=\"#ArialMT-65\" x=\"266.748047\"/>\n     <use xlink:href=\"#ArialMT-73\" x=\"322.363281\"/>\n     <use xlink:href=\"#ArialMT-20\" x=\"372.363281\"/>\n     <use xlink:href=\"#ArialMT-3d\" x=\"400.146484\"/>\n     <use xlink:href=\"#ArialMT-20\" x=\"458.544922\"/>\n     <use xlink:href=\"#ArialMT-33\" x=\"486.328125\"/>\n    </g>\n    <!-- value = [0, 1, 2] -->\n    <g style=\"fill: #262626\" transform=\"translate(245.701239 158.932213)scale(0.055459 -0.055459)\">\n     <use xlink:href=\"#ArialMT-76\"/>\n     <use xlink:href=\"#ArialMT-61\" x=\"50\"/>\n     <use xlink:href=\"#ArialMT-6c\" x=\"105.615234\"/>\n     <use xlink:href=\"#ArialMT-75\" x=\"127.832031\"/>\n     <use xlink:href=\"#ArialMT-65\" x=\"183.447266\"/>\n     <use xlink:href=\"#ArialMT-20\" x=\"239.0625\"/>\n     <use xlink:href=\"#ArialMT-3d\" x=\"266.845703\"/>\n     <use xlink:href=\"#ArialMT-20\" x=\"325.244141\"/>\n     <use xlink:href=\"#ArialMT-5b\" x=\"353.027344\"/>\n     <use xlink:href=\"#ArialMT-30\" x=\"380.810547\"/>\n     <use xlink:href=\"#ArialMT-2c\" x=\"436.425781\"/>\n     <use xlink:href=\"#ArialMT-20\" x=\"464.208984\"/>\n     <use xlink:href=\"#ArialMT-31\" x=\"491.992188\"/>\n     <use xlink:href=\"#ArialMT-2c\" x=\"547.607422\"/>\n     <use xlink:href=\"#ArialMT-20\" x=\"575.390625\"/>\n     <use xlink:href=\"#ArialMT-32\" x=\"603.173828\"/>\n     <use xlink:href=\"#ArialMT-5d\" x=\"658.789062\"/>\n    </g>\n   </g>\n   <g id=\"patch_24\">\n    <path d=\"M 306.445532 134.838249 \nQ 299.371301 124.883615 291.649424 114.017633 \n\" style=\"fill: none; stroke: #262626; stroke-linecap: round\"/>\n    <path d=\"M 306.064626 132.387464 \nL 306.445532 134.838249 \nL 304.256361 133.672503 \n\" style=\"fill: none; stroke: #262626; stroke-linecap: round\"/>\n   </g>\n   <g id=\"text_13\">\n    <g id=\"patch_25\">\n     <path d=\"M 293.448541 159.310029 \nL 339.043767 159.310029 \nL 339.043767 137.88373 \nL 293.448541 137.88373 \nz\n\" style=\"fill: #8139e5; stroke: #ffffff; stroke-linejoin: miter\"/>\n    </g>\n    <!-- gini = 0.0 -->\n    <g style=\"fill: #262626\" transform=\"translate(304.915155 144.153214)scale(0.055459 -0.055459)\">\n     <use xlink:href=\"#ArialMT-67\"/>\n     <use xlink:href=\"#ArialMT-69\" x=\"55.615234\"/>\n     <use xlink:href=\"#ArialMT-6e\" x=\"77.832031\"/>\n     <use xlink:href=\"#ArialMT-69\" x=\"133.447266\"/>\n     <use xlink:href=\"#ArialMT-20\" x=\"155.664062\"/>\n     <use xlink:href=\"#ArialMT-3d\" x=\"183.447266\"/>\n     <use xlink:href=\"#ArialMT-20\" x=\"241.845703\"/>\n     <use xlink:href=\"#ArialMT-30\" x=\"269.628906\"/>\n     <use xlink:href=\"#ArialMT-2e\" x=\"325.244141\"/>\n     <use xlink:href=\"#ArialMT-30\" x=\"353.027344\"/>\n    </g>\n    <!-- samples = 43 -->\n    <g style=\"fill: #262626\" transform=\"translate(299.676864 150.103809)scale(0.055459 -0.055459)\">\n     <use xlink:href=\"#ArialMT-73\"/>\n     <use xlink:href=\"#ArialMT-61\" x=\"50\"/>\n     <use xlink:href=\"#ArialMT-6d\" x=\"105.615234\"/>\n     <use xlink:href=\"#ArialMT-70\" x=\"188.916016\"/>\n     <use xlink:href=\"#ArialMT-6c\" x=\"244.53125\"/>\n     <use xlink:href=\"#ArialMT-65\" x=\"266.748047\"/>\n     <use xlink:href=\"#ArialMT-73\" x=\"322.363281\"/>\n     <use xlink:href=\"#ArialMT-20\" x=\"372.363281\"/>\n     <use xlink:href=\"#ArialMT-3d\" x=\"400.146484\"/>\n     <use xlink:href=\"#ArialMT-20\" x=\"458.544922\"/>\n     <use xlink:href=\"#ArialMT-34\" x=\"486.328125\"/>\n     <use xlink:href=\"#ArialMT-33\" x=\"541.943359\"/>\n    </g>\n    <!-- value = [0, 0, 43] -->\n    <g style=\"fill: #262626\" transform=\"translate(295.666907 155.989412)scale(0.055459 -0.055459)\">\n     <use xlink:href=\"#ArialMT-76\"/>\n     <use xlink:href=\"#ArialMT-61\" x=\"50\"/>\n     <use xlink:href=\"#ArialMT-6c\" x=\"105.615234\"/>\n     <use xlink:href=\"#ArialMT-75\" x=\"127.832031\"/>\n     <use xlink:href=\"#ArialMT-65\" x=\"183.447266\"/>\n     <use xlink:href=\"#ArialMT-20\" x=\"239.0625\"/>\n     <use xlink:href=\"#ArialMT-3d\" x=\"266.845703\"/>\n     <use xlink:href=\"#ArialMT-20\" x=\"325.244141\"/>\n     <use xlink:href=\"#ArialMT-5b\" x=\"353.027344\"/>\n     <use xlink:href=\"#ArialMT-30\" x=\"380.810547\"/>\n     <use xlink:href=\"#ArialMT-2c\" x=\"436.425781\"/>\n     <use xlink:href=\"#ArialMT-20\" x=\"464.208984\"/>\n     <use xlink:href=\"#ArialMT-30\" x=\"491.992188\"/>\n     <use xlink:href=\"#ArialMT-2c\" x=\"547.607422\"/>\n     <use xlink:href=\"#ArialMT-20\" x=\"575.390625\"/>\n     <use xlink:href=\"#ArialMT-34\" x=\"603.173828\"/>\n     <use xlink:href=\"#ArialMT-33\" x=\"658.789062\"/>\n     <use xlink:href=\"#ArialMT-5d\" x=\"714.404297\"/>\n    </g>\n   </g>\n   <g id=\"patch_26\">\n    <path d=\"M 136.405573 101.859659 \nQ 166.934887 89.585405 198.501534 76.894094 \n\" style=\"fill: none; stroke: #262626; stroke-linecap: round\"/>\n    <path d=\"M 138.877575 102.061267 \nL 136.405573 101.859659 \nL 138.050061 100.003023 \n\" style=\"fill: none; stroke: #262626; stroke-linecap: round\"/>\n   </g>\n   <g id=\"text_14\">\n    <g id=\"patch_27\">\n     <path d=\"M 87.417772 126.002952 \nL 133.012998 126.002952 \nL 133.012998 98.775798 \nL 87.417772 98.775798 \nz\n\" style=\"fill: #4de88e; stroke: #ffffff; stroke-linejoin: miter\"/>\n    </g>\n    <!-- X[2] &lt;= 4.95 -->\n    <g style=\"fill: #262626\" transform=\"translate(95.106664 104.980292)scale(0.055459 -0.055459)\">\n     <defs>\n      <path id=\"ArialMT-39\" d=\"M 350 1059 \nL 891 1109 \nQ 959 728 1153 556 \nQ 1347 384 1650 384 \nQ 1909 384 2104 503 \nQ 2300 622 2425 820 \nQ 2550 1019 2634 1356 \nQ 2719 1694 2719 2044 \nQ 2719 2081 2716 2156 \nQ 2547 1888 2255 1720 \nQ 1963 1553 1622 1553 \nQ 1053 1553 659 1965 \nQ 266 2378 266 3053 \nQ 266 3750 677 4175 \nQ 1088 4600 1706 4600 \nQ 2153 4600 2523 4359 \nQ 2894 4119 3086 3673 \nQ 3278 3228 3278 2384 \nQ 3278 1506 3087 986 \nQ 2897 466 2520 194 \nQ 2144 -78 1638 -78 \nQ 1100 -78 759 220 \nQ 419 519 350 1059 \nz\nM 2653 3081 \nQ 2653 3566 2395 3850 \nQ 2138 4134 1775 4134 \nQ 1400 4134 1122 3828 \nQ 844 3522 844 3034 \nQ 844 2597 1108 2323 \nQ 1372 2050 1759 2050 \nQ 2150 2050 2401 2323 \nQ 2653 2597 2653 3081 \nz\n\" transform=\"scale(0.015625)\"/>\n     </defs>\n     <use xlink:href=\"#ArialMT-58\"/>\n     <use xlink:href=\"#ArialMT-5b\" x=\"66.699219\"/>\n     <use xlink:href=\"#ArialMT-32\" x=\"94.482422\"/>\n     <use xlink:href=\"#ArialMT-5d\" x=\"150.097656\"/>\n     <use xlink:href=\"#ArialMT-20\" x=\"177.880859\"/>\n     <use xlink:href=\"#ArialMT-3c\" x=\"205.664062\"/>\n     <use xlink:href=\"#ArialMT-3d\" x=\"264.0625\"/>\n     <use xlink:href=\"#ArialMT-20\" x=\"322.460938\"/>\n     <use xlink:href=\"#ArialMT-34\" x=\"350.244141\"/>\n     <use xlink:href=\"#ArialMT-2e\" x=\"405.859375\"/>\n     <use xlink:href=\"#ArialMT-39\" x=\"433.642578\"/>\n     <use xlink:href=\"#ArialMT-35\" x=\"489.257812\"/>\n    </g>\n    <!-- gini = 0.168 -->\n    <g style=\"fill: #262626\" transform=\"translate(95.800336 110.865895)scale(0.055459 -0.055459)\">\n     <use xlink:href=\"#ArialMT-67\"/>\n     <use xlink:href=\"#ArialMT-69\" x=\"55.615234\"/>\n     <use xlink:href=\"#ArialMT-6e\" x=\"77.832031\"/>\n     <use xlink:href=\"#ArialMT-69\" x=\"133.447266\"/>\n     <use xlink:href=\"#ArialMT-20\" x=\"155.664062\"/>\n     <use xlink:href=\"#ArialMT-3d\" x=\"183.447266\"/>\n     <use xlink:href=\"#ArialMT-20\" x=\"241.845703\"/>\n     <use xlink:href=\"#ArialMT-30\" x=\"269.628906\"/>\n     <use xlink:href=\"#ArialMT-2e\" x=\"325.244141\"/>\n     <use xlink:href=\"#ArialMT-31\" x=\"353.027344\"/>\n     <use xlink:href=\"#ArialMT-36\" x=\"408.642578\"/>\n     <use xlink:href=\"#ArialMT-38\" x=\"464.257812\"/>\n    </g>\n    <!-- samples = 54 -->\n    <g style=\"fill: #262626\" transform=\"translate(93.646095 116.796732)scale(0.055459 -0.055459)\">\n     <use xlink:href=\"#ArialMT-73\"/>\n     <use xlink:href=\"#ArialMT-61\" x=\"50\"/>\n     <use xlink:href=\"#ArialMT-6d\" x=\"105.615234\"/>\n     <use xlink:href=\"#ArialMT-70\" x=\"188.916016\"/>\n     <use xlink:href=\"#ArialMT-6c\" x=\"244.53125\"/>\n     <use xlink:href=\"#ArialMT-65\" x=\"266.748047\"/>\n     <use xlink:href=\"#ArialMT-73\" x=\"322.363281\"/>\n     <use xlink:href=\"#ArialMT-20\" x=\"372.363281\"/>\n     <use xlink:href=\"#ArialMT-3d\" x=\"400.146484\"/>\n     <use xlink:href=\"#ArialMT-20\" x=\"458.544922\"/>\n     <use xlink:href=\"#ArialMT-35\" x=\"486.328125\"/>\n     <use xlink:href=\"#ArialMT-34\" x=\"541.943359\"/>\n    </g>\n    <!-- value = [0, 49, 5] -->\n    <g style=\"fill: #262626\" transform=\"translate(89.636138 122.682335)scale(0.055459 -0.055459)\">\n     <use xlink:href=\"#ArialMT-76\"/>\n     <use xlink:href=\"#ArialMT-61\" x=\"50\"/>\n     <use xlink:href=\"#ArialMT-6c\" x=\"105.615234\"/>\n     <use xlink:href=\"#ArialMT-75\" x=\"127.832031\"/>\n     <use xlink:href=\"#ArialMT-65\" x=\"183.447266\"/>\n     <use xlink:href=\"#ArialMT-20\" x=\"239.0625\"/>\n     <use xlink:href=\"#ArialMT-3d\" x=\"266.845703\"/>\n     <use xlink:href=\"#ArialMT-20\" x=\"325.244141\"/>\n     <use xlink:href=\"#ArialMT-5b\" x=\"353.027344\"/>\n     <use xlink:href=\"#ArialMT-30\" x=\"380.810547\"/>\n     <use xlink:href=\"#ArialMT-2c\" x=\"436.425781\"/>\n     <use xlink:href=\"#ArialMT-20\" x=\"464.208984\"/>\n     <use xlink:href=\"#ArialMT-34\" x=\"491.992188\"/>\n     <use xlink:href=\"#ArialMT-39\" x=\"547.607422\"/>\n     <use xlink:href=\"#ArialMT-2c\" x=\"603.222656\"/>\n     <use xlink:href=\"#ArialMT-20\" x=\"631.005859\"/>\n     <use xlink:href=\"#ArialMT-35\" x=\"658.789062\"/>\n     <use xlink:href=\"#ArialMT-5d\" x=\"714.404297\"/>\n    </g>\n   </g>\n   <g id=\"patch_28\">\n    <path d=\"M 264.302119 101.859659 \nQ 233.772806 89.585405 202.206158 76.894094 \n\" style=\"fill: none; stroke: #262626; stroke-linecap: round\"/>\n    <path d=\"M 262.657631 100.003023 \nL 264.302119 101.859659 \nL 261.830118 102.061267 \n\" style=\"fill: none; stroke: #262626; stroke-linecap: round\"/>\n   </g>\n   <g id=\"text_15\">\n    <g id=\"patch_29\">\n     <path d=\"M 267.694695 126.01283 \nL 313.289921 126.01283 \nL 313.289921 98.76592 \nL 267.694695 98.76592 \nz\n\" style=\"fill: #843de6; stroke: #ffffff; stroke-linejoin: miter\"/>\n    </g>\n    <!-- X[2] &lt;= 4.85 -->\n    <g style=\"fill: #262626\" transform=\"translate(275.383587 104.970413)scale(0.055459 -0.055459)\">\n     <use xlink:href=\"#ArialMT-58\"/>\n     <use xlink:href=\"#ArialMT-5b\" x=\"66.699219\"/>\n     <use xlink:href=\"#ArialMT-32\" x=\"94.482422\"/>\n     <use xlink:href=\"#ArialMT-5d\" x=\"150.097656\"/>\n     <use xlink:href=\"#ArialMT-20\" x=\"177.880859\"/>\n     <use xlink:href=\"#ArialMT-3c\" x=\"205.664062\"/>\n     <use xlink:href=\"#ArialMT-3d\" x=\"264.0625\"/>\n     <use xlink:href=\"#ArialMT-20\" x=\"322.460938\"/>\n     <use xlink:href=\"#ArialMT-34\" x=\"350.244141\"/>\n     <use xlink:href=\"#ArialMT-2e\" x=\"405.859375\"/>\n     <use xlink:href=\"#ArialMT-38\" x=\"433.642578\"/>\n     <use xlink:href=\"#ArialMT-35\" x=\"489.257812\"/>\n    </g>\n    <!-- gini = 0.043 -->\n    <g style=\"fill: #262626\" transform=\"translate(276.07726 110.856016)scale(0.055459 -0.055459)\">\n     <use xlink:href=\"#ArialMT-67\"/>\n     <use xlink:href=\"#ArialMT-69\" x=\"55.615234\"/>\n     <use xlink:href=\"#ArialMT-6e\" x=\"77.832031\"/>\n     <use xlink:href=\"#ArialMT-69\" x=\"133.447266\"/>\n     <use xlink:href=\"#ArialMT-20\" x=\"155.664062\"/>\n     <use xlink:href=\"#ArialMT-3d\" x=\"183.447266\"/>\n     <use xlink:href=\"#ArialMT-20\" x=\"241.845703\"/>\n     <use xlink:href=\"#ArialMT-30\" x=\"269.628906\"/>\n     <use xlink:href=\"#ArialMT-2e\" x=\"325.244141\"/>\n     <use xlink:href=\"#ArialMT-30\" x=\"353.027344\"/>\n     <use xlink:href=\"#ArialMT-34\" x=\"408.642578\"/>\n     <use xlink:href=\"#ArialMT-33\" x=\"464.257812\"/>\n    </g>\n    <!-- samples = 46 -->\n    <g style=\"fill: #262626\" transform=\"translate(273.923018 116.80661)scale(0.055459 -0.055459)\">\n     <use xlink:href=\"#ArialMT-73\"/>\n     <use xlink:href=\"#ArialMT-61\" x=\"50\"/>\n     <use xlink:href=\"#ArialMT-6d\" x=\"105.615234\"/>\n     <use xlink:href=\"#ArialMT-70\" x=\"188.916016\"/>\n     <use xlink:href=\"#ArialMT-6c\" x=\"244.53125\"/>\n     <use xlink:href=\"#ArialMT-65\" x=\"266.748047\"/>\n     <use xlink:href=\"#ArialMT-73\" x=\"322.363281\"/>\n     <use xlink:href=\"#ArialMT-20\" x=\"372.363281\"/>\n     <use xlink:href=\"#ArialMT-3d\" x=\"400.146484\"/>\n     <use xlink:href=\"#ArialMT-20\" x=\"458.544922\"/>\n     <use xlink:href=\"#ArialMT-34\" x=\"486.328125\"/>\n     <use xlink:href=\"#ArialMT-36\" x=\"541.943359\"/>\n    </g>\n    <!-- value = [0, 1, 45] -->\n    <g style=\"fill: #262626\" transform=\"translate(269.913061 122.692213)scale(0.055459 -0.055459)\">\n     <use xlink:href=\"#ArialMT-76\"/>\n     <use xlink:href=\"#ArialMT-61\" x=\"50\"/>\n     <use xlink:href=\"#ArialMT-6c\" x=\"105.615234\"/>\n     <use xlink:href=\"#ArialMT-75\" x=\"127.832031\"/>\n     <use xlink:href=\"#ArialMT-65\" x=\"183.447266\"/>\n     <use xlink:href=\"#ArialMT-20\" x=\"239.0625\"/>\n     <use xlink:href=\"#ArialMT-3d\" x=\"266.845703\"/>\n     <use xlink:href=\"#ArialMT-20\" x=\"325.244141\"/>\n     <use xlink:href=\"#ArialMT-5b\" x=\"353.027344\"/>\n     <use xlink:href=\"#ArialMT-30\" x=\"380.810547\"/>\n     <use xlink:href=\"#ArialMT-2c\" x=\"436.425781\"/>\n     <use xlink:href=\"#ArialMT-20\" x=\"464.208984\"/>\n     <use xlink:href=\"#ArialMT-31\" x=\"491.992188\"/>\n     <use xlink:href=\"#ArialMT-2c\" x=\"547.607422\"/>\n     <use xlink:href=\"#ArialMT-20\" x=\"575.390625\"/>\n     <use xlink:href=\"#ArialMT-34\" x=\"603.173828\"/>\n     <use xlink:href=\"#ArialMT-35\" x=\"658.789062\"/>\n     <use xlink:href=\"#ArialMT-5d\" x=\"714.404297\"/>\n    </g>\n   </g>\n   <g id=\"patch_30\">\n    <path d=\"M 158.646776 62.358249 \nQ 165.721006 52.403615 173.442884 41.537633 \n\" style=\"fill: none; stroke: #262626; stroke-linecap: round\"/>\n    <path d=\"M 160.835947 61.192503 \nL 158.646776 62.358249 \nL 159.027681 59.907464 \n\" style=\"fill: none; stroke: #262626; stroke-linecap: round\"/>\n   </g>\n   <g id=\"text_16\">\n    <g id=\"patch_31\">\n     <path d=\"M 126.048541 86.830029 \nL 171.643767 86.830029 \nL 171.643767 65.40373 \nL 126.048541 65.40373 \nz\n\" style=\"fill: #e58139; stroke: #ffffff; stroke-linejoin: miter\"/>\n    </g>\n    <!-- gini = 0.0 -->\n    <g style=\"fill: #262626\" transform=\"translate(137.515155 71.673214)scale(0.055459 -0.055459)\">\n     <use xlink:href=\"#ArialMT-67\"/>\n     <use xlink:href=\"#ArialMT-69\" x=\"55.615234\"/>\n     <use xlink:href=\"#ArialMT-6e\" x=\"77.832031\"/>\n     <use xlink:href=\"#ArialMT-69\" x=\"133.447266\"/>\n     <use xlink:href=\"#ArialMT-20\" x=\"155.664062\"/>\n     <use xlink:href=\"#ArialMT-3d\" x=\"183.447266\"/>\n     <use xlink:href=\"#ArialMT-20\" x=\"241.845703\"/>\n     <use xlink:href=\"#ArialMT-30\" x=\"269.628906\"/>\n     <use xlink:href=\"#ArialMT-2e\" x=\"325.244141\"/>\n     <use xlink:href=\"#ArialMT-30\" x=\"353.027344\"/>\n    </g>\n    <!-- samples = 50 -->\n    <g style=\"fill: #262626\" transform=\"translate(132.276864 77.623809)scale(0.055459 -0.055459)\">\n     <use xlink:href=\"#ArialMT-73\"/>\n     <use xlink:href=\"#ArialMT-61\" x=\"50\"/>\n     <use xlink:href=\"#ArialMT-6d\" x=\"105.615234\"/>\n     <use xlink:href=\"#ArialMT-70\" x=\"188.916016\"/>\n     <use xlink:href=\"#ArialMT-6c\" x=\"244.53125\"/>\n     <use xlink:href=\"#ArialMT-65\" x=\"266.748047\"/>\n     <use xlink:href=\"#ArialMT-73\" x=\"322.363281\"/>\n     <use xlink:href=\"#ArialMT-20\" x=\"372.363281\"/>\n     <use xlink:href=\"#ArialMT-3d\" x=\"400.146484\"/>\n     <use xlink:href=\"#ArialMT-20\" x=\"458.544922\"/>\n     <use xlink:href=\"#ArialMT-35\" x=\"486.328125\"/>\n     <use xlink:href=\"#ArialMT-30\" x=\"541.943359\"/>\n    </g>\n    <!-- value = [50, 0, 0] -->\n    <g style=\"fill: #262626\" transform=\"translate(128.266907 83.509412)scale(0.055459 -0.055459)\">\n     <use xlink:href=\"#ArialMT-76\"/>\n     <use xlink:href=\"#ArialMT-61\" x=\"50\"/>\n     <use xlink:href=\"#ArialMT-6c\" x=\"105.615234\"/>\n     <use xlink:href=\"#ArialMT-75\" x=\"127.832031\"/>\n     <use xlink:href=\"#ArialMT-65\" x=\"183.447266\"/>\n     <use xlink:href=\"#ArialMT-20\" x=\"239.0625\"/>\n     <use xlink:href=\"#ArialMT-3d\" x=\"266.845703\"/>\n     <use xlink:href=\"#ArialMT-20\" x=\"325.244141\"/>\n     <use xlink:href=\"#ArialMT-5b\" x=\"353.027344\"/>\n     <use xlink:href=\"#ArialMT-35\" x=\"380.810547\"/>\n     <use xlink:href=\"#ArialMT-30\" x=\"436.425781\"/>\n     <use xlink:href=\"#ArialMT-2c\" x=\"492.041016\"/>\n     <use xlink:href=\"#ArialMT-20\" x=\"519.824219\"/>\n     <use xlink:href=\"#ArialMT-30\" x=\"547.607422\"/>\n     <use xlink:href=\"#ArialMT-2c\" x=\"603.222656\"/>\n     <use xlink:href=\"#ArialMT-20\" x=\"631.005859\"/>\n     <use xlink:href=\"#ArialMT-30\" x=\"658.789062\"/>\n     <use xlink:href=\"#ArialMT-5d\" x=\"714.404297\"/>\n    </g>\n   </g>\n   <g id=\"patch_32\">\n    <path d=\"M 188.512755 59.486965 \nQ 182.458742 50.967949 175.757083 41.537585 \n\" style=\"fill: none; stroke: #262626; stroke-linecap: round\"/>\n    <path d=\"M 188.131849 57.03618 \nL 188.512755 59.486965 \nL 186.323583 58.321218 \n\" style=\"fill: none; stroke: #262626; stroke-linecap: round\"/>\n   </g>\n   <g id=\"text_17\">\n    <g id=\"patch_33\">\n     <path d=\"M 176.014209 89.77283 \nL 224.693484 89.77283 \nL 224.693484 62.52592 \nL 176.014209 62.52592 \nz\n\" style=\"fill: #ffffff; stroke: #ffffff; stroke-linejoin: miter\"/>\n    </g>\n    <!-- X[3] &lt;= 1.75 -->\n    <g style=\"fill: #262626\" transform=\"translate(185.245125 68.730413)scale(0.055459 -0.055459)\">\n     <use xlink:href=\"#ArialMT-58\"/>\n     <use xlink:href=\"#ArialMT-5b\" x=\"66.699219\"/>\n     <use xlink:href=\"#ArialMT-33\" x=\"94.482422\"/>\n     <use xlink:href=\"#ArialMT-5d\" x=\"150.097656\"/>\n     <use xlink:href=\"#ArialMT-20\" x=\"177.880859\"/>\n     <use xlink:href=\"#ArialMT-3c\" x=\"205.664062\"/>\n     <use xlink:href=\"#ArialMT-3d\" x=\"264.0625\"/>\n     <use xlink:href=\"#ArialMT-20\" x=\"322.460938\"/>\n     <use xlink:href=\"#ArialMT-31\" x=\"350.244141\"/>\n     <use xlink:href=\"#ArialMT-2e\" x=\"405.859375\"/>\n     <use xlink:href=\"#ArialMT-37\" x=\"433.642578\"/>\n     <use xlink:href=\"#ArialMT-35\" x=\"489.257812\"/>\n    </g>\n    <!-- gini = 0.5 -->\n    <g style=\"fill: #262626\" transform=\"translate(189.022847 74.616016)scale(0.055459 -0.055459)\">\n     <use xlink:href=\"#ArialMT-67\"/>\n     <use xlink:href=\"#ArialMT-69\" x=\"55.615234\"/>\n     <use xlink:href=\"#ArialMT-6e\" x=\"77.832031\"/>\n     <use xlink:href=\"#ArialMT-69\" x=\"133.447266\"/>\n     <use xlink:href=\"#ArialMT-20\" x=\"155.664062\"/>\n     <use xlink:href=\"#ArialMT-3d\" x=\"183.447266\"/>\n     <use xlink:href=\"#ArialMT-20\" x=\"241.845703\"/>\n     <use xlink:href=\"#ArialMT-30\" x=\"269.628906\"/>\n     <use xlink:href=\"#ArialMT-2e\" x=\"325.244141\"/>\n     <use xlink:href=\"#ArialMT-35\" x=\"353.027344\"/>\n    </g>\n    <!-- samples = 100 -->\n    <g style=\"fill: #262626\" transform=\"translate(182.242532 80.56661)scale(0.055459 -0.055459)\">\n     <use xlink:href=\"#ArialMT-73\"/>\n     <use xlink:href=\"#ArialMT-61\" x=\"50\"/>\n     <use xlink:href=\"#ArialMT-6d\" x=\"105.615234\"/>\n     <use xlink:href=\"#ArialMT-70\" x=\"188.916016\"/>\n     <use xlink:href=\"#ArialMT-6c\" x=\"244.53125\"/>\n     <use xlink:href=\"#ArialMT-65\" x=\"266.748047\"/>\n     <use xlink:href=\"#ArialMT-73\" x=\"322.363281\"/>\n     <use xlink:href=\"#ArialMT-20\" x=\"372.363281\"/>\n     <use xlink:href=\"#ArialMT-3d\" x=\"400.146484\"/>\n     <use xlink:href=\"#ArialMT-20\" x=\"458.544922\"/>\n     <use xlink:href=\"#ArialMT-31\" x=\"486.328125\"/>\n     <use xlink:href=\"#ArialMT-30\" x=\"541.943359\"/>\n     <use xlink:href=\"#ArialMT-30\" x=\"597.558594\"/>\n    </g>\n    <!-- value = [0, 50, 50] -->\n    <g style=\"fill: #262626\" transform=\"translate(178.232575 86.452213)scale(0.055459 -0.055459)\">\n     <use xlink:href=\"#ArialMT-76\"/>\n     <use xlink:href=\"#ArialMT-61\" x=\"50\"/>\n     <use xlink:href=\"#ArialMT-6c\" x=\"105.615234\"/>\n     <use xlink:href=\"#ArialMT-75\" x=\"127.832031\"/>\n     <use xlink:href=\"#ArialMT-65\" x=\"183.447266\"/>\n     <use xlink:href=\"#ArialMT-20\" x=\"239.0625\"/>\n     <use xlink:href=\"#ArialMT-3d\" x=\"266.845703\"/>\n     <use xlink:href=\"#ArialMT-20\" x=\"325.244141\"/>\n     <use xlink:href=\"#ArialMT-5b\" x=\"353.027344\"/>\n     <use xlink:href=\"#ArialMT-30\" x=\"380.810547\"/>\n     <use xlink:href=\"#ArialMT-2c\" x=\"436.425781\"/>\n     <use xlink:href=\"#ArialMT-20\" x=\"464.208984\"/>\n     <use xlink:href=\"#ArialMT-35\" x=\"491.992188\"/>\n     <use xlink:href=\"#ArialMT-30\" x=\"547.607422\"/>\n     <use xlink:href=\"#ArialMT-2c\" x=\"603.222656\"/>\n     <use xlink:href=\"#ArialMT-20\" x=\"631.005859\"/>\n     <use xlink:href=\"#ArialMT-35\" x=\"658.789062\"/>\n     <use xlink:href=\"#ArialMT-30\" x=\"714.404297\"/>\n     <use xlink:href=\"#ArialMT-5d\" x=\"770.019531\"/>\n    </g>\n   </g>\n   <g id=\"patch_34\">\n    <path d=\"M 174.6 39.909375 \nQ 174.6 39.909375 174.6 39.909375 \n\" style=\"fill: none; stroke: #262626; stroke-linecap: round\"/>\n   </g>\n   <g id=\"text_18\">\n    <g id=\"patch_35\">\n     <path d=\"M 148.718338 53.53283 \nL 200.481662 53.53283 \nL 200.481662 26.28592 \nL 148.718338 26.28592 \nz\n\" style=\"fill: #ffffff; stroke: #ffffff; stroke-linejoin: miter\"/>\n    </g>\n    <!-- X[3] &lt;= 0.8 -->\n    <g style=\"fill: #262626\" transform=\"translate(161.033304 32.490413)scale(0.055459 -0.055459)\">\n     <use xlink:href=\"#ArialMT-58\"/>\n     <use xlink:href=\"#ArialMT-5b\" x=\"66.699219\"/>\n     <use xlink:href=\"#ArialMT-33\" x=\"94.482422\"/>\n     <use xlink:href=\"#ArialMT-5d\" x=\"150.097656\"/>\n     <use xlink:href=\"#ArialMT-20\" x=\"177.880859\"/>\n     <use xlink:href=\"#ArialMT-3c\" x=\"205.664062\"/>\n     <use xlink:href=\"#ArialMT-3d\" x=\"264.0625\"/>\n     <use xlink:href=\"#ArialMT-20\" x=\"322.460938\"/>\n     <use xlink:href=\"#ArialMT-30\" x=\"350.244141\"/>\n     <use xlink:href=\"#ArialMT-2e\" x=\"405.859375\"/>\n     <use xlink:href=\"#ArialMT-38\" x=\"433.642578\"/>\n    </g>\n    <!-- gini = 0.667 -->\n    <g style=\"fill: #262626\" transform=\"translate(160.184952 38.376016)scale(0.055459 -0.055459)\">\n     <use xlink:href=\"#ArialMT-67\"/>\n     <use xlink:href=\"#ArialMT-69\" x=\"55.615234\"/>\n     <use xlink:href=\"#ArialMT-6e\" x=\"77.832031\"/>\n     <use xlink:href=\"#ArialMT-69\" x=\"133.447266\"/>\n     <use xlink:href=\"#ArialMT-20\" x=\"155.664062\"/>\n     <use xlink:href=\"#ArialMT-3d\" x=\"183.447266\"/>\n     <use xlink:href=\"#ArialMT-20\" x=\"241.845703\"/>\n     <use xlink:href=\"#ArialMT-30\" x=\"269.628906\"/>\n     <use xlink:href=\"#ArialMT-2e\" x=\"325.244141\"/>\n     <use xlink:href=\"#ArialMT-36\" x=\"353.027344\"/>\n     <use xlink:href=\"#ArialMT-36\" x=\"408.642578\"/>\n     <use xlink:href=\"#ArialMT-37\" x=\"464.257812\"/>\n    </g>\n    <!-- samples = 150 -->\n    <g style=\"fill: #262626\" transform=\"translate(156.488686 44.32661)scale(0.055459 -0.055459)\">\n     <use xlink:href=\"#ArialMT-73\"/>\n     <use xlink:href=\"#ArialMT-61\" x=\"50\"/>\n     <use xlink:href=\"#ArialMT-6d\" x=\"105.615234\"/>\n     <use xlink:href=\"#ArialMT-70\" x=\"188.916016\"/>\n     <use xlink:href=\"#ArialMT-6c\" x=\"244.53125\"/>\n     <use xlink:href=\"#ArialMT-65\" x=\"266.748047\"/>\n     <use xlink:href=\"#ArialMT-73\" x=\"322.363281\"/>\n     <use xlink:href=\"#ArialMT-20\" x=\"372.363281\"/>\n     <use xlink:href=\"#ArialMT-3d\" x=\"400.146484\"/>\n     <use xlink:href=\"#ArialMT-20\" x=\"458.544922\"/>\n     <use xlink:href=\"#ArialMT-31\" x=\"486.328125\"/>\n     <use xlink:href=\"#ArialMT-35\" x=\"541.943359\"/>\n     <use xlink:href=\"#ArialMT-30\" x=\"597.558594\"/>\n    </g>\n    <!-- value = [50, 50, 50] -->\n    <g style=\"fill: #262626\" transform=\"translate(150.936704 50.212213)scale(0.055459 -0.055459)\">\n     <use xlink:href=\"#ArialMT-76\"/>\n     <use xlink:href=\"#ArialMT-61\" x=\"50\"/>\n     <use xlink:href=\"#ArialMT-6c\" x=\"105.615234\"/>\n     <use xlink:href=\"#ArialMT-75\" x=\"127.832031\"/>\n     <use xlink:href=\"#ArialMT-65\" x=\"183.447266\"/>\n     <use xlink:href=\"#ArialMT-20\" x=\"239.0625\"/>\n     <use xlink:href=\"#ArialMT-3d\" x=\"266.845703\"/>\n     <use xlink:href=\"#ArialMT-20\" x=\"325.244141\"/>\n     <use xlink:href=\"#ArialMT-5b\" x=\"353.027344\"/>\n     <use xlink:href=\"#ArialMT-35\" x=\"380.810547\"/>\n     <use xlink:href=\"#ArialMT-30\" x=\"436.425781\"/>\n     <use xlink:href=\"#ArialMT-2c\" x=\"492.041016\"/>\n     <use xlink:href=\"#ArialMT-20\" x=\"519.824219\"/>\n     <use xlink:href=\"#ArialMT-35\" x=\"547.607422\"/>\n     <use xlink:href=\"#ArialMT-30\" x=\"603.222656\"/>\n     <use xlink:href=\"#ArialMT-2c\" x=\"658.837891\"/>\n     <use xlink:href=\"#ArialMT-20\" x=\"686.621094\"/>\n     <use xlink:href=\"#ArialMT-35\" x=\"714.404297\"/>\n     <use xlink:href=\"#ArialMT-30\" x=\"770.019531\"/>\n     <use xlink:href=\"#ArialMT-5d\" x=\"825.634766\"/>\n    </g>\n   </g>\n  </g>\n </g>\n</svg>\n",
      "text/plain": [
       "<Figure size 432x288 with 1 Axes>"
      ]
     },
     "metadata": {},
     "output_type": "display_data"
    }
   ],
   "source": [
    "from sklearn.tree import DecisionTreeClassifier\n",
    "from sklearn.tree import plot_tree\n",
    "sns.set_style('ticks')\n",
    "model= DecisionTreeClassifier().fit(X,y)\n",
    "plot_tree(model, filled=True)\n",
    "plt.title('Decision tree trained model of Iris data')\n",
    "\n",
    "# saving plot in png, tiff, and pdf in HD\n",
    "# plt.savefig('DecisionTree.png',  dpi=300)\n",
    "\n",
    "plt.savefig('tiff_compressed.tiff', dpi= 600, format='tiff',\n",
    "            facecolor='white', edgecolor='none',\n",
    "            pil_kwargs={'compression': \"tiff_lzw\"})\n",
    "plt.show()"
   ]
  },
  {
   "cell_type": "markdown",
   "metadata": {},
   "source": [
    "-------------\n",
    "# Assignment\n",
    "------------"
   ]
  },
  {
   "cell_type": "markdown",
   "metadata": {},
   "source": [
    "## Accuracy Score:\n",
    "##### 80/20"
   ]
  },
  {
   "cell_type": "code",
   "execution_count": 16,
   "metadata": {},
   "outputs": [
    {
     "name": "stdout",
     "output_type": "stream",
     "text": [
      "Accuracy Score :  1.0\n"
     ]
    }
   ],
   "source": [
    "# split data into train and test(80/20)\n",
    "from sklearn.model_selection import train_test_split\n",
    "from sklearn.metrics import accuracy_score\n",
    "\n",
    "X_train,X_test,y_train,y_test=train_test_split(X,y, test_size=0.2, random_state=0)\n",
    "# 80% training data and 20% testing\n",
    "\n",
    "# create a model\n",
    "model= DecisionTreeClassifier()\n",
    "# fitting a model\n",
    "model.fit(X_train,y_train)\n",
    "predicted_values = model.predict(X_test)\n",
    "predicted_values\n",
    "\n",
    "#checking the score\n",
    "# y_test= actual_values\n",
    "score = accuracy_score(y_test, predicted_values)\n",
    "print('Accuracy Score : ', score)"
   ]
  },
  {
   "cell_type": "markdown",
   "metadata": {},
   "source": [
    "##### 70/30"
   ]
  },
  {
   "cell_type": "code",
   "execution_count": 17,
   "metadata": {},
   "outputs": [
    {
     "name": "stdout",
     "output_type": "stream",
     "text": [
      "Accuracy Score :  0.9777777777777777\n"
     ]
    }
   ],
   "source": [
    "# split data into train and test(70/30)\n",
    "from sklearn.model_selection import train_test_split\n",
    "from sklearn.metrics import accuracy_score\n",
    "\n",
    "X_train,X_test,y_train,y_test=train_test_split(X,y, test_size=0.3, random_state=0)\n",
    "# 80% training data and 20% testing\n",
    "\n",
    "# create a model\n",
    "model= DecisionTreeClassifier()\n",
    "# fitting a model\n",
    "model.fit(X_train,y_train)\n",
    "predicted_values = model.predict(X_test)\n",
    "predicted_values\n",
    "\n",
    "#checking the score\n",
    "# y_test= actual_values\n",
    "score1 = accuracy_score(y_test, predicted_values)\n",
    "print('Accuracy Score : ', score1)"
   ]
  },
  {
   "cell_type": "markdown",
   "metadata": {},
   "source": [
    "##### 90/10"
   ]
  },
  {
   "cell_type": "code",
   "execution_count": 18,
   "metadata": {},
   "outputs": [
    {
     "name": "stdout",
     "output_type": "stream",
     "text": [
      "Accuracy Score :  1.0\n"
     ]
    }
   ],
   "source": [
    "# split data into train and test(90/10)\n",
    "from sklearn.model_selection import train_test_split\n",
    "from sklearn.metrics import accuracy_score\n",
    "\n",
    "X_train,X_test,y_train,y_test=train_test_split(X,y, test_size=0.10, random_state=0)\n",
    "# 80% training data and 20% testing\n",
    "\n",
    "# create a model\n",
    "model= DecisionTreeClassifier()\n",
    "# fitting a model\n",
    "model.fit(X_train,y_train)\n",
    "predicted_values = model.predict(X_test)\n",
    "predicted_values\n",
    "\n",
    "#checking the score\n",
    "# y_test= actual_values\n",
    "score2 = accuracy_score(y_test, predicted_values)\n",
    "print('Accuracy Score : ', score2)"
   ]
  },
  {
   "cell_type": "markdown",
   "metadata": {},
   "source": [
    "### Unknown Prediction values:"
   ]
  },
  {
   "cell_type": "code",
   "execution_count": 19,
   "metadata": {},
   "outputs": [
    {
     "data": {
      "text/plain": [
       "array(['virginica', 'versicolor', 'setosa', 'virginica', 'setosa',\n",
       "       'virginica', 'setosa', 'versicolor', 'versicolor', 'versicolor',\n",
       "       'virginica', 'versicolor', 'versicolor', 'versicolor',\n",
       "       'versicolor'], dtype=object)"
      ]
     },
     "execution_count": 19,
     "metadata": {},
     "output_type": "execute_result"
    }
   ],
   "source": [
    "import numpy as np\n",
    "from sklearn.tree import DecisionTreeClassifier\n",
    "#prediction\n",
    "model.predict(X_test)"
   ]
  },
  {
   "cell_type": "code",
   "execution_count": 27,
   "metadata": {},
   "outputs": [
    {
     "name": "stderr",
     "output_type": "stream",
     "text": [
      "C:\\Users\\Lenovo\\AppData\\Local\\Programs\\Python\\Python310\\lib\\site-packages\\sklearn\\base.py:450: UserWarning: X does not have valid feature names, but DecisionTreeClassifier was fitted with feature names\n",
      "  warnings.warn(\n"
     ]
    },
    {
     "data": {
      "text/plain": [
       "array(['virginica'], dtype=object)"
      ]
     },
     "execution_count": 27,
     "metadata": {},
     "output_type": "execute_result"
    }
   ],
   "source": [
    "model.predict([[10,6,3.5,4.2]])"
   ]
  },
  {
   "cell_type": "code",
   "execution_count": 21,
   "metadata": {},
   "outputs": [
    {
     "name": "stderr",
     "output_type": "stream",
     "text": [
      "C:\\Users\\Lenovo\\AppData\\Local\\Programs\\Python\\Python310\\lib\\site-packages\\sklearn\\base.py:450: UserWarning: X does not have valid feature names, but DecisionTreeClassifier was fitted with feature names\n",
      "  warnings.warn(\n"
     ]
    },
    {
     "data": {
      "text/plain": [
       "array(['setosa'], dtype=object)"
      ]
     },
     "execution_count": 21,
     "metadata": {},
     "output_type": "execute_result"
    }
   ],
   "source": [
    "model.predict([[6.5,2.4,1.2,0.3]])"
   ]
  },
  {
   "cell_type": "code",
   "execution_count": 25,
   "metadata": {},
   "outputs": [
    {
     "name": "stderr",
     "output_type": "stream",
     "text": [
      "C:\\Users\\Lenovo\\AppData\\Local\\Programs\\Python\\Python310\\lib\\site-packages\\sklearn\\base.py:450: UserWarning: X does not have valid feature names, but DecisionTreeClassifier was fitted with feature names\n",
      "  warnings.warn(\n"
     ]
    },
    {
     "data": {
      "text/plain": [
       "array(['virginica'], dtype=object)"
      ]
     },
     "execution_count": 25,
     "metadata": {},
     "output_type": "execute_result"
    }
   ],
   "source": [
    "model.predict([[7.8,4.8,1.9,2.6]])"
   ]
  },
  {
   "cell_type": "code",
   "execution_count": 26,
   "metadata": {},
   "outputs": [
    {
     "name": "stderr",
     "output_type": "stream",
     "text": [
      "C:\\Users\\Lenovo\\AppData\\Local\\Programs\\Python\\Python310\\lib\\site-packages\\sklearn\\base.py:450: UserWarning: X does not have valid feature names, but DecisionTreeClassifier was fitted with feature names\n",
      "  warnings.warn(\n"
     ]
    },
    {
     "data": {
      "text/plain": [
       "array(['virginica'], dtype=object)"
      ]
     },
     "execution_count": 26,
     "metadata": {},
     "output_type": "execute_result"
    }
   ],
   "source": [
    "model.predict([[10,6,3.5,4.2]])"
   ]
  },
  {
   "cell_type": "code",
   "execution_count": 38,
   "metadata": {},
   "outputs": [
    {
     "name": "stderr",
     "output_type": "stream",
     "text": [
      "C:\\Users\\Lenovo\\AppData\\Local\\Programs\\Python\\Python310\\lib\\site-packages\\sklearn\\base.py:450: UserWarning: X does not have valid feature names, but DecisionTreeClassifier was fitted with feature names\n",
      "  warnings.warn(\n"
     ]
    },
    {
     "data": {
      "text/plain": [
       "array(['versicolor'], dtype=object)"
      ]
     },
     "execution_count": 38,
     "metadata": {},
     "output_type": "execute_result"
    }
   ],
   "source": [
    "model.predict([[5.9,2.4,3.1,1.4]])"
   ]
  },
  {
   "cell_type": "markdown",
   "metadata": {},
   "source": [
    "---------------------"
   ]
  }
 ],
 "metadata": {
  "interpreter": {
   "hash": "d406864f2ee78ecc67afccccd0a48c216f41ca3a0f9ca739a0b9d8b15ae422ba"
  },
  "kernelspec": {
   "display_name": "Python 3.10.1 64-bit",
   "language": "python",
   "name": "python3"
  },
  "language_info": {
   "codemirror_mode": {
    "name": "ipython",
    "version": 3
   },
   "file_extension": ".py",
   "mimetype": "text/x-python",
   "name": "python",
   "nbconvert_exporter": "python",
   "pygments_lexer": "ipython3",
   "version": "3.10.1"
  },
  "orig_nbformat": 4
 },
 "nbformat": 4,
 "nbformat_minor": 2
}
