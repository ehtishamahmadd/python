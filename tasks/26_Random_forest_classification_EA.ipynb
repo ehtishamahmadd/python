{
 "cells": [
  {
   "cell_type": "markdown",
   "metadata": {},
   "source": [
    "Name    = \"Ehtisham Ahmad\"\n",
    "\n",
    "email   = \"ehtishamahmed10@gmail.com\""
   ]
  },
  {
   "cell_type": "markdown",
   "metadata": {},
   "source": [
    "## Random Forest Classification"
   ]
  },
  {
   "cell_type": "code",
   "execution_count": 1,
   "metadata": {},
   "outputs": [
    {
     "data": {
      "text/html": [
       "<div>\n",
       "<style scoped>\n",
       "    .dataframe tbody tr th:only-of-type {\n",
       "        vertical-align: middle;\n",
       "    }\n",
       "\n",
       "    .dataframe tbody tr th {\n",
       "        vertical-align: top;\n",
       "    }\n",
       "\n",
       "    .dataframe thead th {\n",
       "        text-align: right;\n",
       "    }\n",
       "</style>\n",
       "<table border=\"1\" class=\"dataframe\">\n",
       "  <thead>\n",
       "    <tr style=\"text-align: right;\">\n",
       "      <th></th>\n",
       "      <th>sepal_length</th>\n",
       "      <th>sepal_width</th>\n",
       "      <th>petal_length</th>\n",
       "      <th>petal_width</th>\n",
       "      <th>species</th>\n",
       "    </tr>\n",
       "  </thead>\n",
       "  <tbody>\n",
       "    <tr>\n",
       "      <th>0</th>\n",
       "      <td>5.1</td>\n",
       "      <td>3.5</td>\n",
       "      <td>1.4</td>\n",
       "      <td>0.2</td>\n",
       "      <td>setosa</td>\n",
       "    </tr>\n",
       "    <tr>\n",
       "      <th>1</th>\n",
       "      <td>4.9</td>\n",
       "      <td>3.0</td>\n",
       "      <td>1.4</td>\n",
       "      <td>0.2</td>\n",
       "      <td>setosa</td>\n",
       "    </tr>\n",
       "    <tr>\n",
       "      <th>2</th>\n",
       "      <td>4.7</td>\n",
       "      <td>3.2</td>\n",
       "      <td>1.3</td>\n",
       "      <td>0.2</td>\n",
       "      <td>setosa</td>\n",
       "    </tr>\n",
       "    <tr>\n",
       "      <th>3</th>\n",
       "      <td>4.6</td>\n",
       "      <td>3.1</td>\n",
       "      <td>1.5</td>\n",
       "      <td>0.2</td>\n",
       "      <td>setosa</td>\n",
       "    </tr>\n",
       "    <tr>\n",
       "      <th>4</th>\n",
       "      <td>5.0</td>\n",
       "      <td>3.6</td>\n",
       "      <td>1.4</td>\n",
       "      <td>0.2</td>\n",
       "      <td>setosa</td>\n",
       "    </tr>\n",
       "  </tbody>\n",
       "</table>\n",
       "</div>"
      ],
      "text/plain": [
       "   sepal_length  sepal_width  petal_length  petal_width species\n",
       "0           5.1          3.5           1.4          0.2  setosa\n",
       "1           4.9          3.0           1.4          0.2  setosa\n",
       "2           4.7          3.2           1.3          0.2  setosa\n",
       "3           4.6          3.1           1.5          0.2  setosa\n",
       "4           5.0          3.6           1.4          0.2  setosa"
      ]
     },
     "execution_count": 1,
     "metadata": {},
     "output_type": "execute_result"
    }
   ],
   "source": [
    "# import sample data\n",
    "import pandas as pd\n",
    "import numpy as np\n",
    "import seaborn as sns\n",
    "df = sns.load_dataset('iris')\n",
    "df.head()"
   ]
  },
  {
   "cell_type": "code",
   "execution_count": 42,
   "metadata": {},
   "outputs": [],
   "source": [
    "import matplotlib.pyplot as plt\n",
    "from sklearn.tree import DecisionTreeClassifier\n",
    "X = df.iloc[:,:-1]\n",
    "y = df.iloc[:,-1:]"
   ]
  },
  {
   "cell_type": "code",
   "execution_count": 43,
   "metadata": {},
   "outputs": [
    {
     "data": {
      "text/html": [
       "<div>\n",
       "<style scoped>\n",
       "    .dataframe tbody tr th:only-of-type {\n",
       "        vertical-align: middle;\n",
       "    }\n",
       "\n",
       "    .dataframe tbody tr th {\n",
       "        vertical-align: top;\n",
       "    }\n",
       "\n",
       "    .dataframe thead th {\n",
       "        text-align: right;\n",
       "    }\n",
       "</style>\n",
       "<table border=\"1\" class=\"dataframe\">\n",
       "  <thead>\n",
       "    <tr style=\"text-align: right;\">\n",
       "      <th></th>\n",
       "      <th>sepal_length</th>\n",
       "      <th>sepal_width</th>\n",
       "      <th>petal_length</th>\n",
       "      <th>petal_width</th>\n",
       "    </tr>\n",
       "  </thead>\n",
       "  <tbody>\n",
       "    <tr>\n",
       "      <th>0</th>\n",
       "      <td>5.1</td>\n",
       "      <td>3.5</td>\n",
       "      <td>1.4</td>\n",
       "      <td>0.2</td>\n",
       "    </tr>\n",
       "    <tr>\n",
       "      <th>1</th>\n",
       "      <td>4.9</td>\n",
       "      <td>3.0</td>\n",
       "      <td>1.4</td>\n",
       "      <td>0.2</td>\n",
       "    </tr>\n",
       "    <tr>\n",
       "      <th>2</th>\n",
       "      <td>4.7</td>\n",
       "      <td>3.2</td>\n",
       "      <td>1.3</td>\n",
       "      <td>0.2</td>\n",
       "    </tr>\n",
       "    <tr>\n",
       "      <th>3</th>\n",
       "      <td>4.6</td>\n",
       "      <td>3.1</td>\n",
       "      <td>1.5</td>\n",
       "      <td>0.2</td>\n",
       "    </tr>\n",
       "    <tr>\n",
       "      <th>4</th>\n",
       "      <td>5.0</td>\n",
       "      <td>3.6</td>\n",
       "      <td>1.4</td>\n",
       "      <td>0.2</td>\n",
       "    </tr>\n",
       "  </tbody>\n",
       "</table>\n",
       "</div>"
      ],
      "text/plain": [
       "   sepal_length  sepal_width  petal_length  petal_width\n",
       "0           5.1          3.5           1.4          0.2\n",
       "1           4.9          3.0           1.4          0.2\n",
       "2           4.7          3.2           1.3          0.2\n",
       "3           4.6          3.1           1.5          0.2\n",
       "4           5.0          3.6           1.4          0.2"
      ]
     },
     "execution_count": 43,
     "metadata": {},
     "output_type": "execute_result"
    }
   ],
   "source": [
    "X.head()"
   ]
  },
  {
   "cell_type": "code",
   "execution_count": 44,
   "metadata": {},
   "outputs": [
    {
     "data": {
      "text/html": [
       "<div>\n",
       "<style scoped>\n",
       "    .dataframe tbody tr th:only-of-type {\n",
       "        vertical-align: middle;\n",
       "    }\n",
       "\n",
       "    .dataframe tbody tr th {\n",
       "        vertical-align: top;\n",
       "    }\n",
       "\n",
       "    .dataframe thead th {\n",
       "        text-align: right;\n",
       "    }\n",
       "</style>\n",
       "<table border=\"1\" class=\"dataframe\">\n",
       "  <thead>\n",
       "    <tr style=\"text-align: right;\">\n",
       "      <th></th>\n",
       "      <th>species</th>\n",
       "    </tr>\n",
       "  </thead>\n",
       "  <tbody>\n",
       "    <tr>\n",
       "      <th>0</th>\n",
       "      <td>setosa</td>\n",
       "    </tr>\n",
       "    <tr>\n",
       "      <th>1</th>\n",
       "      <td>setosa</td>\n",
       "    </tr>\n",
       "    <tr>\n",
       "      <th>2</th>\n",
       "      <td>setosa</td>\n",
       "    </tr>\n",
       "    <tr>\n",
       "      <th>3</th>\n",
       "      <td>setosa</td>\n",
       "    </tr>\n",
       "    <tr>\n",
       "      <th>4</th>\n",
       "      <td>setosa</td>\n",
       "    </tr>\n",
       "  </tbody>\n",
       "</table>\n",
       "</div>"
      ],
      "text/plain": [
       "  species\n",
       "0  setosa\n",
       "1  setosa\n",
       "2  setosa\n",
       "3  setosa\n",
       "4  setosa"
      ]
     },
     "execution_count": 44,
     "metadata": {},
     "output_type": "execute_result"
    }
   ],
   "source": [
    "y.head()"
   ]
  },
  {
   "cell_type": "code",
   "execution_count": 45,
   "metadata": {},
   "outputs": [
    {
     "name": "stderr",
     "output_type": "stream",
     "text": [
      "C:\\Users\\Lenovo\\AppData\\Local\\Temp/ipykernel_12580/3154957717.py:4: DataConversionWarning: A column-vector y was passed when a 1d array was expected. Please change the shape of y to (n_samples,), for example using ravel().\n",
      "  model.fit(X,y)\n",
      "C:\\Users\\Lenovo\\AppData\\Local\\Programs\\Python\\Python310\\lib\\site-packages\\sklearn\\base.py:450: UserWarning: X does not have valid feature names, but RandomForestClassifier was fitted with feature names\n",
      "  warnings.warn(\n"
     ]
    },
    {
     "data": {
      "text/plain": [
       "array(['setosa'], dtype=object)"
      ]
     },
     "execution_count": 45,
     "metadata": {},
     "output_type": "execute_result"
    }
   ],
   "source": [
    "from sklearn.ensemble import RandomForestClassifier\n",
    "\n",
    "model = RandomForestClassifier(n_estimators=100)\n",
    "model.fit(X,y)\n",
    "model.predict([[10,4,2,6]])"
   ]
  },
  {
   "cell_type": "code",
   "execution_count": 46,
   "metadata": {},
   "outputs": [
    {
     "data": {
      "text/plain": [
       "array(['virginica', 'versicolor', 'setosa', 'virginica', 'setosa',\n",
       "       'virginica', 'setosa', 'versicolor', 'versicolor', 'versicolor',\n",
       "       'virginica', 'versicolor', 'versicolor', 'versicolor',\n",
       "       'versicolor', 'setosa', 'versicolor', 'versicolor', 'setosa',\n",
       "       'setosa', 'virginica', 'versicolor', 'setosa', 'setosa',\n",
       "       'virginica', 'setosa', 'setosa', 'versicolor', 'versicolor',\n",
       "       'setosa'], dtype=object)"
      ]
     },
     "execution_count": 46,
     "metadata": {},
     "output_type": "execute_result"
    }
   ],
   "source": [
    "from sklearn.model_selection import train_test_split\n",
    "X_train,X_test,y_train,y_test=train_test_split(X,y, test_size=0.2, random_state=0)\n",
    "predictions = model.predict(X_test)\n",
    "predictions"
   ]
  },
  {
   "cell_type": "code",
   "execution_count": 47,
   "metadata": {},
   "outputs": [
    {
     "name": "stdout",
     "output_type": "stream",
     "text": [
      "Score :  1.0\n"
     ]
    }
   ],
   "source": [
    "# score\n",
    "score= model.score(X_test, y_test)\n",
    "print('Score : ',score)"
   ]
  },
  {
   "cell_type": "code",
   "execution_count": 48,
   "metadata": {},
   "outputs": [
    {
     "name": "stdout",
     "output_type": "stream",
     "text": [
      "Accuracy: 1.0\n"
     ]
    }
   ],
   "source": [
    "# accuracy score\n",
    "from sklearn import metrics\n",
    "print('Accuracy:',metrics.accuracy_score(y_test, predictions))"
   ]
  },
  {
   "cell_type": "code",
   "execution_count": 49,
   "metadata": {},
   "outputs": [
    {
     "data": {
      "text/plain": [
       "array([[11,  0,  0],\n",
       "       [ 0, 13,  0],\n",
       "       [ 0,  0,  6]], dtype=int64)"
      ]
     },
     "execution_count": 49,
     "metadata": {},
     "output_type": "execute_result"
    }
   ],
   "source": [
    "# to check if the accuracy is right, we will draw confusion matrix\n",
    "from sklearn import metrics\n",
    "cm= metrics.confusion_matrix(y_test, predictions)\n",
    "cm"
   ]
  },
  {
   "cell_type": "code",
   "execution_count": 50,
   "metadata": {},
   "outputs": [
    {
     "data": {
      "text/plain": [
       "Text(0.5, 1.0, 'Acuracy Score: 1.0')"
      ]
     },
     "execution_count": 50,
     "metadata": {},
     "output_type": "execute_result"
    },
    {
     "data": {
      "image/png": "[encoded data removed]",
      "image/svg+xml": "<?xml version=\"1.0\" encoding=\"utf-8\" standalone=\"no\"?>\n<!DOCTYPE svg PUBLIC \"-//W3C//DTD SVG 1.1//EN\"\n  \"http://www.w3.org/Graphics/SVG/1.1/DTD/svg11.dtd\">\n<svg xmlns:xlink=\"http://www.w3.org/1999/xlink\" width=\"212.384625pt\" height=\"192.31875pt\" viewBox=\"0 0 212.384625 192.31875\" xmlns=\"http://www.w3.org/2000/svg\" version=\"1.1\">\n <metadata>\n  <rdf:RDF xmlns:dc=\"http://purl.org/dc/elements/1.1/\" xmlns:cc=\"http://creativecommons.org/ns#\" xmlns:rdf=\"http://www.w3.org/1999/02/22-rdf-syntax-ns#\">\n   <cc:Work>\n    <dc:type rdf:resource=\"http://purl.org/dc/dcmitype/StillImage\"/>\n    <dc:date>2022-01-26T17:07:53.136585</dc:date>\n    <dc:format>image/svg+xml</dc:format>\n    <dc:creator>\n     <cc:Agent>\n      <dc:title>Matplotlib v3.5.1, https://matplotlib.org/</dc:title>\n     </cc:Agent>\n    </dc:creator>\n   </cc:Work>\n  </rdf:RDF>\n </metadata>\n <defs>\n  <style type=\"text/css\">*{stroke-linejoin: round; stroke-linecap: butt}</style>\n </defs>\n <g id=\"figure_1\">\n  <g id=\"patch_1\">\n   <path d=\"M 0 192.31875 \nL 212.384625 192.31875 \nL 212.384625 0 \nL 0 0 \nz\n\" style=\"fill: #ffffff\"/>\n  </g>\n  <g id=\"axes_1\">\n   <g id=\"patch_2\">\n    <path d=\"M 36.61875 155.7 \nL 170.53875 155.7 \nL 170.53875 21.78 \nL 36.61875 21.78 \nz\n\" style=\"fill: #ffffff\"/>\n   </g>\n   <g id=\"matplotlib.axis_1\">\n    <g id=\"xtick_1\">\n     <g id=\"line2d_1\">\n      <defs>\n       <path id=\"m706e75aceb\" d=\"M 0 0 \nL 0 3.5 \n\" style=\"stroke: #262626; stroke-width: 0.8\"/>\n      </defs>\n      <g>\n       <use xlink:href=\"#m706e75aceb\" x=\"58.93875\" y=\"155.7\" style=\"fill: #262626; stroke: #262626; stroke-width: 0.8\"/>\n      </g>\n     </g>\n     <g id=\"text_1\">\n      <!-- 0 -->\n      <g style=\"fill: #262626\" transform=\"translate(56.158281 169.857813)scale(0.1 -0.1)\">\n       <defs>\n        <path id=\"ArialMT-30\" d=\"M 266 2259 \nQ 266 3072 433 3567 \nQ 600 4063 929 4331 \nQ 1259 4600 1759 4600 \nQ 2128 4600 2406 4451 \nQ 2684 4303 2865 4023 \nQ 3047 3744 3150 3342 \nQ 3253 2941 3253 2259 \nQ 3253 1453 3087 958 \nQ 2922 463 2592 192 \nQ 2263 -78 1759 -78 \nQ 1097 -78 719 397 \nQ 266 969 266 2259 \nz\nM 844 2259 \nQ 844 1131 1108 757 \nQ 1372 384 1759 384 \nQ 2147 384 2411 759 \nQ 2675 1134 2675 2259 \nQ 2675 3391 2411 3762 \nQ 2147 4134 1753 4134 \nQ 1366 4134 1134 3806 \nQ 844 3388 844 2259 \nz\n\" transform=\"scale(0.015625)\"/>\n       </defs>\n       <use xlink:href=\"#ArialMT-30\"/>\n      </g>\n     </g>\n    </g>\n    <g id=\"xtick_2\">\n     <g id=\"line2d_2\">\n      <g>\n       <use xlink:href=\"#m706e75aceb\" x=\"103.57875\" y=\"155.7\" style=\"fill: #262626; stroke: #262626; stroke-width: 0.8\"/>\n      </g>\n     </g>\n     <g id=\"text_2\">\n      <!-- 1 -->\n      <g style=\"fill: #262626\" transform=\"translate(100.798281 169.857813)scale(0.1 -0.1)\">\n       <defs>\n        <path id=\"ArialMT-31\" d=\"M 2384 0 \nL 1822 0 \nL 1822 3584 \nQ 1619 3391 1289 3197 \nQ 959 3003 697 2906 \nL 697 3450 \nQ 1169 3672 1522 3987 \nQ 1875 4303 2022 4600 \nL 2384 4600 \nL 2384 0 \nz\n\" transform=\"scale(0.015625)\"/>\n       </defs>\n       <use xlink:href=\"#ArialMT-31\"/>\n      </g>\n     </g>\n    </g>\n    <g id=\"xtick_3\">\n     <g id=\"line2d_3\">\n      <g>\n       <use xlink:href=\"#m706e75aceb\" x=\"148.21875\" y=\"155.7\" style=\"fill: #262626; stroke: #262626; stroke-width: 0.8\"/>\n      </g>\n     </g>\n     <g id=\"text_3\">\n      <!-- 2 -->\n      <g style=\"fill: #262626\" transform=\"translate(145.438281 169.857813)scale(0.1 -0.1)\">\n       <defs>\n        <path id=\"ArialMT-32\" d=\"M 3222 541 \nL 3222 0 \nL 194 0 \nQ 188 203 259 391 \nQ 375 700 629 1000 \nQ 884 1300 1366 1694 \nQ 2113 2306 2375 2664 \nQ 2638 3022 2638 3341 \nQ 2638 3675 2398 3904 \nQ 2159 4134 1775 4134 \nQ 1369 4134 1125 3890 \nQ 881 3647 878 3216 \nL 300 3275 \nQ 359 3922 746 4261 \nQ 1134 4600 1788 4600 \nQ 2447 4600 2831 4234 \nQ 3216 3869 3216 3328 \nQ 3216 3053 3103 2787 \nQ 2991 2522 2730 2228 \nQ 2469 1934 1863 1422 \nQ 1356 997 1212 845 \nQ 1069 694 975 541 \nL 3222 541 \nz\n\" transform=\"scale(0.015625)\"/>\n       </defs>\n       <use xlink:href=\"#ArialMT-32\"/>\n      </g>\n     </g>\n    </g>\n    <g id=\"text_4\">\n     <!-- Predicted Output -->\n     <g style=\"fill: #262626\" transform=\"translate(66.059219 183.13125)scale(0.1 -0.1)\">\n      <defs>\n       <path id=\"ArialMT-50\" d=\"M 494 0 \nL 494 4581 \nL 2222 4581 \nQ 2678 4581 2919 4538 \nQ 3256 4481 3484 4323 \nQ 3713 4166 3852 3881 \nQ 3991 3597 3991 3256 \nQ 3991 2672 3619 2267 \nQ 3247 1863 2275 1863 \nL 1100 1863 \nL 1100 0 \nL 494 0 \nz\nM 1100 2403 \nL 2284 2403 \nQ 2872 2403 3119 2622 \nQ 3366 2841 3366 3238 \nQ 3366 3525 3220 3729 \nQ 3075 3934 2838 4000 \nQ 2684 4041 2272 4041 \nL 1100 4041 \nL 1100 2403 \nz\n\" transform=\"scale(0.015625)\"/>\n       <path id=\"ArialMT-72\" d=\"M 416 0 \nL 416 3319 \nL 922 3319 \nL 922 2816 \nQ 1116 3169 1280 3281 \nQ 1444 3394 1641 3394 \nQ 1925 3394 2219 3213 \nL 2025 2691 \nQ 1819 2813 1613 2813 \nQ 1428 2813 1281 2702 \nQ 1134 2591 1072 2394 \nQ 978 2094 978 1738 \nL 978 0 \nL 416 0 \nz\n\" transform=\"scale(0.015625)\"/>\n       <path id=\"ArialMT-65\" d=\"M 2694 1069 \nL 3275 997 \nQ 3138 488 2766 206 \nQ 2394 -75 1816 -75 \nQ 1088 -75 661 373 \nQ 234 822 234 1631 \nQ 234 2469 665 2931 \nQ 1097 3394 1784 3394 \nQ 2450 3394 2872 2941 \nQ 3294 2488 3294 1666 \nQ 3294 1616 3291 1516 \nL 816 1516 \nQ 847 969 1125 678 \nQ 1403 388 1819 388 \nQ 2128 388 2347 550 \nQ 2566 713 2694 1069 \nz\nM 847 1978 \nL 2700 1978 \nQ 2663 2397 2488 2606 \nQ 2219 2931 1791 2931 \nQ 1403 2931 1139 2672 \nQ 875 2413 847 1978 \nz\n\" transform=\"scale(0.015625)\"/>\n       <path id=\"ArialMT-64\" d=\"M 2575 0 \nL 2575 419 \nQ 2259 -75 1647 -75 \nQ 1250 -75 917 144 \nQ 584 363 401 755 \nQ 219 1147 219 1656 \nQ 219 2153 384 2558 \nQ 550 2963 881 3178 \nQ 1213 3394 1622 3394 \nQ 1922 3394 2156 3267 \nQ 2391 3141 2538 2938 \nL 2538 4581 \nL 3097 4581 \nL 3097 0 \nL 2575 0 \nz\nM 797 1656 \nQ 797 1019 1065 703 \nQ 1334 388 1700 388 \nQ 2069 388 2326 689 \nQ 2584 991 2584 1609 \nQ 2584 2291 2321 2609 \nQ 2059 2928 1675 2928 \nQ 1300 2928 1048 2622 \nQ 797 2316 797 1656 \nz\n\" transform=\"scale(0.015625)\"/>\n       <path id=\"ArialMT-69\" d=\"M 425 3934 \nL 425 4581 \nL 988 4581 \nL 988 3934 \nL 425 3934 \nz\nM 425 0 \nL 425 3319 \nL 988 3319 \nL 988 0 \nL 425 0 \nz\n\" transform=\"scale(0.015625)\"/>\n       <path id=\"ArialMT-63\" d=\"M 2588 1216 \nL 3141 1144 \nQ 3050 572 2676 248 \nQ 2303 -75 1759 -75 \nQ 1078 -75 664 370 \nQ 250 816 250 1647 \nQ 250 2184 428 2587 \nQ 606 2991 970 3192 \nQ 1334 3394 1763 3394 \nQ 2303 3394 2647 3120 \nQ 2991 2847 3088 2344 \nL 2541 2259 \nQ 2463 2594 2264 2762 \nQ 2066 2931 1784 2931 \nQ 1359 2931 1093 2626 \nQ 828 2322 828 1663 \nQ 828 994 1084 691 \nQ 1341 388 1753 388 \nQ 2084 388 2306 591 \nQ 2528 794 2588 1216 \nz\n\" transform=\"scale(0.015625)\"/>\n       <path id=\"ArialMT-74\" d=\"M 1650 503 \nL 1731 6 \nQ 1494 -44 1306 -44 \nQ 1000 -44 831 53 \nQ 663 150 594 308 \nQ 525 466 525 972 \nL 525 2881 \nL 113 2881 \nL 113 3319 \nL 525 3319 \nL 525 4141 \nL 1084 4478 \nL 1084 3319 \nL 1650 3319 \nL 1650 2881 \nL 1084 2881 \nL 1084 941 \nQ 1084 700 1114 631 \nQ 1144 563 1211 522 \nQ 1278 481 1403 481 \nQ 1497 481 1650 503 \nz\n\" transform=\"scale(0.015625)\"/>\n       <path id=\"ArialMT-20\" transform=\"scale(0.015625)\"/>\n       <path id=\"ArialMT-4f\" d=\"M 309 2231 \nQ 309 3372 921 4017 \nQ 1534 4663 2503 4663 \nQ 3138 4663 3647 4359 \nQ 4156 4056 4423 3514 \nQ 4691 2972 4691 2284 \nQ 4691 1588 4409 1038 \nQ 4128 488 3612 205 \nQ 3097 -78 2500 -78 \nQ 1853 -78 1343 234 \nQ 834 547 571 1087 \nQ 309 1628 309 2231 \nz\nM 934 2222 \nQ 934 1394 1379 917 \nQ 1825 441 2497 441 \nQ 3181 441 3623 922 \nQ 4066 1403 4066 2288 \nQ 4066 2847 3877 3264 \nQ 3688 3681 3323 3911 \nQ 2959 4141 2506 4141 \nQ 1863 4141 1398 3698 \nQ 934 3256 934 2222 \nz\n\" transform=\"scale(0.015625)\"/>\n       <path id=\"ArialMT-75\" d=\"M 2597 0 \nL 2597 488 \nQ 2209 -75 1544 -75 \nQ 1250 -75 995 37 \nQ 741 150 617 320 \nQ 494 491 444 738 \nQ 409 903 409 1263 \nL 409 3319 \nL 972 3319 \nL 972 1478 \nQ 972 1038 1006 884 \nQ 1059 663 1231 536 \nQ 1403 409 1656 409 \nQ 1909 409 2131 539 \nQ 2353 669 2445 892 \nQ 2538 1116 2538 1541 \nL 2538 3319 \nL 3100 3319 \nL 3100 0 \nL 2597 0 \nz\n\" transform=\"scale(0.015625)\"/>\n       <path id=\"ArialMT-70\" d=\"M 422 -1272 \nL 422 3319 \nL 934 3319 \nL 934 2888 \nQ 1116 3141 1344 3267 \nQ 1572 3394 1897 3394 \nQ 2322 3394 2647 3175 \nQ 2972 2956 3137 2557 \nQ 3303 2159 3303 1684 \nQ 3303 1175 3120 767 \nQ 2938 359 2589 142 \nQ 2241 -75 1856 -75 \nQ 1575 -75 1351 44 \nQ 1128 163 984 344 \nL 984 -1272 \nL 422 -1272 \nz\nM 931 1641 \nQ 931 1000 1190 694 \nQ 1450 388 1819 388 \nQ 2194 388 2461 705 \nQ 2728 1022 2728 1688 \nQ 2728 2322 2467 2637 \nQ 2206 2953 1844 2953 \nQ 1484 2953 1207 2617 \nQ 931 2281 931 1641 \nz\n\" transform=\"scale(0.015625)\"/>\n      </defs>\n      <use xlink:href=\"#ArialMT-50\"/>\n      <use xlink:href=\"#ArialMT-72\" x=\"66.699219\"/>\n      <use xlink:href=\"#ArialMT-65\" x=\"100\"/>\n      <use xlink:href=\"#ArialMT-64\" x=\"155.615234\"/>\n      <use xlink:href=\"#ArialMT-69\" x=\"211.230469\"/>\n      <use xlink:href=\"#ArialMT-63\" x=\"233.447266\"/>\n      <use xlink:href=\"#ArialMT-74\" x=\"283.447266\"/>\n      <use xlink:href=\"#ArialMT-65\" x=\"311.230469\"/>\n      <use xlink:href=\"#ArialMT-64\" x=\"366.845703\"/>\n      <use xlink:href=\"#ArialMT-20\" x=\"422.460938\"/>\n      <use xlink:href=\"#ArialMT-4f\" x=\"450.244141\"/>\n      <use xlink:href=\"#ArialMT-75\" x=\"528.027344\"/>\n      <use xlink:href=\"#ArialMT-74\" x=\"583.642578\"/>\n      <use xlink:href=\"#ArialMT-70\" x=\"611.425781\"/>\n      <use xlink:href=\"#ArialMT-75\" x=\"667.041016\"/>\n      <use xlink:href=\"#ArialMT-74\" x=\"722.65625\"/>\n     </g>\n    </g>\n   </g>\n   <g id=\"matplotlib.axis_2\">\n    <g id=\"ytick_1\">\n     <g id=\"line2d_4\">\n      <defs>\n       <path id=\"m12bdb53250\" d=\"M 0 0 \nL -3.5 0 \n\" style=\"stroke: #262626; stroke-width: 0.8\"/>\n      </defs>\n      <g>\n       <use xlink:href=\"#m12bdb53250\" x=\"36.61875\" y=\"44.1\" style=\"fill: #262626; stroke: #262626; stroke-width: 0.8\"/>\n      </g>\n     </g>\n     <g id=\"text_5\">\n      <!-- 0 -->\n      <g style=\"fill: #262626\" transform=\"translate(27.63125 46.880469)rotate(-90)scale(0.1 -0.1)\">\n       <use xlink:href=\"#ArialMT-30\"/>\n      </g>\n     </g>\n    </g>\n    <g id=\"ytick_2\">\n     <g id=\"line2d_5\">\n      <g>\n       <use xlink:href=\"#m12bdb53250\" x=\"36.61875\" y=\"88.74\" style=\"fill: #262626; stroke: #262626; stroke-width: 0.8\"/>\n      </g>\n     </g>\n     <g id=\"text_6\">\n      <!-- 1 -->\n      <g style=\"fill: #262626\" transform=\"translate(27.63125 91.520469)rotate(-90)scale(0.1 -0.1)\">\n       <use xlink:href=\"#ArialMT-31\"/>\n      </g>\n     </g>\n    </g>\n    <g id=\"ytick_3\">\n     <g id=\"line2d_6\">\n      <g>\n       <use xlink:href=\"#m12bdb53250\" x=\"36.61875\" y=\"133.38\" style=\"fill: #262626; stroke: #262626; stroke-width: 0.8\"/>\n      </g>\n     </g>\n     <g id=\"text_7\">\n      <!-- 2 -->\n      <g style=\"fill: #262626\" transform=\"translate(27.63125 136.160469)rotate(-90)scale(0.1 -0.1)\">\n       <use xlink:href=\"#ArialMT-32\"/>\n      </g>\n     </g>\n    </g>\n    <g id=\"text_8\">\n     <!-- Actual Output -->\n     <g style=\"fill: #262626\" transform=\"translate(14.485938 119.03375)rotate(-90)scale(0.1 -0.1)\">\n      <defs>\n       <path id=\"ArialMT-41\" d=\"M -9 0 \nL 1750 4581 \nL 2403 4581 \nL 4278 0 \nL 3588 0 \nL 3053 1388 \nL 1138 1388 \nL 634 0 \nL -9 0 \nz\nM 1313 1881 \nL 2866 1881 \nL 2388 3150 \nQ 2169 3728 2063 4100 \nQ 1975 3659 1816 3225 \nL 1313 1881 \nz\n\" transform=\"scale(0.015625)\"/>\n       <path id=\"ArialMT-61\" d=\"M 2588 409 \nQ 2275 144 1986 34 \nQ 1697 -75 1366 -75 \nQ 819 -75 525 192 \nQ 231 459 231 875 \nQ 231 1119 342 1320 \nQ 453 1522 633 1644 \nQ 813 1766 1038 1828 \nQ 1203 1872 1538 1913 \nQ 2219 1994 2541 2106 \nQ 2544 2222 2544 2253 \nQ 2544 2597 2384 2738 \nQ 2169 2928 1744 2928 \nQ 1347 2928 1158 2789 \nQ 969 2650 878 2297 \nL 328 2372 \nQ 403 2725 575 2942 \nQ 747 3159 1072 3276 \nQ 1397 3394 1825 3394 \nQ 2250 3394 2515 3294 \nQ 2781 3194 2906 3042 \nQ 3031 2891 3081 2659 \nQ 3109 2516 3109 2141 \nL 3109 1391 \nQ 3109 606 3145 398 \nQ 3181 191 3288 0 \nL 2700 0 \nQ 2613 175 2588 409 \nz\nM 2541 1666 \nQ 2234 1541 1622 1453 \nQ 1275 1403 1131 1340 \nQ 988 1278 909 1158 \nQ 831 1038 831 891 \nQ 831 666 1001 516 \nQ 1172 366 1500 366 \nQ 1825 366 2078 508 \nQ 2331 650 2450 897 \nQ 2541 1088 2541 1459 \nL 2541 1666 \nz\n\" transform=\"scale(0.015625)\"/>\n       <path id=\"ArialMT-6c\" d=\"M 409 0 \nL 409 4581 \nL 972 4581 \nL 972 0 \nL 409 0 \nz\n\" transform=\"scale(0.015625)\"/>\n      </defs>\n      <use xlink:href=\"#ArialMT-41\"/>\n      <use xlink:href=\"#ArialMT-63\" x=\"66.699219\"/>\n      <use xlink:href=\"#ArialMT-74\" x=\"116.699219\"/>\n      <use xlink:href=\"#ArialMT-75\" x=\"144.482422\"/>\n      <use xlink:href=\"#ArialMT-61\" x=\"200.097656\"/>\n      <use xlink:href=\"#ArialMT-6c\" x=\"255.712891\"/>\n      <use xlink:href=\"#ArialMT-20\" x=\"277.929688\"/>\n      <use xlink:href=\"#ArialMT-4f\" x=\"305.712891\"/>\n      <use xlink:href=\"#ArialMT-75\" x=\"383.496094\"/>\n      <use xlink:href=\"#ArialMT-74\" x=\"439.111328\"/>\n      <use xlink:href=\"#ArialMT-70\" x=\"466.894531\"/>\n      <use xlink:href=\"#ArialMT-75\" x=\"522.509766\"/>\n      <use xlink:href=\"#ArialMT-74\" x=\"578.125\"/>\n     </g>\n    </g>\n   </g>\n   <g id=\"QuadMesh_1\">\n    <path d=\"M 36.61875 21.78 \nL 81.25875 21.78 \nL 81.25875 66.42 \nL 36.61875 66.42 \nL 36.61875 21.78 \n\" clip-path=\"url(#p0a8fbaeace)\" style=\"fill: #4ea7b0; stroke: #ffffff; stroke-width: 0.5\"/>\n    <path d=\"M 81.25875 21.78 \nL 125.89875 21.78 \nL 125.89875 66.42 \nL 81.25875 66.42 \nL 81.25875 21.78 \n\" clip-path=\"url(#p0a8fbaeace)\" style=\"fill: #9e0142; stroke: #ffffff; stroke-width: 0.5\"/>\n    <path d=\"M 125.89875 21.78 \nL 170.53875 21.78 \nL 170.53875 66.42 \nL 125.89875 66.42 \nL 125.89875 21.78 \n\" clip-path=\"url(#p0a8fbaeace)\" style=\"fill: #9e0142; stroke: #ffffff; stroke-width: 0.5\"/>\n    <path d=\"M 36.61875 66.42 \nL 81.25875 66.42 \nL 81.25875 111.06 \nL 36.61875 111.06 \nL 36.61875 66.42 \n\" clip-path=\"url(#p0a8fbaeace)\" style=\"fill: #9e0142; stroke: #ffffff; stroke-width: 0.5\"/>\n    <path d=\"M 81.25875 66.42 \nL 125.89875 66.42 \nL 125.89875 111.06 \nL 81.25875 111.06 \nL 81.25875 66.42 \n\" clip-path=\"url(#p0a8fbaeace)\" style=\"fill: #5e4fa2; stroke: #ffffff; stroke-width: 0.5\"/>\n    <path d=\"M 125.89875 66.42 \nL 170.53875 66.42 \nL 170.53875 111.06 \nL 125.89875 111.06 \nL 125.89875 66.42 \n\" clip-path=\"url(#p0a8fbaeace)\" style=\"fill: #9e0142; stroke: #ffffff; stroke-width: 0.5\"/>\n    <path d=\"M 36.61875 111.06 \nL 81.25875 111.06 \nL 81.25875 155.7 \nL 36.61875 155.7 \nL 36.61875 111.06 \n\" clip-path=\"url(#p0a8fbaeace)\" style=\"fill: #9e0142; stroke: #ffffff; stroke-width: 0.5\"/>\n    <path d=\"M 81.25875 111.06 \nL 125.89875 111.06 \nL 125.89875 155.7 \nL 81.25875 155.7 \nL 81.25875 111.06 \n\" clip-path=\"url(#p0a8fbaeace)\" style=\"fill: #9e0142; stroke: #ffffff; stroke-width: 0.5\"/>\n    <path d=\"M 125.89875 111.06 \nL 170.53875 111.06 \nL 170.53875 155.7 \nL 125.89875 155.7 \nL 125.89875 111.06 \n\" clip-path=\"url(#p0a8fbaeace)\" style=\"fill: #fff3ac; stroke: #ffffff; stroke-width: 0.5\"/>\n   </g>\n   <g id=\"text_9\">\n    <!-- 11.000 -->\n    <g style=\"fill: #ffffff\" transform=\"translate(44.016094 46.685156)scale(0.1 -0.1)\">\n     <defs>\n      <path id=\"ArialMT-2e\" d=\"M 581 0 \nL 581 641 \nL 1222 641 \nL 1222 0 \nL 581 0 \nz\n\" transform=\"scale(0.015625)\"/>\n     </defs>\n     <use xlink:href=\"#ArialMT-31\"/>\n     <use xlink:href=\"#ArialMT-31\" x=\"48.240234\"/>\n     <use xlink:href=\"#ArialMT-2e\" x=\"103.855469\"/>\n     <use xlink:href=\"#ArialMT-30\" x=\"131.638672\"/>\n     <use xlink:href=\"#ArialMT-30\" x=\"187.253906\"/>\n     <use xlink:href=\"#ArialMT-30\" x=\"242.869141\"/>\n    </g>\n   </g>\n   <g id=\"text_10\">\n    <!-- 0.000 -->\n    <g style=\"fill: #ffffff\" transform=\"translate(91.067813 46.685156)scale(0.1 -0.1)\">\n     <use xlink:href=\"#ArialMT-30\"/>\n     <use xlink:href=\"#ArialMT-2e\" x=\"55.615234\"/>\n     <use xlink:href=\"#ArialMT-30\" x=\"83.398438\"/>\n     <use xlink:href=\"#ArialMT-30\" x=\"139.013672\"/>\n     <use xlink:href=\"#ArialMT-30\" x=\"194.628906\"/>\n    </g>\n   </g>\n   <g id=\"text_11\">\n    <!-- 0.000 -->\n    <g style=\"fill: #ffffff\" transform=\"translate(135.707812 46.685156)scale(0.1 -0.1)\">\n     <use xlink:href=\"#ArialMT-30\"/>\n     <use xlink:href=\"#ArialMT-2e\" x=\"55.615234\"/>\n     <use xlink:href=\"#ArialMT-30\" x=\"83.398438\"/>\n     <use xlink:href=\"#ArialMT-30\" x=\"139.013672\"/>\n     <use xlink:href=\"#ArialMT-30\" x=\"194.628906\"/>\n    </g>\n   </g>\n   <g id=\"text_12\">\n    <!-- 0.000 -->\n    <g style=\"fill: #ffffff\" transform=\"translate(46.427813 91.325156)scale(0.1 -0.1)\">\n     <use xlink:href=\"#ArialMT-30\"/>\n     <use xlink:href=\"#ArialMT-2e\" x=\"55.615234\"/>\n     <use xlink:href=\"#ArialMT-30\" x=\"83.398438\"/>\n     <use xlink:href=\"#ArialMT-30\" x=\"139.013672\"/>\n     <use xlink:href=\"#ArialMT-30\" x=\"194.628906\"/>\n    </g>\n   </g>\n   <g id=\"text_13\">\n    <!-- 13.000 -->\n    <g style=\"fill: #ffffff\" transform=\"translate(88.287344 91.325156)scale(0.1 -0.1)\">\n     <defs>\n      <path id=\"ArialMT-33\" d=\"M 269 1209 \nL 831 1284 \nQ 928 806 1161 595 \nQ 1394 384 1728 384 \nQ 2125 384 2398 659 \nQ 2672 934 2672 1341 \nQ 2672 1728 2419 1979 \nQ 2166 2231 1775 2231 \nQ 1616 2231 1378 2169 \nL 1441 2663 \nQ 1497 2656 1531 2656 \nQ 1891 2656 2178 2843 \nQ 2466 3031 2466 3422 \nQ 2466 3731 2256 3934 \nQ 2047 4138 1716 4138 \nQ 1388 4138 1169 3931 \nQ 950 3725 888 3313 \nL 325 3413 \nQ 428 3978 793 4289 \nQ 1159 4600 1703 4600 \nQ 2078 4600 2393 4439 \nQ 2709 4278 2876 4000 \nQ 3044 3722 3044 3409 \nQ 3044 3113 2884 2869 \nQ 2725 2625 2413 2481 \nQ 2819 2388 3044 2092 \nQ 3269 1797 3269 1353 \nQ 3269 753 2831 336 \nQ 2394 -81 1725 -81 \nQ 1122 -81 723 278 \nQ 325 638 269 1209 \nz\n\" transform=\"scale(0.015625)\"/>\n     </defs>\n     <use xlink:href=\"#ArialMT-31\"/>\n     <use xlink:href=\"#ArialMT-33\" x=\"55.615234\"/>\n     <use xlink:href=\"#ArialMT-2e\" x=\"111.230469\"/>\n     <use xlink:href=\"#ArialMT-30\" x=\"139.013672\"/>\n     <use xlink:href=\"#ArialMT-30\" x=\"194.628906\"/>\n     <use xlink:href=\"#ArialMT-30\" x=\"250.244141\"/>\n    </g>\n   </g>\n   <g id=\"text_14\">\n    <!-- 0.000 -->\n    <g style=\"fill: #ffffff\" transform=\"translate(135.707812 91.325156)scale(0.1 -0.1)\">\n     <use xlink:href=\"#ArialMT-30\"/>\n     <use xlink:href=\"#ArialMT-2e\" x=\"55.615234\"/>\n     <use xlink:href=\"#ArialMT-30\" x=\"83.398438\"/>\n     <use xlink:href=\"#ArialMT-30\" x=\"139.013672\"/>\n     <use xlink:href=\"#ArialMT-30\" x=\"194.628906\"/>\n    </g>\n   </g>\n   <g id=\"text_15\">\n    <!-- 0.000 -->\n    <g style=\"fill: #ffffff\" transform=\"translate(46.427813 135.965156)scale(0.1 -0.1)\">\n     <use xlink:href=\"#ArialMT-30\"/>\n     <use xlink:href=\"#ArialMT-2e\" x=\"55.615234\"/>\n     <use xlink:href=\"#ArialMT-30\" x=\"83.398438\"/>\n     <use xlink:href=\"#ArialMT-30\" x=\"139.013672\"/>\n     <use xlink:href=\"#ArialMT-30\" x=\"194.628906\"/>\n    </g>\n   </g>\n   <g id=\"text_16\">\n    <!-- 0.000 -->\n    <g style=\"fill: #ffffff\" transform=\"translate(91.067813 135.965156)scale(0.1 -0.1)\">\n     <use xlink:href=\"#ArialMT-30\"/>\n     <use xlink:href=\"#ArialMT-2e\" x=\"55.615234\"/>\n     <use xlink:href=\"#ArialMT-30\" x=\"83.398438\"/>\n     <use xlink:href=\"#ArialMT-30\" x=\"139.013672\"/>\n     <use xlink:href=\"#ArialMT-30\" x=\"194.628906\"/>\n    </g>\n   </g>\n   <g id=\"text_17\">\n    <!-- 6.000 -->\n    <g style=\"fill: #262626\" transform=\"translate(135.707812 135.965156)scale(0.1 -0.1)\">\n     <defs>\n      <path id=\"ArialMT-36\" d=\"M 3184 3459 \nL 2625 3416 \nQ 2550 3747 2413 3897 \nQ 2184 4138 1850 4138 \nQ 1581 4138 1378 3988 \nQ 1113 3794 959 3422 \nQ 806 3050 800 2363 \nQ 1003 2672 1297 2822 \nQ 1591 2972 1913 2972 \nQ 2475 2972 2870 2558 \nQ 3266 2144 3266 1488 \nQ 3266 1056 3080 686 \nQ 2894 316 2569 119 \nQ 2244 -78 1831 -78 \nQ 1128 -78 684 439 \nQ 241 956 241 2144 \nQ 241 3472 731 4075 \nQ 1159 4600 1884 4600 \nQ 2425 4600 2770 4297 \nQ 3116 3994 3184 3459 \nz\nM 888 1484 \nQ 888 1194 1011 928 \nQ 1134 663 1356 523 \nQ 1578 384 1822 384 \nQ 2178 384 2434 671 \nQ 2691 959 2691 1453 \nQ 2691 1928 2437 2201 \nQ 2184 2475 1800 2475 \nQ 1419 2475 1153 2201 \nQ 888 1928 888 1484 \nz\n\" transform=\"scale(0.015625)\"/>\n     </defs>\n     <use xlink:href=\"#ArialMT-36\"/>\n     <use xlink:href=\"#ArialMT-2e\" x=\"55.615234\"/>\n     <use xlink:href=\"#ArialMT-30\" x=\"83.398438\"/>\n     <use xlink:href=\"#ArialMT-30\" x=\"139.013672\"/>\n     <use xlink:href=\"#ArialMT-30\" x=\"194.628906\"/>\n    </g>\n   </g>\n   <g id=\"text_18\">\n    <!-- Acuracy Score: 1.0 -->\n    <g style=\"fill: #262626\" transform=\"translate(61.339688 15.78)scale(0.1 -0.1)\">\n     <defs>\n      <path id=\"ArialMT-79\" d=\"M 397 -1278 \nL 334 -750 \nQ 519 -800 656 -800 \nQ 844 -800 956 -737 \nQ 1069 -675 1141 -563 \nQ 1194 -478 1313 -144 \nQ 1328 -97 1363 -6 \nL 103 3319 \nL 709 3319 \nL 1400 1397 \nQ 1534 1031 1641 628 \nQ 1738 1016 1872 1384 \nL 2581 3319 \nL 3144 3319 \nL 1881 -56 \nQ 1678 -603 1566 -809 \nQ 1416 -1088 1222 -1217 \nQ 1028 -1347 759 -1347 \nQ 597 -1347 397 -1278 \nz\n\" transform=\"scale(0.015625)\"/>\n      <path id=\"ArialMT-53\" d=\"M 288 1472 \nL 859 1522 \nQ 900 1178 1048 958 \nQ 1197 738 1509 602 \nQ 1822 466 2213 466 \nQ 2559 466 2825 569 \nQ 3091 672 3220 851 \nQ 3350 1031 3350 1244 \nQ 3350 1459 3225 1620 \nQ 3100 1781 2813 1891 \nQ 2628 1963 1997 2114 \nQ 1366 2266 1113 2400 \nQ 784 2572 623 2826 \nQ 463 3081 463 3397 \nQ 463 3744 659 4045 \nQ 856 4347 1234 4503 \nQ 1613 4659 2075 4659 \nQ 2584 4659 2973 4495 \nQ 3363 4331 3572 4012 \nQ 3781 3694 3797 3291 \nL 3216 3247 \nQ 3169 3681 2898 3903 \nQ 2628 4125 2100 4125 \nQ 1550 4125 1298 3923 \nQ 1047 3722 1047 3438 \nQ 1047 3191 1225 3031 \nQ 1400 2872 2139 2705 \nQ 2878 2538 3153 2413 \nQ 3553 2228 3743 1945 \nQ 3934 1663 3934 1294 \nQ 3934 928 3725 604 \nQ 3516 281 3123 101 \nQ 2731 -78 2241 -78 \nQ 1619 -78 1198 103 \nQ 778 284 539 648 \nQ 300 1013 288 1472 \nz\n\" transform=\"scale(0.015625)\"/>\n      <path id=\"ArialMT-6f\" d=\"M 213 1659 \nQ 213 2581 725 3025 \nQ 1153 3394 1769 3394 \nQ 2453 3394 2887 2945 \nQ 3322 2497 3322 1706 \nQ 3322 1066 3130 698 \nQ 2938 331 2570 128 \nQ 2203 -75 1769 -75 \nQ 1072 -75 642 372 \nQ 213 819 213 1659 \nz\nM 791 1659 \nQ 791 1022 1069 705 \nQ 1347 388 1769 388 \nQ 2188 388 2466 706 \nQ 2744 1025 2744 1678 \nQ 2744 2294 2464 2611 \nQ 2184 2928 1769 2928 \nQ 1347 2928 1069 2612 \nQ 791 2297 791 1659 \nz\n\" transform=\"scale(0.015625)\"/>\n      <path id=\"ArialMT-3a\" d=\"M 578 2678 \nL 578 3319 \nL 1219 3319 \nL 1219 2678 \nL 578 2678 \nz\nM 578 0 \nL 578 641 \nL 1219 641 \nL 1219 0 \nL 578 0 \nz\n\" transform=\"scale(0.015625)\"/>\n     </defs>\n     <use xlink:href=\"#ArialMT-41\"/>\n     <use xlink:href=\"#ArialMT-63\" x=\"66.699219\"/>\n     <use xlink:href=\"#ArialMT-75\" x=\"116.699219\"/>\n     <use xlink:href=\"#ArialMT-72\" x=\"172.314453\"/>\n     <use xlink:href=\"#ArialMT-61\" x=\"205.615234\"/>\n     <use xlink:href=\"#ArialMT-63\" x=\"261.230469\"/>\n     <use xlink:href=\"#ArialMT-79\" x=\"311.230469\"/>\n     <use xlink:href=\"#ArialMT-20\" x=\"361.230469\"/>\n     <use xlink:href=\"#ArialMT-53\" x=\"389.013672\"/>\n     <use xlink:href=\"#ArialMT-63\" x=\"455.712891\"/>\n     <use xlink:href=\"#ArialMT-6f\" x=\"505.712891\"/>\n     <use xlink:href=\"#ArialMT-72\" x=\"561.328125\"/>\n     <use xlink:href=\"#ArialMT-65\" x=\"594.628906\"/>\n     <use xlink:href=\"#ArialMT-3a\" x=\"650.244141\"/>\n     <use xlink:href=\"#ArialMT-20\" x=\"678.027344\"/>\n     <use xlink:href=\"#ArialMT-31\" x=\"705.810547\"/>\n     <use xlink:href=\"#ArialMT-2e\" x=\"761.425781\"/>\n     <use xlink:href=\"#ArialMT-30\" x=\"789.208984\"/>\n    </g>\n   </g>\n  </g>\n  <g id=\"axes_2\">\n   <g id=\"patch_3\">\n    <path d=\"M 178.90875 170.28 \nL 187.06275 170.28 \nL 187.06275 7.2 \nL 178.90875 7.2 \nz\n\" style=\"fill: #ffffff\"/>\n   </g>\n   <g id=\"patch_4\">\n    <path clip-path=\"url(#p083b971fd0)\" style=\"fill: #ffffff; stroke: #ffffff; stroke-width: 0.01; stroke-linejoin: miter\"/>\n   </g>\n   <g id=\"matplotlib.axis_3\">\n    <g id=\"ytick_4\">\n     <g id=\"line2d_7\">\n      <defs>\n       <path id=\"m53f7e3b536\" d=\"M 0 0 \nL 3.5 0 \n\" style=\"stroke: #262626; stroke-width: 0.8\"/>\n      </defs>\n      <g>\n       <use xlink:href=\"#m53f7e3b536\" x=\"187.06275\" y=\"170.28\" style=\"fill: #262626; stroke: #262626; stroke-width: 0.8\"/>\n      </g>\n     </g>\n     <g id=\"text_19\">\n      <!-- 0 -->\n      <g style=\"fill: #262626\" transform=\"translate(194.06275 173.858906)scale(0.1 -0.1)\">\n       <use xlink:href=\"#ArialMT-30\"/>\n      </g>\n     </g>\n    </g>\n    <g id=\"ytick_5\">\n     <g id=\"line2d_8\">\n      <g>\n       <use xlink:href=\"#m53f7e3b536\" x=\"187.06275\" y=\"145.190769\" style=\"fill: #262626; stroke: #262626; stroke-width: 0.8\"/>\n      </g>\n     </g>\n     <g id=\"text_20\">\n      <!-- 2 -->\n      <g style=\"fill: #262626\" transform=\"translate(194.06275 148.769675)scale(0.1 -0.1)\">\n       <use xlink:href=\"#ArialMT-32\"/>\n      </g>\n     </g>\n    </g>\n    <g id=\"ytick_6\">\n     <g id=\"line2d_9\">\n      <g>\n       <use xlink:href=\"#m53f7e3b536\" x=\"187.06275\" y=\"120.101538\" style=\"fill: #262626; stroke: #262626; stroke-width: 0.8\"/>\n      </g>\n     </g>\n     <g id=\"text_21\">\n      <!-- 4 -->\n      <g style=\"fill: #262626\" transform=\"translate(194.06275 123.680445)scale(0.1 -0.1)\">\n       <defs>\n        <path id=\"ArialMT-34\" d=\"M 2069 0 \nL 2069 1097 \nL 81 1097 \nL 81 1613 \nL 2172 4581 \nL 2631 4581 \nL 2631 1613 \nL 3250 1613 \nL 3250 1097 \nL 2631 1097 \nL 2631 0 \nL 2069 0 \nz\nM 2069 1613 \nL 2069 3678 \nL 634 1613 \nL 2069 1613 \nz\n\" transform=\"scale(0.015625)\"/>\n       </defs>\n       <use xlink:href=\"#ArialMT-34\"/>\n      </g>\n     </g>\n    </g>\n    <g id=\"ytick_7\">\n     <g id=\"line2d_10\">\n      <g>\n       <use xlink:href=\"#m53f7e3b536\" x=\"187.06275\" y=\"95.012308\" style=\"fill: #262626; stroke: #262626; stroke-width: 0.8\"/>\n      </g>\n     </g>\n     <g id=\"text_22\">\n      <!-- 6 -->\n      <g style=\"fill: #262626\" transform=\"translate(194.06275 98.591214)scale(0.1 -0.1)\">\n       <use xlink:href=\"#ArialMT-36\"/>\n      </g>\n     </g>\n    </g>\n    <g id=\"ytick_8\">\n     <g id=\"line2d_11\">\n      <g>\n       <use xlink:href=\"#m53f7e3b536\" x=\"187.06275\" y=\"69.923077\" style=\"fill: #262626; stroke: #262626; stroke-width: 0.8\"/>\n      </g>\n     </g>\n     <g id=\"text_23\">\n      <!-- 8 -->\n      <g style=\"fill: #262626\" transform=\"translate(194.06275 73.501983)scale(0.1 -0.1)\">\n       <defs>\n        <path id=\"ArialMT-38\" d=\"M 1131 2484 \nQ 781 2613 612 2850 \nQ 444 3088 444 3419 \nQ 444 3919 803 4259 \nQ 1163 4600 1759 4600 \nQ 2359 4600 2725 4251 \nQ 3091 3903 3091 3403 \nQ 3091 3084 2923 2848 \nQ 2756 2613 2416 2484 \nQ 2838 2347 3058 2040 \nQ 3278 1734 3278 1309 \nQ 3278 722 2862 322 \nQ 2447 -78 1769 -78 \nQ 1091 -78 675 323 \nQ 259 725 259 1325 \nQ 259 1772 486 2073 \nQ 713 2375 1131 2484 \nz\nM 1019 3438 \nQ 1019 3113 1228 2906 \nQ 1438 2700 1772 2700 \nQ 2097 2700 2305 2904 \nQ 2513 3109 2513 3406 \nQ 2513 3716 2298 3927 \nQ 2084 4138 1766 4138 \nQ 1444 4138 1231 3931 \nQ 1019 3725 1019 3438 \nz\nM 838 1322 \nQ 838 1081 952 856 \nQ 1066 631 1291 507 \nQ 1516 384 1775 384 \nQ 2178 384 2440 643 \nQ 2703 903 2703 1303 \nQ 2703 1709 2433 1975 \nQ 2163 2241 1756 2241 \nQ 1359 2241 1098 1978 \nQ 838 1716 838 1322 \nz\n\" transform=\"scale(0.015625)\"/>\n       </defs>\n       <use xlink:href=\"#ArialMT-38\"/>\n      </g>\n     </g>\n    </g>\n    <g id=\"ytick_9\">\n     <g id=\"line2d_12\">\n      <g>\n       <use xlink:href=\"#m53f7e3b536\" x=\"187.06275\" y=\"44.833846\" style=\"fill: #262626; stroke: #262626; stroke-width: 0.8\"/>\n      </g>\n     </g>\n     <g id=\"text_24\">\n      <!-- 10 -->\n      <g style=\"fill: #262626\" transform=\"translate(194.06275 48.412752)scale(0.1 -0.1)\">\n       <use xlink:href=\"#ArialMT-31\"/>\n       <use xlink:href=\"#ArialMT-30\" x=\"55.615234\"/>\n      </g>\n     </g>\n    </g>\n    <g id=\"ytick_10\">\n     <g id=\"line2d_13\">\n      <g>\n       <use xlink:href=\"#m53f7e3b536\" x=\"187.06275\" y=\"19.744615\" style=\"fill: #262626; stroke: #262626; stroke-width: 0.8\"/>\n      </g>\n     </g>\n     <g id=\"text_25\">\n      <!-- 12 -->\n      <g style=\"fill: #262626\" transform=\"translate(194.06275 23.323522)scale(0.1 -0.1)\">\n       <use xlink:href=\"#ArialMT-31\"/>\n       <use xlink:href=\"#ArialMT-32\" x=\"55.615234\"/>\n      </g>\n     </g>\n    </g>\n   </g>\n   <image xlink:href=\"data:image/png;base64,\niVBORw0KGgoAAAANSUhEUgAAAAgAAACjCAYAAAC31F+mAAABKUlEQVR4nOWVUZLEIAhEQXEOtgfdg0ajcwMeVRh3tia/Wq+7EYL+6s8S5zNr6p2LlQIXGhECEu55QAJNnvBQyYOlTVb3XKyRBJqs5vaLmFKhSgVCQAIJ4EEVCCUdE1NgHQIx0ybTHpR6UpvflCY0m9r8GCbUtOhByYO8wAObhD/IiZgBwuMxxbAfPoCQltD6FTE3EIr/s95BgH1gAj/KgAQRtLbHPeRjfkChlsDGmXIDYU0gLCKghzXSBPAQMHkg5vMeFni46TX7hKU2F1wIENxzsU4SeQ+DLtxk8gghmyL/FpffLzsIWKhOBLyAEteBQtEFJORj5gmjw8aZOHoDCBskOr0mDs7/iPn3hDJgoVToOSswWjsIZBIJNDkBCRgtqwOW+4FCpWO+AXh3vNhthCAvAAAAAElFTkSuQmCC\" id=\"imagecb71cbb506\" transform=\"scale(1 -1)translate(0 -163)\" x=\"179\" y=\"-7\" width=\"8\" height=\"163\"/>\n   <g id=\"LineCollection_1\"/>\n   <g id=\"patch_5\">\n    <path d=\"M 178.90875 170.28 \nL 182.98575 170.28 \nL 187.06275 170.28 \nL 187.06275 7.2 \nL 182.98575 7.2 \nL 178.90875 7.2 \nL 178.90875 170.28 \nz\n\" style=\"fill: none\"/>\n   </g>\n  </g>\n </g>\n <defs>\n  <clipPath id=\"p0a8fbaeace\">\n   <rect x=\"36.61875\" y=\"21.78\" width=\"133.92\" height=\"133.92\"/>\n  </clipPath>\n  <clipPath id=\"p083b971fd0\">\n   <rect x=\"178.90875\" y=\"7.2\" width=\"8.154\" height=\"163.08\"/>\n  </clipPath>\n </defs>\n</svg>\n",
      "text/plain": [
       "<Figure size 216x216 with 2 Axes>"
      ]
     },
     "metadata": {},
     "output_type": "display_data"
    }
   ],
   "source": [
    "import seaborn as sns\n",
    "sns.set_style('ticks')\n",
    "plt.figure(figsize=(3,3))\n",
    "sns.heatmap(cm, annot= True, fmt='.3f', linewidth=.5, square=True,\n",
    "        cmap='Spectral')\n",
    "plt.ylabel('Actual Output')\n",
    "plt.xlabel('Predicted Output')\n",
    "all_sample_title='Acuracy Score: {0}'.format(score)\n",
    "plt.title(all_sample_title, size= 10)"
   ]
  },
  {
   "cell_type": "code",
   "execution_count": null,
   "metadata": {},
   "outputs": [],
   "source": []
  }
 ],
 "metadata": {
  "interpreter": {
   "hash": "d406864f2ee78ecc67afccccd0a48c216f41ca3a0f9ca739a0b9d8b15ae422ba"
  },
  "kernelspec": {
   "display_name": "Python 3.10.1 64-bit",
   "language": "python",
   "name": "python3"
  },
  "language_info": {
   "codemirror_mode": {
    "name": "ipython",
    "version": 3
   },
   "file_extension": ".py",
   "mimetype": "text/x-python",
   "name": "python",
   "nbconvert_exporter": "python",
   "pygments_lexer": "ipython3",
   "version": "3.10.1"
  },
  "orig_nbformat": 4
 },
 "nbformat": 4,
 "nbformat_minor": 2
}
