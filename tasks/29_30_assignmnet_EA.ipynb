{
 "cells": [
  {
   "cell_type": "markdown",
   "metadata": {},
   "source": [
    "Name    = \"Ehtisham Ahmad\"\n",
    "\n",
    "email   = \"ehtishamahmed10@gmail.com\""
   ]
  },
  {
   "cell_type": "markdown",
   "metadata": {},
   "source": [
    "-------------\n",
    "## Assignmnet\n",
    "------------"
   ]
  },
  {
   "cell_type": "markdown",
   "metadata": {},
   "source": [
    "### **Types of Naive Bayes Classifiers**"
   ]
  },
  {
   "cell_type": "markdown",
   "metadata": {},
   "source": [
    "1. **Gaussian Naive Bayes:**\n",
    "   - For continous values.\n",
    "\n",
    "\n",
    "2. **Bernoulli Naive Bayes:**\n",
    "   - For boolean output.\n",
    "\n",
    "   \n",
    "3. **Multinomial Naive Bayes:**\n",
    "    - For multinomial(polynomial) distribution involving text and documnets."
   ]
  },
  {
   "cell_type": "markdown",
   "metadata": {},
   "source": [
    "### **Gaussian NB**"
   ]
  },
  {
   "cell_type": "markdown",
   "metadata": {},
   "source": [
    "- It is a varient of Naive Bayes theorm.\n",
    "- It is th easiest way to findout mean and standard deviation from training data.\n",
    "- Applies on normal distribution.\n",
    "- Data with continous values."
   ]
  },
  {
   "cell_type": "markdown",
   "metadata": {},
   "source": [
    "### **Finding optimized hyperplane through equation**"
   ]
  },
  {
   "cell_type": "markdown",
   "metadata": {},
   "source": [
    "- It maimizes themargin of taining data.\n",
    "- w ⋅ x + b = 0 \n",
    "- Using this equation we can find the optimized hyperplane.\n",
    "- Here 'W' and 'X' are the two vectors where as 'b' is the intercept.\n",
    "- If the X and W dot product is positive it is a positive sample and vice versa."
   ]
  }
 ],
 "metadata": {
  "interpreter": {
   "hash": "d406864f2ee78ecc67afccccd0a48c216f41ca3a0f9ca739a0b9d8b15ae422ba"
  },
  "kernelspec": {
   "display_name": "Python 3.10.1 64-bit",
   "language": "python",
   "name": "python3"
  },
  "language_info": {
   "name": "python",
   "version": "3.10.1"
  },
  "orig_nbformat": 4
 },
 "nbformat": 4,
 "nbformat_minor": 2
}
