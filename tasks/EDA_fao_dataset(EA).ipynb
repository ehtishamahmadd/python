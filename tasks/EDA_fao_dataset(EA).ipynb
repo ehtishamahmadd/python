{
 "cells": [
  {
   "cell_type": "markdown",
   "metadata": {},
   "source": [
    "Name    = \"Ehtisham Ahmad\"\n",
    "\n",
    "email   = \"ehtishamahmed10@gmail.com\""
   ]
  },
  {
   "cell_type": "markdown",
   "metadata": {},
   "source": [
    "# Exploratory Data Analysis\n",
    "This will show us how we can do EDA using python\n",
    "\n",
    "## Three important steps to keep in mind are:\n",
    "1- Understand the data\\\n",
    "2- Clean the data\\\n",
    "3-Find thee relationship between data"
   ]
  },
  {
   "cell_type": "code",
   "execution_count": 1,
   "metadata": {},
   "outputs": [],
   "source": [
    "# important libraries\n",
    "import pandas as pd\n",
    "import numpy as np\n",
    "import matplotlib.pyplot as plt\n",
    "import seaborn as sns"
   ]
  },
  {
   "cell_type": "code",
   "execution_count": 55,
   "metadata": {},
   "outputs": [
    {
     "data": {
      "text/html": [
       "<div>\n",
       "<style scoped>\n",
       "    .dataframe tbody tr th:only-of-type {\n",
       "        vertical-align: middle;\n",
       "    }\n",
       "\n",
       "    .dataframe tbody tr th {\n",
       "        vertical-align: top;\n",
       "    }\n",
       "\n",
       "    .dataframe thead th {\n",
       "        text-align: right;\n",
       "    }\n",
       "</style>\n",
       "<table border=\"1\" class=\"dataframe\">\n",
       "  <thead>\n",
       "    <tr style=\"text-align: right;\">\n",
       "      <th></th>\n",
       "      <th>Domain Code</th>\n",
       "      <th>Domain</th>\n",
       "      <th>Area Code</th>\n",
       "      <th>Area</th>\n",
       "      <th>Element Code</th>\n",
       "      <th>Element</th>\n",
       "      <th>Item Code</th>\n",
       "      <th>Item</th>\n",
       "      <th>Year Code</th>\n",
       "      <th>Year</th>\n",
       "      <th>Unit</th>\n",
       "      <th>Value</th>\n",
       "      <th>Flag</th>\n",
       "      <th>Flag Description</th>\n",
       "    </tr>\n",
       "  </thead>\n",
       "  <tbody>\n",
       "    <tr>\n",
       "      <th>0</th>\n",
       "      <td>RFN</td>\n",
       "      <td>Fertilizers by Nutrient</td>\n",
       "      <td>165</td>\n",
       "      <td>Pakistan</td>\n",
       "      <td>5157</td>\n",
       "      <td>Agricultural Use</td>\n",
       "      <td>3102</td>\n",
       "      <td>Nutrient nitrogen N (total)</td>\n",
       "      <td>1961</td>\n",
       "      <td>1961</td>\n",
       "      <td>tonnes</td>\n",
       "      <td>41659</td>\n",
       "      <td>Qm</td>\n",
       "      <td>Official data from questionnaires and/or natio...</td>\n",
       "    </tr>\n",
       "    <tr>\n",
       "      <th>1</th>\n",
       "      <td>RFN</td>\n",
       "      <td>Fertilizers by Nutrient</td>\n",
       "      <td>165</td>\n",
       "      <td>Pakistan</td>\n",
       "      <td>5157</td>\n",
       "      <td>Agricultural Use</td>\n",
       "      <td>3103</td>\n",
       "      <td>Nutrient phosphate P2O5 (total)</td>\n",
       "      <td>1961</td>\n",
       "      <td>1961</td>\n",
       "      <td>tonnes</td>\n",
       "      <td>500</td>\n",
       "      <td>Qm</td>\n",
       "      <td>Official data from questionnaires and/or natio...</td>\n",
       "    </tr>\n",
       "    <tr>\n",
       "      <th>2</th>\n",
       "      <td>RFN</td>\n",
       "      <td>Fertilizers by Nutrient</td>\n",
       "      <td>165</td>\n",
       "      <td>Pakistan</td>\n",
       "      <td>5157</td>\n",
       "      <td>Agricultural Use</td>\n",
       "      <td>3103</td>\n",
       "      <td>Nutrient phosphate P2O5 (total)</td>\n",
       "      <td>1962</td>\n",
       "      <td>1962</td>\n",
       "      <td>tonnes</td>\n",
       "      <td>210</td>\n",
       "      <td>Qm</td>\n",
       "      <td>Official data from questionnaires and/or natio...</td>\n",
       "    </tr>\n",
       "    <tr>\n",
       "      <th>3</th>\n",
       "      <td>RFN</td>\n",
       "      <td>Fertilizers by Nutrient</td>\n",
       "      <td>165</td>\n",
       "      <td>Pakistan</td>\n",
       "      <td>5157</td>\n",
       "      <td>Agricultural Use</td>\n",
       "      <td>3102</td>\n",
       "      <td>Nutrient nitrogen N (total)</td>\n",
       "      <td>1962</td>\n",
       "      <td>1962</td>\n",
       "      <td>tonnes</td>\n",
       "      <td>41160</td>\n",
       "      <td>Qm</td>\n",
       "      <td>Official data from questionnaires and/or natio...</td>\n",
       "    </tr>\n",
       "    <tr>\n",
       "      <th>4</th>\n",
       "      <td>RFN</td>\n",
       "      <td>Fertilizers by Nutrient</td>\n",
       "      <td>165</td>\n",
       "      <td>Pakistan</td>\n",
       "      <td>5157</td>\n",
       "      <td>Agricultural Use</td>\n",
       "      <td>3102</td>\n",
       "      <td>Nutrient nitrogen N (total)</td>\n",
       "      <td>1963</td>\n",
       "      <td>1963</td>\n",
       "      <td>tonnes</td>\n",
       "      <td>67620</td>\n",
       "      <td>Qm</td>\n",
       "      <td>Official data from questionnaires and/or natio...</td>\n",
       "    </tr>\n",
       "  </tbody>\n",
       "</table>\n",
       "</div>"
      ],
      "text/plain": [
       "  Domain Code                   Domain  Area Code      Area  Element Code  \\\n",
       "0         RFN  Fertilizers by Nutrient        165  Pakistan          5157   \n",
       "1         RFN  Fertilizers by Nutrient        165  Pakistan          5157   \n",
       "2         RFN  Fertilizers by Nutrient        165  Pakistan          5157   \n",
       "3         RFN  Fertilizers by Nutrient        165  Pakistan          5157   \n",
       "4         RFN  Fertilizers by Nutrient        165  Pakistan          5157   \n",
       "\n",
       "            Element  Item Code                             Item  Year Code  \\\n",
       "0  Agricultural Use       3102      Nutrient nitrogen N (total)       1961   \n",
       "1  Agricultural Use       3103  Nutrient phosphate P2O5 (total)       1961   \n",
       "2  Agricultural Use       3103  Nutrient phosphate P2O5 (total)       1962   \n",
       "3  Agricultural Use       3102      Nutrient nitrogen N (total)       1962   \n",
       "4  Agricultural Use       3102      Nutrient nitrogen N (total)       1963   \n",
       "\n",
       "   Year    Unit  Value Flag                                   Flag Description  \n",
       "0  1961  tonnes  41659   Qm  Official data from questionnaires and/or natio...  \n",
       "1  1961  tonnes    500   Qm  Official data from questionnaires and/or natio...  \n",
       "2  1962  tonnes    210   Qm  Official data from questionnaires and/or natio...  \n",
       "3  1962  tonnes  41160   Qm  Official data from questionnaires and/or natio...  \n",
       "4  1963  tonnes  67620   Qm  Official data from questionnaires and/or natio...  "
      ]
     },
     "execution_count": 55,
     "metadata": {},
     "output_type": "execute_result"
    }
   ],
   "source": [
    "fao = pd.read_csv(\"fertilizer_consumption.csv\")\n",
    "fao.head()"
   ]
  },
  {
   "cell_type": "code",
   "execution_count": 56,
   "metadata": {},
   "outputs": [
    {
     "name": "stdout",
     "output_type": "stream",
     "text": [
      "<class 'pandas.core.frame.DataFrame'>\n",
      "RangeIndex: 172 entries, 0 to 171\n",
      "Data columns (total 14 columns):\n",
      " #   Column            Non-Null Count  Dtype \n",
      "---  ------            --------------  ----- \n",
      " 0   Domain Code       172 non-null    object\n",
      " 1   Domain            172 non-null    object\n",
      " 2   Area Code         172 non-null    int64 \n",
      " 3   Area              172 non-null    object\n",
      " 4   Element Code      172 non-null    int64 \n",
      " 5   Element           172 non-null    object\n",
      " 6   Item Code         172 non-null    int64 \n",
      " 7   Item              172 non-null    object\n",
      " 8   Year Code         172 non-null    int64 \n",
      " 9   Year              172 non-null    int64 \n",
      " 10  Unit              172 non-null    object\n",
      " 11  Value             172 non-null    int64 \n",
      " 12  Flag              172 non-null    object\n",
      " 13  Flag Description  172 non-null    object\n",
      "dtypes: int64(6), object(8)\n",
      "memory usage: 18.9+ KB\n"
     ]
    }
   ],
   "source": [
    "fao.info()"
   ]
  },
  {
   "cell_type": "code",
   "execution_count": 57,
   "metadata": {},
   "outputs": [
    {
     "data": {
      "text/plain": [
       "(172, 14)"
      ]
     },
     "execution_count": 57,
     "metadata": {},
     "output_type": "execute_result"
    }
   ],
   "source": [
    "fao.shape"
   ]
  },
  {
   "cell_type": "code",
   "execution_count": 58,
   "metadata": {},
   "outputs": [
    {
     "data": {
      "text/html": [
       "<div>\n",
       "<style scoped>\n",
       "    .dataframe tbody tr th:only-of-type {\n",
       "        vertical-align: middle;\n",
       "    }\n",
       "\n",
       "    .dataframe tbody tr th {\n",
       "        vertical-align: top;\n",
       "    }\n",
       "\n",
       "    .dataframe thead th {\n",
       "        text-align: right;\n",
       "    }\n",
       "</style>\n",
       "<table border=\"1\" class=\"dataframe\">\n",
       "  <thead>\n",
       "    <tr style=\"text-align: right;\">\n",
       "      <th></th>\n",
       "      <th>Domain Code</th>\n",
       "      <th>Domain</th>\n",
       "      <th>Area Code</th>\n",
       "      <th>Area</th>\n",
       "      <th>Element Code</th>\n",
       "      <th>Element</th>\n",
       "      <th>Item Code</th>\n",
       "      <th>Item</th>\n",
       "      <th>Year Code</th>\n",
       "      <th>Year</th>\n",
       "      <th>Unit</th>\n",
       "      <th>Value</th>\n",
       "      <th>Flag</th>\n",
       "      <th>Flag Description</th>\n",
       "    </tr>\n",
       "  </thead>\n",
       "  <tbody>\n",
       "    <tr>\n",
       "      <th>167</th>\n",
       "      <td>RFN</td>\n",
       "      <td>Fertilizers by Nutrient</td>\n",
       "      <td>165</td>\n",
       "      <td>Pakistan</td>\n",
       "      <td>5157</td>\n",
       "      <td>Agricultural Use</td>\n",
       "      <td>3102</td>\n",
       "      <td>Nutrient nitrogen N (total)</td>\n",
       "      <td>2018</td>\n",
       "      <td>2018</td>\n",
       "      <td>tonnes</td>\n",
       "      <td>3446922</td>\n",
       "      <td>Fm</td>\n",
       "      <td>Manual Estimation</td>\n",
       "    </tr>\n",
       "    <tr>\n",
       "      <th>168</th>\n",
       "      <td>RFN</td>\n",
       "      <td>Fertilizers by Nutrient</td>\n",
       "      <td>165</td>\n",
       "      <td>Pakistan</td>\n",
       "      <td>5157</td>\n",
       "      <td>Agricultural Use</td>\n",
       "      <td>3104</td>\n",
       "      <td>Nutrient potash K2O (total)</td>\n",
       "      <td>2018</td>\n",
       "      <td>2018</td>\n",
       "      <td>tonnes</td>\n",
       "      <td>54173</td>\n",
       "      <td>Fm</td>\n",
       "      <td>Manual Estimation</td>\n",
       "    </tr>\n",
       "    <tr>\n",
       "      <th>169</th>\n",
       "      <td>RFN</td>\n",
       "      <td>Fertilizers by Nutrient</td>\n",
       "      <td>165</td>\n",
       "      <td>Pakistan</td>\n",
       "      <td>5157</td>\n",
       "      <td>Agricultural Use</td>\n",
       "      <td>3104</td>\n",
       "      <td>Nutrient potash K2O (total)</td>\n",
       "      <td>2019</td>\n",
       "      <td>2019</td>\n",
       "      <td>tonnes</td>\n",
       "      <td>47260</td>\n",
       "      <td>Qm</td>\n",
       "      <td>Official data from questionnaires and/or natio...</td>\n",
       "    </tr>\n",
       "    <tr>\n",
       "      <th>170</th>\n",
       "      <td>RFN</td>\n",
       "      <td>Fertilizers by Nutrient</td>\n",
       "      <td>165</td>\n",
       "      <td>Pakistan</td>\n",
       "      <td>5157</td>\n",
       "      <td>Agricultural Use</td>\n",
       "      <td>3102</td>\n",
       "      <td>Nutrient nitrogen N (total)</td>\n",
       "      <td>2019</td>\n",
       "      <td>2019</td>\n",
       "      <td>tonnes</td>\n",
       "      <td>3505356</td>\n",
       "      <td>Qm</td>\n",
       "      <td>Official data from questionnaires and/or natio...</td>\n",
       "    </tr>\n",
       "    <tr>\n",
       "      <th>171</th>\n",
       "      <td>RFN</td>\n",
       "      <td>Fertilizers by Nutrient</td>\n",
       "      <td>165</td>\n",
       "      <td>Pakistan</td>\n",
       "      <td>5157</td>\n",
       "      <td>Agricultural Use</td>\n",
       "      <td>3103</td>\n",
       "      <td>Nutrient phosphate P2O5 (total)</td>\n",
       "      <td>2019</td>\n",
       "      <td>2019</td>\n",
       "      <td>tonnes</td>\n",
       "      <td>1099707</td>\n",
       "      <td>Qm</td>\n",
       "      <td>Official data from questionnaires and/or natio...</td>\n",
       "    </tr>\n",
       "  </tbody>\n",
       "</table>\n",
       "</div>"
      ],
      "text/plain": [
       "    Domain Code                   Domain  Area Code      Area  Element Code  \\\n",
       "167         RFN  Fertilizers by Nutrient        165  Pakistan          5157   \n",
       "168         RFN  Fertilizers by Nutrient        165  Pakistan          5157   \n",
       "169         RFN  Fertilizers by Nutrient        165  Pakistan          5157   \n",
       "170         RFN  Fertilizers by Nutrient        165  Pakistan          5157   \n",
       "171         RFN  Fertilizers by Nutrient        165  Pakistan          5157   \n",
       "\n",
       "              Element  Item Code                             Item  Year Code  \\\n",
       "167  Agricultural Use       3102      Nutrient nitrogen N (total)       2018   \n",
       "168  Agricultural Use       3104      Nutrient potash K2O (total)       2018   \n",
       "169  Agricultural Use       3104      Nutrient potash K2O (total)       2019   \n",
       "170  Agricultural Use       3102      Nutrient nitrogen N (total)       2019   \n",
       "171  Agricultural Use       3103  Nutrient phosphate P2O5 (total)       2019   \n",
       "\n",
       "     Year    Unit    Value Flag  \\\n",
       "167  2018  tonnes  3446922   Fm   \n",
       "168  2018  tonnes    54173   Fm   \n",
       "169  2019  tonnes    47260   Qm   \n",
       "170  2019  tonnes  3505356   Qm   \n",
       "171  2019  tonnes  1099707   Qm   \n",
       "\n",
       "                                      Flag Description  \n",
       "167                                  Manual Estimation  \n",
       "168                                  Manual Estimation  \n",
       "169  Official data from questionnaires and/or natio...  \n",
       "170  Official data from questionnaires and/or natio...  \n",
       "171  Official data from questionnaires and/or natio...  "
      ]
     },
     "execution_count": 58,
     "metadata": {},
     "output_type": "execute_result"
    }
   ],
   "source": [
    "fao.tail()"
   ]
  },
  {
   "cell_type": "code",
   "execution_count": 59,
   "metadata": {},
   "outputs": [
    {
     "data": {
      "text/html": [
       "<div>\n",
       "<style scoped>\n",
       "    .dataframe tbody tr th:only-of-type {\n",
       "        vertical-align: middle;\n",
       "    }\n",
       "\n",
       "    .dataframe tbody tr th {\n",
       "        vertical-align: top;\n",
       "    }\n",
       "\n",
       "    .dataframe thead th {\n",
       "        text-align: right;\n",
       "    }\n",
       "</style>\n",
       "<table border=\"1\" class=\"dataframe\">\n",
       "  <thead>\n",
       "    <tr style=\"text-align: right;\">\n",
       "      <th></th>\n",
       "      <th>Area Code</th>\n",
       "      <th>Element Code</th>\n",
       "      <th>Item Code</th>\n",
       "      <th>Year Code</th>\n",
       "      <th>Year</th>\n",
       "      <th>Value</th>\n",
       "    </tr>\n",
       "  </thead>\n",
       "  <tbody>\n",
       "    <tr>\n",
       "      <th>count</th>\n",
       "      <td>172.0</td>\n",
       "      <td>172.0</td>\n",
       "      <td>172.000000</td>\n",
       "      <td>172.000000</td>\n",
       "      <td>172.000000</td>\n",
       "      <td>1.720000e+02</td>\n",
       "    </tr>\n",
       "    <tr>\n",
       "      <th>mean</th>\n",
       "      <td>165.0</td>\n",
       "      <td>5157.0</td>\n",
       "      <td>3102.970930</td>\n",
       "      <td>1990.784884</td>\n",
       "      <td>1990.784884</td>\n",
       "      <td>7.064396e+05</td>\n",
       "    </tr>\n",
       "    <tr>\n",
       "      <th>std</th>\n",
       "      <td>0.0</td>\n",
       "      <td>0.0</td>\n",
       "      <td>0.812385</td>\n",
       "      <td>16.678775</td>\n",
       "      <td>16.678775</td>\n",
       "      <td>9.709749e+05</td>\n",
       "    </tr>\n",
       "    <tr>\n",
       "      <th>min</th>\n",
       "      <td>165.0</td>\n",
       "      <td>5157.0</td>\n",
       "      <td>3102.000000</td>\n",
       "      <td>1961.000000</td>\n",
       "      <td>1961.000000</td>\n",
       "      <td>1.440000e+02</td>\n",
       "    </tr>\n",
       "    <tr>\n",
       "      <th>25%</th>\n",
       "      <td>165.0</td>\n",
       "      <td>5157.0</td>\n",
       "      <td>3102.000000</td>\n",
       "      <td>1976.750000</td>\n",
       "      <td>1976.750000</td>\n",
       "      <td>2.615950e+04</td>\n",
       "    </tr>\n",
       "    <tr>\n",
       "      <th>50%</th>\n",
       "      <td>165.0</td>\n",
       "      <td>5157.0</td>\n",
       "      <td>3103.000000</td>\n",
       "      <td>1991.000000</td>\n",
       "      <td>1991.000000</td>\n",
       "      <td>2.689255e+05</td>\n",
       "    </tr>\n",
       "    <tr>\n",
       "      <th>75%</th>\n",
       "      <td>165.0</td>\n",
       "      <td>5157.0</td>\n",
       "      <td>3104.000000</td>\n",
       "      <td>2005.000000</td>\n",
       "      <td>2005.000000</td>\n",
       "      <td>9.193622e+05</td>\n",
       "    </tr>\n",
       "    <tr>\n",
       "      <th>max</th>\n",
       "      <td>165.0</td>\n",
       "      <td>5157.0</td>\n",
       "      <td>3104.000000</td>\n",
       "      <td>2019.000000</td>\n",
       "      <td>2019.000000</td>\n",
       "      <td>3.505356e+06</td>\n",
       "    </tr>\n",
       "  </tbody>\n",
       "</table>\n",
       "</div>"
      ],
      "text/plain": [
       "       Area Code  Element Code    Item Code    Year Code         Year  \\\n",
       "count      172.0         172.0   172.000000   172.000000   172.000000   \n",
       "mean       165.0        5157.0  3102.970930  1990.784884  1990.784884   \n",
       "std          0.0           0.0     0.812385    16.678775    16.678775   \n",
       "min        165.0        5157.0  3102.000000  1961.000000  1961.000000   \n",
       "25%        165.0        5157.0  3102.000000  1976.750000  1976.750000   \n",
       "50%        165.0        5157.0  3103.000000  1991.000000  1991.000000   \n",
       "75%        165.0        5157.0  3104.000000  2005.000000  2005.000000   \n",
       "max        165.0        5157.0  3104.000000  2019.000000  2019.000000   \n",
       "\n",
       "              Value  \n",
       "count  1.720000e+02  \n",
       "mean   7.064396e+05  \n",
       "std    9.709749e+05  \n",
       "min    1.440000e+02  \n",
       "25%    2.615950e+04  \n",
       "50%    2.689255e+05  \n",
       "75%    9.193622e+05  \n",
       "max    3.505356e+06  "
      ]
     },
     "execution_count": 59,
     "metadata": {},
     "output_type": "execute_result"
    }
   ],
   "source": [
    "fao.describe()"
   ]
  },
  {
   "cell_type": "code",
   "execution_count": 60,
   "metadata": {},
   "outputs": [
    {
     "data": {
      "text/plain": [
       "Domain Code           1\n",
       "Domain                1\n",
       "Area Code             1\n",
       "Area                  1\n",
       "Element Code          1\n",
       "Element               1\n",
       "Item Code             3\n",
       "Item                  3\n",
       "Year Code            59\n",
       "Year                 59\n",
       "Unit                  1\n",
       "Value               169\n",
       "Flag                  5\n",
       "Flag Description      5\n",
       "dtype: int64"
      ]
     },
     "execution_count": 60,
     "metadata": {},
     "output_type": "execute_result"
    }
   ],
   "source": [
    "#unique values in a data\n",
    "fao.nunique()\n",
    "#how much type of values are there in different columns"
   ]
  },
  {
   "cell_type": "code",
   "execution_count": 61,
   "metadata": {},
   "outputs": [
    {
     "data": {
      "text/plain": [
       "Index(['Domain Code', 'Domain', 'Area Code', 'Area', 'Element Code', 'Element',\n",
       "       'Item Code', 'Item', 'Year Code', 'Year', 'Unit', 'Value', 'Flag',\n",
       "       'Flag Description'],\n",
       "      dtype='object')"
      ]
     },
     "execution_count": 61,
     "metadata": {},
     "output_type": "execute_result"
    }
   ],
   "source": [
    "#column names\n",
    "fao.columns"
   ]
  },
  {
   "cell_type": "code",
   "execution_count": 62,
   "metadata": {},
   "outputs": [
    {
     "data": {
      "text/plain": [
       "array(['Nutrient nitrogen N (total)', 'Nutrient phosphate P2O5 (total)',\n",
       "       'Nutrient potash K2O (total)'], dtype=object)"
      ]
     },
     "execution_count": 62,
     "metadata": {},
     "output_type": "execute_result"
    }
   ],
   "source": [
    "fao[\"Item\"].unique()"
   ]
  },
  {
   "cell_type": "code",
   "execution_count": 63,
   "metadata": {},
   "outputs": [
    {
     "data": {
      "text/plain": [
       "array([1961, 1962, 1963, 1964, 1965, 1966, 1967, 1968, 1969, 1970, 1971,\n",
       "       1972, 1973, 1974, 1975, 1976, 1977, 1978, 1979, 1980, 1981, 1982,\n",
       "       1983, 1984, 1985, 1986, 1987, 1988, 1989, 1990, 1991, 1992, 1993,\n",
       "       1994, 1995, 1996, 1997, 1998, 1999, 2000, 2001, 2002, 2003, 2004,\n",
       "       2005, 2006, 2007, 2008, 2009, 2010, 2011, 2012, 2013, 2014, 2015,\n",
       "       2016, 2017, 2018, 2019], dtype=int64)"
      ]
     },
     "execution_count": 63,
     "metadata": {},
     "output_type": "execute_result"
    }
   ],
   "source": [
    "fao[\"Year\"].unique()"
   ]
  },
  {
   "cell_type": "code",
   "execution_count": 64,
   "metadata": {},
   "outputs": [
    {
     "data": {
      "text/plain": [
       "Domain Code           1\n",
       "Domain                1\n",
       "Area Code             1\n",
       "Area                  1\n",
       "Element Code          1\n",
       "Element               1\n",
       "Item Code             3\n",
       "Item                  3\n",
       "Year Code            59\n",
       "Year                 59\n",
       "Unit                  1\n",
       "Value               169\n",
       "Flag                  5\n",
       "Flag Description      5\n",
       "dtype: int64"
      ]
     },
     "execution_count": 64,
     "metadata": {},
     "output_type": "execute_result"
    }
   ],
   "source": [
    "fao[['Domain Code', 'Domain', 'Area Code', 'Area', 'Element Code', 'Element',\n",
    "       'Item Code', 'Item', 'Year Code', 'Year', 'Unit', 'Value', 'Flag',\n",
    "       'Flag Description']].nunique()"
   ]
  },
  {
   "cell_type": "markdown",
   "metadata": {},
   "source": [
    "# Cleaning and Filtering the Data"
   ]
  },
  {
   "cell_type": "code",
   "execution_count": 65,
   "metadata": {},
   "outputs": [
    {
     "data": {
      "text/html": [
       "<div>\n",
       "<style scoped>\n",
       "    .dataframe tbody tr th:only-of-type {\n",
       "        vertical-align: middle;\n",
       "    }\n",
       "\n",
       "    .dataframe tbody tr th {\n",
       "        vertical-align: top;\n",
       "    }\n",
       "\n",
       "    .dataframe thead th {\n",
       "        text-align: right;\n",
       "    }\n",
       "</style>\n",
       "<table border=\"1\" class=\"dataframe\">\n",
       "  <thead>\n",
       "    <tr style=\"text-align: right;\">\n",
       "      <th></th>\n",
       "      <th>Domain Code</th>\n",
       "      <th>Domain</th>\n",
       "      <th>Area Code</th>\n",
       "      <th>Area</th>\n",
       "      <th>Element Code</th>\n",
       "      <th>Element</th>\n",
       "      <th>Item Code</th>\n",
       "      <th>Item</th>\n",
       "      <th>Year Code</th>\n",
       "      <th>Year</th>\n",
       "      <th>Unit</th>\n",
       "      <th>Value</th>\n",
       "      <th>Flag</th>\n",
       "      <th>Flag Description</th>\n",
       "    </tr>\n",
       "  </thead>\n",
       "  <tbody>\n",
       "    <tr>\n",
       "      <th>0</th>\n",
       "      <td>False</td>\n",
       "      <td>False</td>\n",
       "      <td>False</td>\n",
       "      <td>False</td>\n",
       "      <td>False</td>\n",
       "      <td>False</td>\n",
       "      <td>False</td>\n",
       "      <td>False</td>\n",
       "      <td>False</td>\n",
       "      <td>False</td>\n",
       "      <td>False</td>\n",
       "      <td>False</td>\n",
       "      <td>False</td>\n",
       "      <td>False</td>\n",
       "    </tr>\n",
       "    <tr>\n",
       "      <th>1</th>\n",
       "      <td>False</td>\n",
       "      <td>False</td>\n",
       "      <td>False</td>\n",
       "      <td>False</td>\n",
       "      <td>False</td>\n",
       "      <td>False</td>\n",
       "      <td>False</td>\n",
       "      <td>False</td>\n",
       "      <td>False</td>\n",
       "      <td>False</td>\n",
       "      <td>False</td>\n",
       "      <td>False</td>\n",
       "      <td>False</td>\n",
       "      <td>False</td>\n",
       "    </tr>\n",
       "    <tr>\n",
       "      <th>2</th>\n",
       "      <td>False</td>\n",
       "      <td>False</td>\n",
       "      <td>False</td>\n",
       "      <td>False</td>\n",
       "      <td>False</td>\n",
       "      <td>False</td>\n",
       "      <td>False</td>\n",
       "      <td>False</td>\n",
       "      <td>False</td>\n",
       "      <td>False</td>\n",
       "      <td>False</td>\n",
       "      <td>False</td>\n",
       "      <td>False</td>\n",
       "      <td>False</td>\n",
       "    </tr>\n",
       "    <tr>\n",
       "      <th>3</th>\n",
       "      <td>False</td>\n",
       "      <td>False</td>\n",
       "      <td>False</td>\n",
       "      <td>False</td>\n",
       "      <td>False</td>\n",
       "      <td>False</td>\n",
       "      <td>False</td>\n",
       "      <td>False</td>\n",
       "      <td>False</td>\n",
       "      <td>False</td>\n",
       "      <td>False</td>\n",
       "      <td>False</td>\n",
       "      <td>False</td>\n",
       "      <td>False</td>\n",
       "    </tr>\n",
       "    <tr>\n",
       "      <th>4</th>\n",
       "      <td>False</td>\n",
       "      <td>False</td>\n",
       "      <td>False</td>\n",
       "      <td>False</td>\n",
       "      <td>False</td>\n",
       "      <td>False</td>\n",
       "      <td>False</td>\n",
       "      <td>False</td>\n",
       "      <td>False</td>\n",
       "      <td>False</td>\n",
       "      <td>False</td>\n",
       "      <td>False</td>\n",
       "      <td>False</td>\n",
       "      <td>False</td>\n",
       "    </tr>\n",
       "    <tr>\n",
       "      <th>...</th>\n",
       "      <td>...</td>\n",
       "      <td>...</td>\n",
       "      <td>...</td>\n",
       "      <td>...</td>\n",
       "      <td>...</td>\n",
       "      <td>...</td>\n",
       "      <td>...</td>\n",
       "      <td>...</td>\n",
       "      <td>...</td>\n",
       "      <td>...</td>\n",
       "      <td>...</td>\n",
       "      <td>...</td>\n",
       "      <td>...</td>\n",
       "      <td>...</td>\n",
       "    </tr>\n",
       "    <tr>\n",
       "      <th>167</th>\n",
       "      <td>False</td>\n",
       "      <td>False</td>\n",
       "      <td>False</td>\n",
       "      <td>False</td>\n",
       "      <td>False</td>\n",
       "      <td>False</td>\n",
       "      <td>False</td>\n",
       "      <td>False</td>\n",
       "      <td>False</td>\n",
       "      <td>False</td>\n",
       "      <td>False</td>\n",
       "      <td>False</td>\n",
       "      <td>False</td>\n",
       "      <td>False</td>\n",
       "    </tr>\n",
       "    <tr>\n",
       "      <th>168</th>\n",
       "      <td>False</td>\n",
       "      <td>False</td>\n",
       "      <td>False</td>\n",
       "      <td>False</td>\n",
       "      <td>False</td>\n",
       "      <td>False</td>\n",
       "      <td>False</td>\n",
       "      <td>False</td>\n",
       "      <td>False</td>\n",
       "      <td>False</td>\n",
       "      <td>False</td>\n",
       "      <td>False</td>\n",
       "      <td>False</td>\n",
       "      <td>False</td>\n",
       "    </tr>\n",
       "    <tr>\n",
       "      <th>169</th>\n",
       "      <td>False</td>\n",
       "      <td>False</td>\n",
       "      <td>False</td>\n",
       "      <td>False</td>\n",
       "      <td>False</td>\n",
       "      <td>False</td>\n",
       "      <td>False</td>\n",
       "      <td>False</td>\n",
       "      <td>False</td>\n",
       "      <td>False</td>\n",
       "      <td>False</td>\n",
       "      <td>False</td>\n",
       "      <td>False</td>\n",
       "      <td>False</td>\n",
       "    </tr>\n",
       "    <tr>\n",
       "      <th>170</th>\n",
       "      <td>False</td>\n",
       "      <td>False</td>\n",
       "      <td>False</td>\n",
       "      <td>False</td>\n",
       "      <td>False</td>\n",
       "      <td>False</td>\n",
       "      <td>False</td>\n",
       "      <td>False</td>\n",
       "      <td>False</td>\n",
       "      <td>False</td>\n",
       "      <td>False</td>\n",
       "      <td>False</td>\n",
       "      <td>False</td>\n",
       "      <td>False</td>\n",
       "    </tr>\n",
       "    <tr>\n",
       "      <th>171</th>\n",
       "      <td>False</td>\n",
       "      <td>False</td>\n",
       "      <td>False</td>\n",
       "      <td>False</td>\n",
       "      <td>False</td>\n",
       "      <td>False</td>\n",
       "      <td>False</td>\n",
       "      <td>False</td>\n",
       "      <td>False</td>\n",
       "      <td>False</td>\n",
       "      <td>False</td>\n",
       "      <td>False</td>\n",
       "      <td>False</td>\n",
       "      <td>False</td>\n",
       "    </tr>\n",
       "  </tbody>\n",
       "</table>\n",
       "<p>172 rows × 14 columns</p>\n",
       "</div>"
      ],
      "text/plain": [
       "     Domain Code  Domain  Area Code   Area  Element Code  Element  Item Code  \\\n",
       "0          False   False      False  False         False    False      False   \n",
       "1          False   False      False  False         False    False      False   \n",
       "2          False   False      False  False         False    False      False   \n",
       "3          False   False      False  False         False    False      False   \n",
       "4          False   False      False  False         False    False      False   \n",
       "..           ...     ...        ...    ...           ...      ...        ...   \n",
       "167        False   False      False  False         False    False      False   \n",
       "168        False   False      False  False         False    False      False   \n",
       "169        False   False      False  False         False    False      False   \n",
       "170        False   False      False  False         False    False      False   \n",
       "171        False   False      False  False         False    False      False   \n",
       "\n",
       "      Item  Year Code   Year   Unit  Value   Flag  Flag Description  \n",
       "0    False      False  False  False  False  False             False  \n",
       "1    False      False  False  False  False  False             False  \n",
       "2    False      False  False  False  False  False             False  \n",
       "3    False      False  False  False  False  False             False  \n",
       "4    False      False  False  False  False  False             False  \n",
       "..     ...        ...    ...    ...    ...    ...               ...  \n",
       "167  False      False  False  False  False  False             False  \n",
       "168  False      False  False  False  False  False             False  \n",
       "169  False      False  False  False  False  False             False  \n",
       "170  False      False  False  False  False  False             False  \n",
       "171  False      False  False  False  False  False             False  \n",
       "\n",
       "[172 rows x 14 columns]"
      ]
     },
     "execution_count": 65,
     "metadata": {},
     "output_type": "execute_result"
    }
   ],
   "source": [
    "# find missing values inside\n",
    "fao.isnull()"
   ]
  },
  {
   "cell_type": "code",
   "execution_count": 66,
   "metadata": {},
   "outputs": [
    {
     "data": {
      "text/plain": [
       "Domain Code         0\n",
       "Domain              0\n",
       "Area Code           0\n",
       "Area                0\n",
       "Element Code        0\n",
       "Element             0\n",
       "Item Code           0\n",
       "Item                0\n",
       "Year Code           0\n",
       "Year                0\n",
       "Unit                0\n",
       "Value               0\n",
       "Flag                0\n",
       "Flag Description    0\n",
       "dtype: int64"
      ]
     },
     "execution_count": 66,
     "metadata": {},
     "output_type": "execute_result"
    }
   ],
   "source": [
    "fao.isnull().sum()"
   ]
  },
  {
   "cell_type": "code",
   "execution_count": 67,
   "metadata": {},
   "outputs": [
    {
     "data": {
      "text/plain": [
       "Nutrient nitrogen N (total)        59\n",
       "Nutrient phosphate P2O5 (total)    59\n",
       "Nutrient potash K2O (total)        54\n",
       "Name: Item, dtype: int64"
      ]
     },
     "execution_count": 67,
     "metadata": {},
     "output_type": "execute_result"
    }
   ],
   "source": [
    "fao[\"Item\"].value_counts()"
   ]
  },
  {
   "cell_type": "code",
   "execution_count": 68,
   "metadata": {},
   "outputs": [
    {
     "data": {
      "text/plain": [
       "<AxesSubplot:ylabel='Value'>"
      ]
     },
     "execution_count": 68,
     "metadata": {},
     "output_type": "execute_result"
    },
    {
     "data": {
      "image/png": "[encoded data removed]",
      "text/plain": [
       "<Figure size 432x288 with 1 Axes>"
      ]
     },
     "metadata": {},
     "output_type": "display_data"
    }
   ],
   "source": [
    "#finding outliers\n",
    "sns.set_theme(style=\"ticks\")\n",
    "sns.boxplot(y='Value', data=fao)"
   ]
  },
  {
   "cell_type": "code",
   "execution_count": 69,
   "metadata": {},
   "outputs": [
    {
     "name": "stderr",
     "output_type": "stream",
     "text": [
      "C:\\Users\\Lenovo\\AppData\\Local\\Programs\\Python\\Python310\\lib\\site-packages\\seaborn\\distributions.py:2619: FutureWarning: `distplot` is a deprecated function and will be removed in a future version. Please adapt your code to use either `displot` (a figure-level function with similar flexibility) or `histplot` (an axes-level function for histograms).\n",
      "  warnings.warn(msg, FutureWarning)\n"
     ]
    },
    {
     "data": {
      "text/plain": [
       "<AxesSubplot:xlabel='Value', ylabel='Density'>"
      ]
     },
     "execution_count": 69,
     "metadata": {},
     "output_type": "execute_result"
    },
    {
     "data": {
      "image/png": "[encoded data removed]",
      "text/plain": [
       "<Figure size 432x288 with 1 Axes>"
      ]
     },
     "metadata": {},
     "output_type": "display_data"
    }
   ],
   "source": [
    "sns.distplot(fao['Value'])"
   ]
  },
  {
   "cell_type": "code",
   "execution_count": 70,
   "metadata": {},
   "outputs": [
    {
     "data": {
      "text/plain": [
       "706439.5581395349"
      ]
     },
     "execution_count": 70,
     "metadata": {},
     "output_type": "execute_result"
    }
   ],
   "source": [
    "#outliers removal\n",
    "fao[\"Value\"].mean()"
   ]
  },
  {
   "cell_type": "code",
   "execution_count": 72,
   "metadata": {},
   "outputs": [
    {
     "data": {
      "text/html": [
       "<div>\n",
       "<style scoped>\n",
       "    .dataframe tbody tr th:only-of-type {\n",
       "        vertical-align: middle;\n",
       "    }\n",
       "\n",
       "    .dataframe tbody tr th {\n",
       "        vertical-align: top;\n",
       "    }\n",
       "\n",
       "    .dataframe thead th {\n",
       "        text-align: right;\n",
       "    }\n",
       "</style>\n",
       "<table border=\"1\" class=\"dataframe\">\n",
       "  <thead>\n",
       "    <tr style=\"text-align: right;\">\n",
       "      <th></th>\n",
       "      <th>Domain Code</th>\n",
       "      <th>Domain</th>\n",
       "      <th>Area Code</th>\n",
       "      <th>Area</th>\n",
       "      <th>Element Code</th>\n",
       "      <th>Element</th>\n",
       "      <th>Item Code</th>\n",
       "      <th>Item</th>\n",
       "      <th>Year Code</th>\n",
       "      <th>Year</th>\n",
       "      <th>Unit</th>\n",
       "      <th>Value</th>\n",
       "      <th>Flag</th>\n",
       "      <th>Flag Description</th>\n",
       "    </tr>\n",
       "  </thead>\n",
       "  <tbody>\n",
       "    <tr>\n",
       "      <th>0</th>\n",
       "      <td>RFN</td>\n",
       "      <td>Fertilizers by Nutrient</td>\n",
       "      <td>165</td>\n",
       "      <td>Pakistan</td>\n",
       "      <td>5157</td>\n",
       "      <td>Agricultural Use</td>\n",
       "      <td>3102</td>\n",
       "      <td>Nutrient nitrogen N (total)</td>\n",
       "      <td>1961</td>\n",
       "      <td>1961</td>\n",
       "      <td>tonnes</td>\n",
       "      <td>41659</td>\n",
       "      <td>Qm</td>\n",
       "      <td>Official data from questionnaires and/or natio...</td>\n",
       "    </tr>\n",
       "    <tr>\n",
       "      <th>1</th>\n",
       "      <td>RFN</td>\n",
       "      <td>Fertilizers by Nutrient</td>\n",
       "      <td>165</td>\n",
       "      <td>Pakistan</td>\n",
       "      <td>5157</td>\n",
       "      <td>Agricultural Use</td>\n",
       "      <td>3103</td>\n",
       "      <td>Nutrient phosphate P2O5 (total)</td>\n",
       "      <td>1961</td>\n",
       "      <td>1961</td>\n",
       "      <td>tonnes</td>\n",
       "      <td>500</td>\n",
       "      <td>Qm</td>\n",
       "      <td>Official data from questionnaires and/or natio...</td>\n",
       "    </tr>\n",
       "    <tr>\n",
       "      <th>2</th>\n",
       "      <td>RFN</td>\n",
       "      <td>Fertilizers by Nutrient</td>\n",
       "      <td>165</td>\n",
       "      <td>Pakistan</td>\n",
       "      <td>5157</td>\n",
       "      <td>Agricultural Use</td>\n",
       "      <td>3103</td>\n",
       "      <td>Nutrient phosphate P2O5 (total)</td>\n",
       "      <td>1962</td>\n",
       "      <td>1962</td>\n",
       "      <td>tonnes</td>\n",
       "      <td>210</td>\n",
       "      <td>Qm</td>\n",
       "      <td>Official data from questionnaires and/or natio...</td>\n",
       "    </tr>\n",
       "    <tr>\n",
       "      <th>3</th>\n",
       "      <td>RFN</td>\n",
       "      <td>Fertilizers by Nutrient</td>\n",
       "      <td>165</td>\n",
       "      <td>Pakistan</td>\n",
       "      <td>5157</td>\n",
       "      <td>Agricultural Use</td>\n",
       "      <td>3102</td>\n",
       "      <td>Nutrient nitrogen N (total)</td>\n",
       "      <td>1962</td>\n",
       "      <td>1962</td>\n",
       "      <td>tonnes</td>\n",
       "      <td>41160</td>\n",
       "      <td>Qm</td>\n",
       "      <td>Official data from questionnaires and/or natio...</td>\n",
       "    </tr>\n",
       "    <tr>\n",
       "      <th>4</th>\n",
       "      <td>RFN</td>\n",
       "      <td>Fertilizers by Nutrient</td>\n",
       "      <td>165</td>\n",
       "      <td>Pakistan</td>\n",
       "      <td>5157</td>\n",
       "      <td>Agricultural Use</td>\n",
       "      <td>3102</td>\n",
       "      <td>Nutrient nitrogen N (total)</td>\n",
       "      <td>1963</td>\n",
       "      <td>1963</td>\n",
       "      <td>tonnes</td>\n",
       "      <td>67620</td>\n",
       "      <td>Qm</td>\n",
       "      <td>Official data from questionnaires and/or natio...</td>\n",
       "    </tr>\n",
       "  </tbody>\n",
       "</table>\n",
       "</div>"
      ],
      "text/plain": [
       "  Domain Code                   Domain  Area Code      Area  Element Code  \\\n",
       "0         RFN  Fertilizers by Nutrient        165  Pakistan          5157   \n",
       "1         RFN  Fertilizers by Nutrient        165  Pakistan          5157   \n",
       "2         RFN  Fertilizers by Nutrient        165  Pakistan          5157   \n",
       "3         RFN  Fertilizers by Nutrient        165  Pakistan          5157   \n",
       "4         RFN  Fertilizers by Nutrient        165  Pakistan          5157   \n",
       "\n",
       "            Element  Item Code                             Item  Year Code  \\\n",
       "0  Agricultural Use       3102      Nutrient nitrogen N (total)       1961   \n",
       "1  Agricultural Use       3103  Nutrient phosphate P2O5 (total)       1961   \n",
       "2  Agricultural Use       3103  Nutrient phosphate P2O5 (total)       1962   \n",
       "3  Agricultural Use       3102      Nutrient nitrogen N (total)       1962   \n",
       "4  Agricultural Use       3102      Nutrient nitrogen N (total)       1963   \n",
       "\n",
       "   Year    Unit  Value Flag                                   Flag Description  \n",
       "0  1961  tonnes  41659   Qm  Official data from questionnaires and/or natio...  \n",
       "1  1961  tonnes    500   Qm  Official data from questionnaires and/or natio...  \n",
       "2  1962  tonnes    210   Qm  Official data from questionnaires and/or natio...  \n",
       "3  1962  tonnes  41160   Qm  Official data from questionnaires and/or natio...  \n",
       "4  1963  tonnes  67620   Qm  Official data from questionnaires and/or natio...  "
      ]
     },
     "execution_count": 72,
     "metadata": {},
     "output_type": "execute_result"
    }
   ],
   "source": [
    "fao = fao[fao['Value']<2291610]\n",
    "fao.head()"
   ]
  },
  {
   "cell_type": "code",
   "execution_count": 73,
   "metadata": {},
   "outputs": [
    {
     "data": {
      "text/html": [
       "<div>\n",
       "<style scoped>\n",
       "    .dataframe tbody tr th:only-of-type {\n",
       "        vertical-align: middle;\n",
       "    }\n",
       "\n",
       "    .dataframe tbody tr th {\n",
       "        vertical-align: top;\n",
       "    }\n",
       "\n",
       "    .dataframe thead th {\n",
       "        text-align: right;\n",
       "    }\n",
       "</style>\n",
       "<table border=\"1\" class=\"dataframe\">\n",
       "  <thead>\n",
       "    <tr style=\"text-align: right;\">\n",
       "      <th></th>\n",
       "      <th>Area Code</th>\n",
       "      <th>Element Code</th>\n",
       "      <th>Item Code</th>\n",
       "      <th>Year Code</th>\n",
       "      <th>Year</th>\n",
       "      <th>Value</th>\n",
       "    </tr>\n",
       "  </thead>\n",
       "  <tbody>\n",
       "    <tr>\n",
       "      <th>count</th>\n",
       "      <td>153.0</td>\n",
       "      <td>153.0</td>\n",
       "      <td>153.000000</td>\n",
       "      <td>153.000000</td>\n",
       "      <td>153.000000</td>\n",
       "      <td>1.530000e+02</td>\n",
       "    </tr>\n",
       "    <tr>\n",
       "      <th>mean</th>\n",
       "      <td>165.0</td>\n",
       "      <td>5157.0</td>\n",
       "      <td>3103.091503</td>\n",
       "      <td>1988.398693</td>\n",
       "      <td>1988.398693</td>\n",
       "      <td>4.217904e+05</td>\n",
       "    </tr>\n",
       "    <tr>\n",
       "      <th>std</th>\n",
       "      <td>0.0</td>\n",
       "      <td>0.0</td>\n",
       "      <td>0.781021</td>\n",
       "      <td>16.041205</td>\n",
       "      <td>16.041205</td>\n",
       "      <td>5.521792e+05</td>\n",
       "    </tr>\n",
       "    <tr>\n",
       "      <th>min</th>\n",
       "      <td>165.0</td>\n",
       "      <td>5157.0</td>\n",
       "      <td>3102.000000</td>\n",
       "      <td>1961.000000</td>\n",
       "      <td>1961.000000</td>\n",
       "      <td>1.440000e+02</td>\n",
       "    </tr>\n",
       "    <tr>\n",
       "      <th>25%</th>\n",
       "      <td>165.0</td>\n",
       "      <td>5157.0</td>\n",
       "      <td>3102.000000</td>\n",
       "      <td>1975.000000</td>\n",
       "      <td>1975.000000</td>\n",
       "      <td>2.406200e+04</td>\n",
       "    </tr>\n",
       "    <tr>\n",
       "      <th>50%</th>\n",
       "      <td>165.0</td>\n",
       "      <td>5157.0</td>\n",
       "      <td>3103.000000</td>\n",
       "      <td>1988.000000</td>\n",
       "      <td>1988.000000</td>\n",
       "      <td>1.573000e+05</td>\n",
       "    </tr>\n",
       "    <tr>\n",
       "      <th>75%</th>\n",
       "      <td>165.0</td>\n",
       "      <td>5157.0</td>\n",
       "      <td>3104.000000</td>\n",
       "      <td>2000.000000</td>\n",
       "      <td>2000.000000</td>\n",
       "      <td>6.693070e+05</td>\n",
       "    </tr>\n",
       "    <tr>\n",
       "      <th>max</th>\n",
       "      <td>165.0</td>\n",
       "      <td>5157.0</td>\n",
       "      <td>3104.000000</td>\n",
       "      <td>2019.000000</td>\n",
       "      <td>2019.000000</td>\n",
       "      <td>2.264600e+06</td>\n",
       "    </tr>\n",
       "  </tbody>\n",
       "</table>\n",
       "</div>"
      ],
      "text/plain": [
       "       Area Code  Element Code    Item Code    Year Code         Year  \\\n",
       "count      153.0         153.0   153.000000   153.000000   153.000000   \n",
       "mean       165.0        5157.0  3103.091503  1988.398693  1988.398693   \n",
       "std          0.0           0.0     0.781021    16.041205    16.041205   \n",
       "min        165.0        5157.0  3102.000000  1961.000000  1961.000000   \n",
       "25%        165.0        5157.0  3102.000000  1975.000000  1975.000000   \n",
       "50%        165.0        5157.0  3103.000000  1988.000000  1988.000000   \n",
       "75%        165.0        5157.0  3104.000000  2000.000000  2000.000000   \n",
       "max        165.0        5157.0  3104.000000  2019.000000  2019.000000   \n",
       "\n",
       "              Value  \n",
       "count  1.530000e+02  \n",
       "mean   4.217904e+05  \n",
       "std    5.521792e+05  \n",
       "min    1.440000e+02  \n",
       "25%    2.406200e+04  \n",
       "50%    1.573000e+05  \n",
       "75%    6.693070e+05  \n",
       "max    2.264600e+06  "
      ]
     },
     "execution_count": 73,
     "metadata": {},
     "output_type": "execute_result"
    }
   ],
   "source": [
    "fao.describe()"
   ]
  },
  {
   "cell_type": "code",
   "execution_count": 74,
   "metadata": {},
   "outputs": [
    {
     "data": {
      "text/plain": [
       "(153, 14)"
      ]
     },
     "execution_count": 74,
     "metadata": {},
     "output_type": "execute_result"
    }
   ],
   "source": [
    "fao.shape"
   ]
  },
  {
   "cell_type": "code",
   "execution_count": 75,
   "metadata": {},
   "outputs": [
    {
     "name": "stderr",
     "output_type": "stream",
     "text": [
      "C:\\Users\\Lenovo\\AppData\\Local\\Temp/ipykernel_7356/3131926230.py:1: FutureWarning: Dropping of nuisance columns in DataFrame reductions (with 'numeric_only=None') is deprecated; in a future version this will raise TypeError.  Select only valid columns before calling the reduction.\n",
      "  fao.mean()\n"
     ]
    },
    {
     "data": {
      "text/plain": [
       "Area Code          165.000000\n",
       "Element Code      5157.000000\n",
       "Item Code         3103.091503\n",
       "Year Code         1988.398693\n",
       "Year              1988.398693\n",
       "Value           421790.372549\n",
       "dtype: float64"
      ]
     },
     "execution_count": 75,
     "metadata": {},
     "output_type": "execute_result"
    }
   ],
   "source": [
    "fao.mean()"
   ]
  },
  {
   "cell_type": "code",
   "execution_count": 76,
   "metadata": {},
   "outputs": [
    {
     "data": {
      "text/plain": [
       "<AxesSubplot:ylabel='Value'>"
      ]
     },
     "execution_count": 76,
     "metadata": {},
     "output_type": "execute_result"
    },
    {
     "data": {
      "image/png": "[encoded data removed]",
      "text/plain": [
       "<Figure size 432x288 with 1 Axes>"
      ]
     },
     "metadata": {},
     "output_type": "display_data"
    }
   ],
   "source": [
    "#finding outliers\n",
    "sns.set_theme(style=\"ticks\")\n",
    "sns.boxplot(y='Value', data=fao)"
   ]
  },
  {
   "cell_type": "code",
   "execution_count": 90,
   "metadata": {},
   "outputs": [
    {
     "data": {
      "text/html": [
       "<div>\n",
       "<style scoped>\n",
       "    .dataframe tbody tr th:only-of-type {\n",
       "        vertical-align: middle;\n",
       "    }\n",
       "\n",
       "    .dataframe tbody tr th {\n",
       "        vertical-align: top;\n",
       "    }\n",
       "\n",
       "    .dataframe thead th {\n",
       "        text-align: right;\n",
       "    }\n",
       "</style>\n",
       "<table border=\"1\" class=\"dataframe\">\n",
       "  <thead>\n",
       "    <tr style=\"text-align: right;\">\n",
       "      <th></th>\n",
       "      <th>Domain Code</th>\n",
       "      <th>Domain</th>\n",
       "      <th>Area Code</th>\n",
       "      <th>Area</th>\n",
       "      <th>Element Code</th>\n",
       "      <th>Element</th>\n",
       "      <th>Item Code</th>\n",
       "      <th>Item</th>\n",
       "      <th>Year Code</th>\n",
       "      <th>Year</th>\n",
       "      <th>Unit</th>\n",
       "      <th>Value</th>\n",
       "      <th>Flag</th>\n",
       "      <th>Flag Description</th>\n",
       "      <th>Value_log</th>\n",
       "    </tr>\n",
       "  </thead>\n",
       "  <tbody>\n",
       "    <tr>\n",
       "      <th>0</th>\n",
       "      <td>RFN</td>\n",
       "      <td>Fertilizers by Nutrient</td>\n",
       "      <td>165</td>\n",
       "      <td>Pakistan</td>\n",
       "      <td>5157</td>\n",
       "      <td>Agricultural Use</td>\n",
       "      <td>3102</td>\n",
       "      <td>Nutrient nitrogen N (total)</td>\n",
       "      <td>1961</td>\n",
       "      <td>1961</td>\n",
       "      <td>tonnes</td>\n",
       "      <td>41659</td>\n",
       "      <td>Qm</td>\n",
       "      <td>Official data from questionnaires and/or natio...</td>\n",
       "      <td>10.637273</td>\n",
       "    </tr>\n",
       "    <tr>\n",
       "      <th>1</th>\n",
       "      <td>RFN</td>\n",
       "      <td>Fertilizers by Nutrient</td>\n",
       "      <td>165</td>\n",
       "      <td>Pakistan</td>\n",
       "      <td>5157</td>\n",
       "      <td>Agricultural Use</td>\n",
       "      <td>3103</td>\n",
       "      <td>Nutrient phosphate P2O5 (total)</td>\n",
       "      <td>1961</td>\n",
       "      <td>1961</td>\n",
       "      <td>tonnes</td>\n",
       "      <td>500</td>\n",
       "      <td>Qm</td>\n",
       "      <td>Official data from questionnaires and/or natio...</td>\n",
       "      <td>6.214608</td>\n",
       "    </tr>\n",
       "    <tr>\n",
       "      <th>2</th>\n",
       "      <td>RFN</td>\n",
       "      <td>Fertilizers by Nutrient</td>\n",
       "      <td>165</td>\n",
       "      <td>Pakistan</td>\n",
       "      <td>5157</td>\n",
       "      <td>Agricultural Use</td>\n",
       "      <td>3103</td>\n",
       "      <td>Nutrient phosphate P2O5 (total)</td>\n",
       "      <td>1962</td>\n",
       "      <td>1962</td>\n",
       "      <td>tonnes</td>\n",
       "      <td>210</td>\n",
       "      <td>Qm</td>\n",
       "      <td>Official data from questionnaires and/or natio...</td>\n",
       "      <td>5.347108</td>\n",
       "    </tr>\n",
       "    <tr>\n",
       "      <th>3</th>\n",
       "      <td>RFN</td>\n",
       "      <td>Fertilizers by Nutrient</td>\n",
       "      <td>165</td>\n",
       "      <td>Pakistan</td>\n",
       "      <td>5157</td>\n",
       "      <td>Agricultural Use</td>\n",
       "      <td>3102</td>\n",
       "      <td>Nutrient nitrogen N (total)</td>\n",
       "      <td>1962</td>\n",
       "      <td>1962</td>\n",
       "      <td>tonnes</td>\n",
       "      <td>41160</td>\n",
       "      <td>Qm</td>\n",
       "      <td>Official data from questionnaires and/or natio...</td>\n",
       "      <td>10.625222</td>\n",
       "    </tr>\n",
       "    <tr>\n",
       "      <th>4</th>\n",
       "      <td>RFN</td>\n",
       "      <td>Fertilizers by Nutrient</td>\n",
       "      <td>165</td>\n",
       "      <td>Pakistan</td>\n",
       "      <td>5157</td>\n",
       "      <td>Agricultural Use</td>\n",
       "      <td>3102</td>\n",
       "      <td>Nutrient nitrogen N (total)</td>\n",
       "      <td>1963</td>\n",
       "      <td>1963</td>\n",
       "      <td>tonnes</td>\n",
       "      <td>67620</td>\n",
       "      <td>Qm</td>\n",
       "      <td>Official data from questionnaires and/or natio...</td>\n",
       "      <td>11.121659</td>\n",
       "    </tr>\n",
       "  </tbody>\n",
       "</table>\n",
       "</div>"
      ],
      "text/plain": [
       "  Domain Code                   Domain  Area Code      Area  Element Code  \\\n",
       "0         RFN  Fertilizers by Nutrient        165  Pakistan          5157   \n",
       "1         RFN  Fertilizers by Nutrient        165  Pakistan          5157   \n",
       "2         RFN  Fertilizers by Nutrient        165  Pakistan          5157   \n",
       "3         RFN  Fertilizers by Nutrient        165  Pakistan          5157   \n",
       "4         RFN  Fertilizers by Nutrient        165  Pakistan          5157   \n",
       "\n",
       "            Element  Item Code                             Item  Year Code  \\\n",
       "0  Agricultural Use       3102      Nutrient nitrogen N (total)       1961   \n",
       "1  Agricultural Use       3103  Nutrient phosphate P2O5 (total)       1961   \n",
       "2  Agricultural Use       3103  Nutrient phosphate P2O5 (total)       1962   \n",
       "3  Agricultural Use       3102      Nutrient nitrogen N (total)       1962   \n",
       "4  Agricultural Use       3102      Nutrient nitrogen N (total)       1963   \n",
       "\n",
       "   Year    Unit  Value Flag  \\\n",
       "0  1961  tonnes  41659   Qm   \n",
       "1  1961  tonnes    500   Qm   \n",
       "2  1962  tonnes    210   Qm   \n",
       "3  1962  tonnes  41160   Qm   \n",
       "4  1963  tonnes  67620   Qm   \n",
       "\n",
       "                                    Flag Description  Value_log  \n",
       "0  Official data from questionnaires and/or natio...  10.637273  \n",
       "1  Official data from questionnaires and/or natio...   6.214608  \n",
       "2  Official data from questionnaires and/or natio...   5.347108  \n",
       "3  Official data from questionnaires and/or natio...  10.625222  \n",
       "4  Official data from questionnaires and/or natio...  11.121659  "
      ]
     },
     "execution_count": 90,
     "metadata": {},
     "output_type": "execute_result"
    }
   ],
   "source": [
    "#log transformation\n",
    "fao['Value_log']=np.log(fao['Value'])\n",
    "fao.head()"
   ]
  },
  {
   "cell_type": "code",
   "execution_count": 91,
   "metadata": {},
   "outputs": [
    {
     "data": {
      "text/plain": [
       "<AxesSubplot:ylabel='Value_log'>"
      ]
     },
     "execution_count": 91,
     "metadata": {},
     "output_type": "execute_result"
    },
    {
     "data": {
      "image/png": "[encoded data removed]",
      "text/plain": [
       "<Figure size 432x288 with 1 Axes>"
      ]
     },
     "metadata": {},
     "output_type": "display_data"
    }
   ],
   "source": [
    "#finding outliers\n",
    "sns.set_theme(style=\"ticks\")\n",
    "sns.boxplot(y='Value_log', data=fao)"
   ]
  },
  {
   "cell_type": "code",
   "execution_count": 92,
   "metadata": {},
   "outputs": [
    {
     "data": {
      "text/plain": [
       "<AxesSubplot:ylabel='Value_log'>"
      ]
     },
     "execution_count": 92,
     "metadata": {},
     "output_type": "execute_result"
    },
    {
     "data": {
      "image/png": "[encoded data removed]",
      "text/plain": [
       "<Figure size 432x288 with 1 Axes>"
      ]
     },
     "metadata": {},
     "output_type": "display_data"
    }
   ],
   "source": [
    "fao = fao[fao['Value_log']>6.3]\n",
    "sns.boxplot(y='Value_log', data=fao)"
   ]
  },
  {
   "cell_type": "code",
   "execution_count": 93,
   "metadata": {},
   "outputs": [
    {
     "data": {
      "text/plain": [
       "<AxesSubplot:>"
      ]
     },
     "execution_count": 93,
     "metadata": {},
     "output_type": "execute_result"
    },
    {
     "data": {
      "image/png": "[encoded data removed]",
      "text/plain": [
       "<Figure size 432x288 with 1 Axes>"
      ]
     },
     "metadata": {},
     "output_type": "display_data"
    }
   ],
   "source": [
    "fao.boxplot()"
   ]
  },
  {
   "cell_type": "code",
   "execution_count": 94,
   "metadata": {},
   "outputs": [
    {
     "data": {
      "text/plain": [
       "array([[<AxesSubplot:title={'center':'Area Code'}>,\n",
       "        <AxesSubplot:title={'center':'Element Code'}>,\n",
       "        <AxesSubplot:title={'center':'Item Code'}>],\n",
       "       [<AxesSubplot:title={'center':'Year Code'}>,\n",
       "        <AxesSubplot:title={'center':'Year'}>,\n",
       "        <AxesSubplot:title={'center':'Value'}>],\n",
       "       [<AxesSubplot:title={'center':'Value_log'}>, <AxesSubplot:>,\n",
       "        <AxesSubplot:>]], dtype=object)"
      ]
     },
     "execution_count": 94,
     "metadata": {},
     "output_type": "execute_result"
    },
    {
     "data": {
      "image/png": "[encoded data removed]",
      "text/plain": [
       "<Figure size 432x288 with 9 Axes>"
      ]
     },
     "metadata": {},
     "output_type": "display_data"
    }
   ],
   "source": [
    "fao.hist()"
   ]
  },
  {
   "cell_type": "code",
   "execution_count": 97,
   "metadata": {},
   "outputs": [
    {
     "data": {
      "text/plain": [
       "<AxesSubplot:>"
      ]
     },
     "execution_count": 97,
     "metadata": {},
     "output_type": "execute_result"
    },
    {
     "data": {
      "image/png": "[encoded data removed]",
      "text/plain": [
       "<Figure size 432x288 with 1 Axes>"
      ]
     },
     "metadata": {},
     "output_type": "display_data"
    }
   ],
   "source": [
    "pd.value_counts(fao['Item']).plot.bar()"
   ]
  },
  {
   "cell_type": "code",
   "execution_count": 98,
   "metadata": {},
   "outputs": [
    {
     "data": {
      "text/html": [
       "<div>\n",
       "<style scoped>\n",
       "    .dataframe tbody tr th:only-of-type {\n",
       "        vertical-align: middle;\n",
       "    }\n",
       "\n",
       "    .dataframe tbody tr th {\n",
       "        vertical-align: top;\n",
       "    }\n",
       "\n",
       "    .dataframe thead th {\n",
       "        text-align: right;\n",
       "    }\n",
       "</style>\n",
       "<table border=\"1\" class=\"dataframe\">\n",
       "  <thead>\n",
       "    <tr style=\"text-align: right;\">\n",
       "      <th></th>\n",
       "      <th></th>\n",
       "      <th>Area Code</th>\n",
       "      <th>Element Code</th>\n",
       "      <th>Item Code</th>\n",
       "      <th>Year Code</th>\n",
       "      <th>Year</th>\n",
       "      <th>Value</th>\n",
       "      <th>Value_log</th>\n",
       "    </tr>\n",
       "    <tr>\n",
       "      <th>Item</th>\n",
       "      <th>Flag</th>\n",
       "      <th></th>\n",
       "      <th></th>\n",
       "      <th></th>\n",
       "      <th></th>\n",
       "      <th></th>\n",
       "      <th></th>\n",
       "      <th></th>\n",
       "    </tr>\n",
       "  </thead>\n",
       "  <tbody>\n",
       "    <tr>\n",
       "      <th>Nutrient nitrogen N (total)</th>\n",
       "      <th>Qm</th>\n",
       "      <td>165.0</td>\n",
       "      <td>5157.0</td>\n",
       "      <td>3102.0</td>\n",
       "      <td>1972.500000</td>\n",
       "      <td>1972.500000</td>\n",
       "      <td>424975.000000</td>\n",
       "      <td>12.573523</td>\n",
       "    </tr>\n",
       "    <tr>\n",
       "      <th rowspan=\"3\" valign=\"top\">Nutrient phosphate P2O5 (total)</th>\n",
       "      <th>Fb</th>\n",
       "      <td>165.0</td>\n",
       "      <td>5157.0</td>\n",
       "      <td>3103.0</td>\n",
       "      <td>2002.000000</td>\n",
       "      <td>2002.000000</td>\n",
       "      <td>647360.000000</td>\n",
       "      <td>13.380658</td>\n",
       "    </tr>\n",
       "    <tr>\n",
       "      <th>Qm</th>\n",
       "      <td>165.0</td>\n",
       "      <td>5157.0</td>\n",
       "      <td>3103.0</td>\n",
       "      <td>1988.760000</td>\n",
       "      <td>1988.760000</td>\n",
       "      <td>397630.120000</td>\n",
       "      <td>12.143610</td>\n",
       "    </tr>\n",
       "    <tr>\n",
       "      <th>X</th>\n",
       "      <td>165.0</td>\n",
       "      <td>5157.0</td>\n",
       "      <td>3103.0</td>\n",
       "      <td>1988.500000</td>\n",
       "      <td>1988.500000</td>\n",
       "      <td>345150.000000</td>\n",
       "      <td>12.721393</td>\n",
       "    </tr>\n",
       "    <tr>\n",
       "      <th rowspan=\"4\" valign=\"top\">Nutrient potash K2O (total)</th>\n",
       "      <th>Fm</th>\n",
       "      <td>165.0</td>\n",
       "      <td>5157.0</td>\n",
       "      <td>3104.0</td>\n",
       "      <td>2018.000000</td>\n",
       "      <td>2018.000000</td>\n",
       "      <td>54173.000000</td>\n",
       "      <td>10.899938</td>\n",
       "    </tr>\n",
       "    <tr>\n",
       "      <th>Qm</th>\n",
       "      <td>165.0</td>\n",
       "      <td>5157.0</td>\n",
       "      <td>3104.0</td>\n",
       "      <td>1992.734694</td>\n",
       "      <td>1992.734694</td>\n",
       "      <td>21490.489796</td>\n",
       "      <td>9.565416</td>\n",
       "    </tr>\n",
       "    <tr>\n",
       "      <th>W</th>\n",
       "      <td>165.0</td>\n",
       "      <td>5157.0</td>\n",
       "      <td>3104.0</td>\n",
       "      <td>2002.000000</td>\n",
       "      <td>2002.000000</td>\n",
       "      <td>20500.000000</td>\n",
       "      <td>9.928180</td>\n",
       "    </tr>\n",
       "    <tr>\n",
       "      <th>X</th>\n",
       "      <td>165.0</td>\n",
       "      <td>5157.0</td>\n",
       "      <td>3104.0</td>\n",
       "      <td>1998.000000</td>\n",
       "      <td>1998.000000</td>\n",
       "      <td>21200.000000</td>\n",
       "      <td>9.961756</td>\n",
       "    </tr>\n",
       "  </tbody>\n",
       "</table>\n",
       "</div>"
      ],
      "text/plain": [
       "                                      Area Code  Element Code  Item Code  \\\n",
       "Item                            Flag                                       \n",
       "Nutrient nitrogen N (total)     Qm        165.0        5157.0     3102.0   \n",
       "Nutrient phosphate P2O5 (total) Fb        165.0        5157.0     3103.0   \n",
       "                                Qm        165.0        5157.0     3103.0   \n",
       "                                X         165.0        5157.0     3103.0   \n",
       "Nutrient potash K2O (total)     Fm        165.0        5157.0     3104.0   \n",
       "                                Qm        165.0        5157.0     3104.0   \n",
       "                                W         165.0        5157.0     3104.0   \n",
       "                                X         165.0        5157.0     3104.0   \n",
       "\n",
       "                                        Year Code         Year          Value  \\\n",
       "Item                            Flag                                            \n",
       "Nutrient nitrogen N (total)     Qm    1972.500000  1972.500000  424975.000000   \n",
       "Nutrient phosphate P2O5 (total) Fb    2002.000000  2002.000000  647360.000000   \n",
       "                                Qm    1988.760000  1988.760000  397630.120000   \n",
       "                                X     1988.500000  1988.500000  345150.000000   \n",
       "Nutrient potash K2O (total)     Fm    2018.000000  2018.000000   54173.000000   \n",
       "                                Qm    1992.734694  1992.734694   21490.489796   \n",
       "                                W     2002.000000  2002.000000   20500.000000   \n",
       "                                X     1998.000000  1998.000000   21200.000000   \n",
       "\n",
       "                                      Value_log  \n",
       "Item                            Flag             \n",
       "Nutrient nitrogen N (total)     Qm    12.573523  \n",
       "Nutrient phosphate P2O5 (total) Fb    13.380658  \n",
       "                                Qm    12.143610  \n",
       "                                X     12.721393  \n",
       "Nutrient potash K2O (total)     Fm    10.899938  \n",
       "                                Qm     9.565416  \n",
       "                                W      9.928180  \n",
       "                                X      9.961756  "
      ]
     },
     "execution_count": 98,
     "metadata": {},
     "output_type": "execute_result"
    }
   ],
   "source": [
    "fao.groupby(['Item','Flag']).mean()"
   ]
  },
  {
   "cell_type": "code",
   "execution_count": 99,
   "metadata": {},
   "outputs": [],
   "source": [
    "corr_fao=fao.corr()"
   ]
  },
  {
   "cell_type": "code",
   "execution_count": 100,
   "metadata": {},
   "outputs": [
    {
     "data": {
      "text/plain": [
       "<AxesSubplot:>"
      ]
     },
     "execution_count": 100,
     "metadata": {},
     "output_type": "execute_result"
    },
    {
     "data": {
      "image/png": "[encoded data removed]",
      "text/plain": [
       "<Figure size 432x288 with 2 Axes>"
      ]
     },
     "metadata": {},
     "output_type": "display_data"
    }
   ],
   "source": [
    "sns.heatmap(corr_fao)\n",
    "# if vaule of a varaible is \"1\" and other variable is positive sign\n",
    "    #means they are directly proportional\n",
    "    # if vaule of a varaible is \"1\" and other variable is negative sign\n",
    "    #means they are inversely proportional"
   ]
  },
  {
   "cell_type": "code",
   "execution_count": 101,
   "metadata": {},
   "outputs": [
    {
     "data": {
      "text/plain": [
       "<AxesSubplot:>"
      ]
     },
     "execution_count": 101,
     "metadata": {},
     "output_type": "execute_result"
    },
    {
     "data": {
      "image/png": "[encoded data removed]",
      "text/plain": [
       "<Figure size 432x288 with 2 Axes>"
      ]
     },
     "metadata": {},
     "output_type": "display_data"
    }
   ],
   "source": [
    "sns.heatmap(corr_fao, annot=True)"
   ]
  },
  {
   "cell_type": "code",
   "execution_count": 102,
   "metadata": {},
   "outputs": [
    {
     "data": {
      "text/plain": [
       "<seaborn.axisgrid.FacetGrid at 0x28461dcdcc0>"
      ]
     },
     "execution_count": 102,
     "metadata": {},
     "output_type": "execute_result"
    },
    {
     "data": {
      "image/png": "[encoded data removed]",
      "text/plain": [
       "<Figure size 555.1x360 with 1 Axes>"
      ]
     },
     "metadata": {},
     "output_type": "display_data"
    }
   ],
   "source": [
    "sns.relplot(x='Year',y='Value', hue='Item', data=fao)"
   ]
  },
  {
   "cell_type": "code",
   "execution_count": null,
   "metadata": {},
   "outputs": [],
   "source": []
  }
 ],
 "metadata": {
  "interpreter": {
   "hash": "d406864f2ee78ecc67afccccd0a48c216f41ca3a0f9ca739a0b9d8b15ae422ba"
  },
  "kernelspec": {
   "display_name": "Python 3.10.1 64-bit",
   "language": "python",
   "name": "python3"
  },
  "language_info": {
   "codemirror_mode": {
    "name": "ipython",
    "version": 3
   },
   "file_extension": ".py",
   "mimetype": "text/x-python",
   "name": "python",
   "nbconvert_exporter": "python",
   "pygments_lexer": "ipython3",
   "version": "3.10.1"
  },
  "orig_nbformat": 4
 },
 "nbformat": 4,
 "nbformat_minor": 2
}
